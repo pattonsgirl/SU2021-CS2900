{
 "metadata": {
  "language_info": {
   "codemirror_mode": {
    "name": "ipython",
    "version": 3
   },
   "file_extension": ".py",
   "mimetype": "text/x-python",
   "name": "python",
   "nbconvert_exporter": "python",
   "pygments_lexer": "ipython3",
   "version": "3.8.5"
  },
  "orig_nbformat": 2,
  "kernelspec": {
   "name": "python385jvsc74a57bd0b3ba2566441a7c06988d0923437866b63cedc61552a5af99d1f4fb67d367b25f",
   "display_name": "Python 3.8.5 64-bit ('base': conda)"
  }
 },
 "nbformat": 4,
 "nbformat_minor": 2,
 "cells": [
  {
   "cell_type": "code",
   "execution_count": null,
   "metadata": {},
   "outputs": [],
   "source": [
    "# play with a single ip to see what it looks like\n",
    "# https://www.nylas.com/blog/use-python-requests-module-rest-apis/\n",
    "import requests\n",
    "\n",
    "ip_variable = \"115.56.115.248\"\n",
    "\n",
    "response = requests.get(\"https://ipinfo.io/\"+ip_variable)\n",
    "\n",
    "# response holds all that came back from request\n",
    "print(response)\n",
    "print(response.json())\n",
    "\n",
    "# get the location key value\n",
    "loc = response.json()['loc']\n",
    "# since this isn't a list, I need to break this up\n",
    "print(loc)\n",
    "#print(type(loc))\n",
    "print(loc.split(\",\"))\n",
    "lat = loc.split(\",\")[0]\n",
    "lon = loc.split(\",\")[1]\n",
    "\n",
    "# scattergeo will need floats in the end, don't forget to convert!\n",
    "print(float(lat))\n",
    "print(float(lon))"
   ]
  },
  {
   "cell_type": "code",
   "execution_count": 24,
   "metadata": {
    "tags": []
   },
   "outputs": [
    {
     "output_type": "stream",
     "name": "stdout",
     "text": [
      "['108.222.118.252', '108.222.118.252', '108.222.118.252', '106.55.241.103', '121.4.55.87', '103.205.68.2', '167.172.207.63', '141.98.10.193', '141.98.10.193', '141.98.10.193']\n",
      "652\n",
      "39.6895,-84.1688\n",
      "39.6895,-84.1688\n",
      "39.6895,-84.1688\n",
      "39.9075,116.3972\n",
      "31.2222,121.4581\n",
      "23.7104,90.4074\n",
      "37.3483,-121.9844\n",
      "54.6892,25.2798\n",
      "54.6892,25.2798\n",
      "54.6892,25.2798\n",
      "54.6892,25.2798\n",
      "36.1750,-115.1372\n",
      "36.1750,-115.1372\n",
      "36.1750,-115.1372\n",
      "36.1750,-115.1372\n",
      "36.1750,-115.1372\n",
      "36.1750,-115.1372\n",
      "36.1750,-115.1372\n",
      "36.1750,-115.1372\n",
      "36.1750,-115.1372\n",
      "[39.6895, 39.6895, 39.6895, 39.9075, 31.2222, 23.7104, 37.3483, 54.6892, 54.6892, 54.6892]\n",
      "[-84.1688, -84.1688, -84.1688, 116.3972, 121.4581, 90.4074, -121.9844, 25.2798, 25.2798, 25.2798]\n"
     ]
    }
   ],
   "source": [
    "import csv\r\n",
    "import time\r\n",
    "\r\n",
    "# putting the usernames and ips into a list so I can use them later\r\n",
    "with open(\"data/auth.logs.csv\", 'r') as f:\r\n",
    "    reader = csv.reader(f)\r\n",
    "    usernames, ips = [], []\r\n",
    "\r\n",
    "    for row in reader:\r\n",
    "        usernames.append(row[0].strip())\r\n",
    "        ips.append(row[1].strip())\r\n",
    "\r\n",
    "# print first 10 as proof\r\n",
    "print(ips[:10])\r\n",
    "print(len(ips))\r\n",
    "\r\n",
    "lats, lons = [],[]\r\n",
    "\r\n",
    "for ip in ips[:20]:\r\n",
    "    # need to slow down API requests\r\n",
    "    time.sleep(1)\r\n",
    "\r\n",
    "    response = requests.get(\"https://ipinfo.io/\"+ip)\r\n",
    "\r\n",
    "    loc = response.json()['loc']\r\n",
    "    print(loc)\r\n",
    "    lats.append(float(loc.split(\",\")[0]))\r\n",
    "    lons.append(float(loc.split(\",\")[1]))\r\n",
    "\r\n",
    "print(lats[:10])\r\n",
    "print(lons[:10])"
   ]
  },
  {
   "cell_type": "code",
   "execution_count": 23,
   "metadata": {},
   "outputs": [
    {
     "output_type": "execute_result",
     "data": {
      "text/plain": [
       "'ip-sources.html'"
      ]
     },
     "metadata": {},
     "execution_count": 23
    }
   ],
   "source": [
    "from plotly.graph_objs import Scattergeo, Layout\n",
    "from plotly import offline\n",
    "\n",
    "data = [{\n",
    "    'type': 'scattergeo',\n",
    "    'lon': lons,\n",
    "    'lat': lats,\n",
    "    'marker': {\n",
    "        'colorscale': 'Viridis',\n",
    "        'reversescale': True,\n",
    "    },\n",
    "}]\n",
    "\n",
    "figure_layout = Layout(title='IP Sources')\n",
    "\n",
    "fig = {\n",
    "    'data': data, \n",
    "    'layout': figure_layout\n",
    "}\n",
    "\n",
    "offline.plot(fig, filename='ip-sources.html')"
   ]
  },
  {
   "cell_type": "code",
   "execution_count": null,
   "metadata": {},
   "outputs": [],
   "source": []
  }
 ]
}
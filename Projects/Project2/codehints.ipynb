{
 "cells": [
  {
   "cell_type": "code",
   "execution_count": null,
   "source": [
    "import pandas as pd\r\n",
    "import numpy as np"
   ],
   "outputs": [],
   "metadata": {}
  },
  {
   "cell_type": "code",
   "execution_count": null,
   "source": [
    "# looking at the data\r\n",
    "\r\n",
    "# once you read in the data, don't just look at the row.  Big hint, the ids are actually the /same/ but \"different\".  \r\n",
    "# One has the IDs in caps, the other in lowercase.\r\n",
    "# Pick one (upper or lower) and convert the column in the non-matching dataset and convert to upper (or lower)\r\n",
    "# then move on to your merge"
   ],
   "outputs": [],
   "metadata": {}
  },
  {
   "cell_type": "code",
   "execution_count": null,
   "source": [
    "# from exercise set 7 - how to merge two data sets\r\n",
    "\r\n",
    "abbrevs = pd.read_csv(\"https://raw.githubusercontent.com/jakevdp/data-USstates/master/state-abbrevs.csv\")\r\n",
    "info = pd.read_csv(\"https://raw.githubusercontent.com/jakevdp/data-USstates/master/state-population.csv\")\r\n",
    "print(abbrevs.columns)\r\n",
    "print(info.columns)\r\n",
    "\r\n",
    "# for Project 2, you shouldn't need to specify \"how\", but you will need left_on and right_on\r\n",
    "# this is a great reference for expaining when to pull in \"how\" and what it does:\r\n",
    "#   https://stackoverflow.com/questions/53645882/pandas-merging-101\r\n",
    "merged = pd.merge(info, abbrevs, how='outer', left_on='state/region',  right_on='abbreviation')\r\n",
    "merged = merged.drop(columns=['abbreviation'])\r\n",
    "\r\n",
    "print(merged)"
   ],
   "outputs": [],
   "metadata": {}
  },
  {
   "cell_type": "markdown",
   "source": [
    "## Formulas\r\n",
    "\r\n",
    "- Calculate score (ie. homework score)\r\n",
    "    - `df['hw1_score'] = df['Homework 1'] / df['Homework 1 - Max Points'] # you decide if you want to multiply by 100 or not`\r\n",
    "- Calculate average homework score:\r\n",
    "    - `homework_scores = df.filter(regex=r\"^hw\", axis=1)`\r\n",
    "    - This is a regex filter that uses the column names.  What I have said here is I want all columns that start with 'hw'\r\n",
    "    - Because my naming convention for homework scores was for example 'hw1_score'\r\n",
    "    - `df['hw_avg'] = homework_scores.mean(axis=1)`\r\n",
    "    - Give me the mean of the homeworks NOT by column, but by row.  Column gets me info about the individual homework assignments\r\n",
    "    - I want the average homework score for each student, which means I need to use the row\r\n",
    "- Calculate the final score, where homeworks are worth 60% of the final grade and exams are worth 40% of the final grade\r\n",
    "    - `df['final_score'] = (df['hw_avg'] * .6) + (df['ex_avg'] * .4)`\r\n",
    "    - For ease of coding, make sure your score looks like ##.##### (instead of 0.#####) - in other words, * 100 if needed\r\n",
    "    \r\n"
   ],
   "metadata": {}
  },
  {
   "cell_type": "markdown",
   "source": [
    "## Understanding axis manipulation:\r\n",
    "- Visualization: https://railsware.com/blog/python-for-machine-learning-pandas-axis-explained/ \r\n",
    "- axis = 0 is the default.  Lets use the data we're working with as an example.\r\n",
    "- To get the mean score for homework 1, you would use something like dataframe[Homework1].mean()  axis=0 is the default, and would take the values in all the rows for the column name Homework1\r\n",
    "- When you change the axis to 1  (assume Bob is a student, and we'll go ahead and say he's at index 0) you can't get the mean of all students homework, you can get bob's homework scores - the action here will take place across the columns.\r\n",
    "- If you're going off my hints, I create a frame that is a filtered version of the main frame - I want just the columns that contain homework scores.   \r\n",
    "    - You don't /have/ to use a filter, there are plenty of ways to select those columns\r\n",
    "- But I want bob's average homework score.  For bob's scores, I need to get the mean across the columns of homework score data.  Which would look like (assuming you filtered it to just homework scores): homeworkframe.mean(axis=1)  I can save that result in a new column in my dataframe so I can use it later\r\n",
    "- To really see it in action, use some print statements and do same calculations manually.  This helps confirm you're getting what you want."
   ],
   "metadata": {}
  },
  {
   "cell_type": "code",
   "execution_count": null,
   "source": [
    "# find how many got a certain score psuedocode - a way, not the only way\r\n",
    "# my thoughts: we need to \"bin\" the final score data, kind of like a histogram.  And if a histogram can \"just do it\", then there must be \r\n",
    "#   functions that will get a dataframe into bins\r\n",
    "# https://www.reddit.com/r/learnpython/comments/73z4e2/pandas_groupby_or_cut_dataframe_to_bins/\r\n",
    "\r\n",
    "# create a list of bins that \"categorize\" grade ranges (so if you know 0 - 60 if an F, then there is a bin, then to 70 is a C, there's a bin)\r\n",
    "# Sample: categories = [0, 100, 250, 1500]\r\n",
    "# create a series that will use the ranges to determine what range matches up given the final score\r\n",
    "# Sample: binned = pd.cut(df['Value'], categories)\r\n",
    "# use groupby to get counts of category matchups to get how many made each category of final score\r\n",
    "# Sample: df.groupby(binned)['Value'].agg(['count'])\r\n"
   ],
   "outputs": [],
   "metadata": {}
  },
  {
   "cell_type": "code",
   "execution_count": null,
   "source": [
    "# find letter grade psuedo code - a way, not the only way\r\n",
    "\r\n",
    "# create a list to store results\r\n",
    "\r\n",
    "# create a for loop that will get all values of final calculated grades (so all it need is the one column)\r\n",
    "    # print that column (at first), build some confidence\r\n",
    "    # create an if / elif / else series, where the condition if the numeric score needed\r\n",
    "        # if numeric score was met, append the corresponding letter grade to the list\r\n",
    "# append list to dataframe using: df['new_col_name'] = list_name\r\n",
    "\r\n",
    "# once you have this info, using groupby section and letter grade then doing a value counts is easy street"
   ],
   "outputs": [],
   "metadata": {}
  }
 ],
 "metadata": {
  "orig_nbformat": 4,
  "language_info": {
   "name": "python"
  }
 },
 "nbformat": 4,
 "nbformat_minor": 2
}
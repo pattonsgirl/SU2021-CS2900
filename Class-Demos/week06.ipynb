{
 "metadata": {
  "language_info": {
   "codemirror_mode": {
    "name": "ipython",
    "version": 3
   },
   "file_extension": ".py",
   "mimetype": "text/x-python",
   "name": "python",
   "nbconvert_exporter": "python",
   "pygments_lexer": "ipython3",
   "version": "3.8.5"
  },
  "orig_nbformat": 2,
  "kernelspec": {
   "name": "python385jvsc74a57bd0b3ba2566441a7c06988d0923437866b63cedc61552a5af99d1f4fb67d367b25f",
   "display_name": "Python 3.8.5 64-bit ('base': conda)"
  }
 },
 "nbformat": 4,
 "nbformat_minor": 2,
 "cells": [
  {
   "source": [
    "## Week 06\n",
    "\n",
    "- 6/14: moved weather plot in-class project to week06-tempplot.py\n",
    "- 6/16: scatter plot of earthquakes on a global map.  Broken into cells while playing with plotly and the data set\n",
    "    - remainder of demo is in week06-eqplot.py"
   ],
   "cell_type": "markdown",
   "metadata": {}
  },
  {
   "cell_type": "code",
   "execution_count": 15,
   "metadata": {},
   "outputs": [],
   "source": [
    "# make sure ploty and scattergeo are installed and good to go\n",
    "# install with \"conda install -c plotly plotly=4.14.3\" in powershell as admin for Windows users, else as sudo Linux / Mac / WSL2\n",
    "from plotly.graph_objs import Scattergeo, Layout"
   ]
  },
  {
   "cell_type": "code",
   "execution_count": 5,
   "metadata": {},
   "outputs": [
    {
     "output_type": "display_data",
     "data": {
      "application/vnd.plotly.v1+json": {
       "config": {
        "plotlyServerURL": "https://plot.ly"
       },
       "data": [
        {
         "geo": "geo",
         "hovertemplate": "pop=%{marker.size}<br>iso_alpha=%{location}<extra></extra>",
         "legendgroup": "",
         "locations": [
          "AFG",
          "ALB",
          "DZA",
          "AGO",
          "ARG",
          "AUS",
          "AUT",
          "BHR",
          "BGD",
          "BEL",
          "BEN",
          "BOL",
          "BIH",
          "BWA",
          "BRA",
          "BGR",
          "BFA",
          "BDI",
          "KHM",
          "CMR",
          "CAN",
          "CAF",
          "TCD",
          "CHL",
          "CHN",
          "COL",
          "COM",
          "COD",
          "COG",
          "CRI",
          "CIV",
          "HRV",
          "CUB",
          "CZE",
          "DNK",
          "DJI",
          "DOM",
          "ECU",
          "EGY",
          "SLV",
          "GNQ",
          "ERI",
          "ETH",
          "FIN",
          "FRA",
          "GAB",
          "GMB",
          "DEU",
          "GHA",
          "GRC",
          "GTM",
          "GIN",
          "GNB",
          "HTI",
          "HND",
          "HKG",
          "HUN",
          "ISL",
          "IND",
          "IDN",
          "IRN",
          "IRQ",
          "IRL",
          "ISR",
          "ITA",
          "JAM",
          "JPN",
          "JOR",
          "KEN",
          "KOR",
          "KOR",
          "KWT",
          "LBN",
          "LSO",
          "LBR",
          "LBY",
          "MDG",
          "MWI",
          "MYS",
          "MLI",
          "MRT",
          "MUS",
          "MEX",
          "MNG",
          "MNE",
          "MAR",
          "MOZ",
          "MMR",
          "NAM",
          "NPL",
          "NLD",
          "NZL",
          "NIC",
          "NER",
          "NGA",
          "NOR",
          "OMN",
          "PAK",
          "PAN",
          "PRY",
          "PER",
          "PHL",
          "POL",
          "PRT",
          "PRI",
          "REU",
          "ROU",
          "RWA",
          "STP",
          "SAU",
          "SEN",
          "SRB",
          "SLE",
          "SGP",
          "SVK",
          "SVN",
          "SOM",
          "ZAF",
          "ESP",
          "LKA",
          "SDN",
          "SWZ",
          "SWE",
          "CHE",
          "SYR",
          "TWN",
          "TZA",
          "THA",
          "TGO",
          "TTO",
          "TUN",
          "TUR",
          "UGA",
          "GBR",
          "USA",
          "URY",
          "VEN",
          "VNM",
          "PSE",
          "YEM",
          "ZMB",
          "ZWE"
         ],
         "marker": {
          "color": "#636efa",
          "size": [
           31889923,
           3600523,
           33333216,
           12420476,
           40301927,
           20434176,
           8199783,
           708573,
           150448339,
           10392226,
           8078314,
           9119152,
           4552198,
           1639131,
           190010647,
           7322858,
           14326203,
           8390505,
           14131858,
           17696293,
           33390141,
           4369038,
           10238807,
           16284741,
           1318683096,
           44227550,
           710960,
           64606759,
           3800610,
           4133884,
           18013409,
           4493312,
           11416987,
           10228744,
           5468120,
           496374,
           9319622,
           13755680,
           80264543,
           6939688,
           551201,
           4906585,
           76511887,
           5238460,
           61083916,
           1454867,
           1688359,
           82400996,
           22873338,
           10706290,
           12572928,
           9947814,
           1472041,
           8502814,
           7483763,
           6980412,
           9956108,
           301931,
           1110396331,
           223547000,
           69453570,
           27499638,
           4109086,
           6426679,
           58147733,
           2780132,
           127467972,
           6053193,
           35610177,
           23301725,
           49044790,
           2505559,
           3921278,
           2012649,
           3193942,
           6036914,
           19167654,
           13327079,
           24821286,
           12031795,
           3270065,
           1250882,
           108700891,
           2874127,
           684736,
           33757175,
           19951656,
           47761980,
           2055080,
           28901790,
           16570613,
           4115771,
           5675356,
           12894865,
           135031164,
           4627926,
           3204897,
           169270617,
           3242173,
           6667147,
           28674757,
           91077287,
           38518241,
           10642836,
           3942491,
           798094,
           22276056,
           8860588,
           199579,
           27601038,
           12267493,
           10150265,
           6144562,
           4553009,
           5447502,
           2009245,
           9118773,
           43997828,
           40448191,
           20378239,
           42292929,
           1133066,
           9031088,
           7554661,
           19314747,
           23174294,
           38139640,
           65068149,
           5701579,
           1056608,
           10276158,
           71158647,
           29170398,
           60776238,
           301139947,
           3447496,
           26084662,
           85262356,
           4018332,
           22211743,
           11746035,
           12311143
          ],
          "sizemode": "area",
          "sizeref": 3296707.74,
          "symbol": "circle"
         },
         "mode": "markers",
         "name": "",
         "showlegend": false,
         "type": "scattergeo"
        }
       ],
       "layout": {
        "geo": {
         "center": {},
         "domain": {
          "x": [
           0,
           1
          ],
          "y": [
           0,
           1
          ]
         }
        },
        "legend": {
         "itemsizing": "constant",
         "tracegroupgap": 0
        },
        "margin": {
         "t": 60
        },
        "template": {
         "data": {
          "bar": [
           {
            "error_x": {
             "color": "#2a3f5f"
            },
            "error_y": {
             "color": "#2a3f5f"
            },
            "marker": {
             "line": {
              "color": "#E5ECF6",
              "width": 0.5
             }
            },
            "type": "bar"
           }
          ],
          "barpolar": [
           {
            "marker": {
             "line": {
              "color": "#E5ECF6",
              "width": 0.5
             }
            },
            "type": "barpolar"
           }
          ],
          "carpet": [
           {
            "aaxis": {
             "endlinecolor": "#2a3f5f",
             "gridcolor": "white",
             "linecolor": "white",
             "minorgridcolor": "white",
             "startlinecolor": "#2a3f5f"
            },
            "baxis": {
             "endlinecolor": "#2a3f5f",
             "gridcolor": "white",
             "linecolor": "white",
             "minorgridcolor": "white",
             "startlinecolor": "#2a3f5f"
            },
            "type": "carpet"
           }
          ],
          "choropleth": [
           {
            "colorbar": {
             "outlinewidth": 0,
             "ticks": ""
            },
            "type": "choropleth"
           }
          ],
          "contour": [
           {
            "colorbar": {
             "outlinewidth": 0,
             "ticks": ""
            },
            "colorscale": [
             [
              0,
              "#0d0887"
             ],
             [
              0.1111111111111111,
              "#46039f"
             ],
             [
              0.2222222222222222,
              "#7201a8"
             ],
             [
              0.3333333333333333,
              "#9c179e"
             ],
             [
              0.4444444444444444,
              "#bd3786"
             ],
             [
              0.5555555555555556,
              "#d8576b"
             ],
             [
              0.6666666666666666,
              "#ed7953"
             ],
             [
              0.7777777777777778,
              "#fb9f3a"
             ],
             [
              0.8888888888888888,
              "#fdca26"
             ],
             [
              1,
              "#f0f921"
             ]
            ],
            "type": "contour"
           }
          ],
          "contourcarpet": [
           {
            "colorbar": {
             "outlinewidth": 0,
             "ticks": ""
            },
            "type": "contourcarpet"
           }
          ],
          "heatmap": [
           {
            "colorbar": {
             "outlinewidth": 0,
             "ticks": ""
            },
            "colorscale": [
             [
              0,
              "#0d0887"
             ],
             [
              0.1111111111111111,
              "#46039f"
             ],
             [
              0.2222222222222222,
              "#7201a8"
             ],
             [
              0.3333333333333333,
              "#9c179e"
             ],
             [
              0.4444444444444444,
              "#bd3786"
             ],
             [
              0.5555555555555556,
              "#d8576b"
             ],
             [
              0.6666666666666666,
              "#ed7953"
             ],
             [
              0.7777777777777778,
              "#fb9f3a"
             ],
             [
              0.8888888888888888,
              "#fdca26"
             ],
             [
              1,
              "#f0f921"
             ]
            ],
            "type": "heatmap"
           }
          ],
          "heatmapgl": [
           {
            "colorbar": {
             "outlinewidth": 0,
             "ticks": ""
            },
            "colorscale": [
             [
              0,
              "#0d0887"
             ],
             [
              0.1111111111111111,
              "#46039f"
             ],
             [
              0.2222222222222222,
              "#7201a8"
             ],
             [
              0.3333333333333333,
              "#9c179e"
             ],
             [
              0.4444444444444444,
              "#bd3786"
             ],
             [
              0.5555555555555556,
              "#d8576b"
             ],
             [
              0.6666666666666666,
              "#ed7953"
             ],
             [
              0.7777777777777778,
              "#fb9f3a"
             ],
             [
              0.8888888888888888,
              "#fdca26"
             ],
             [
              1,
              "#f0f921"
             ]
            ],
            "type": "heatmapgl"
           }
          ],
          "histogram": [
           {
            "marker": {
             "colorbar": {
              "outlinewidth": 0,
              "ticks": ""
             }
            },
            "type": "histogram"
           }
          ],
          "histogram2d": [
           {
            "colorbar": {
             "outlinewidth": 0,
             "ticks": ""
            },
            "colorscale": [
             [
              0,
              "#0d0887"
             ],
             [
              0.1111111111111111,
              "#46039f"
             ],
             [
              0.2222222222222222,
              "#7201a8"
             ],
             [
              0.3333333333333333,
              "#9c179e"
             ],
             [
              0.4444444444444444,
              "#bd3786"
             ],
             [
              0.5555555555555556,
              "#d8576b"
             ],
             [
              0.6666666666666666,
              "#ed7953"
             ],
             [
              0.7777777777777778,
              "#fb9f3a"
             ],
             [
              0.8888888888888888,
              "#fdca26"
             ],
             [
              1,
              "#f0f921"
             ]
            ],
            "type": "histogram2d"
           }
          ],
          "histogram2dcontour": [
           {
            "colorbar": {
             "outlinewidth": 0,
             "ticks": ""
            },
            "colorscale": [
             [
              0,
              "#0d0887"
             ],
             [
              0.1111111111111111,
              "#46039f"
             ],
             [
              0.2222222222222222,
              "#7201a8"
             ],
             [
              0.3333333333333333,
              "#9c179e"
             ],
             [
              0.4444444444444444,
              "#bd3786"
             ],
             [
              0.5555555555555556,
              "#d8576b"
             ],
             [
              0.6666666666666666,
              "#ed7953"
             ],
             [
              0.7777777777777778,
              "#fb9f3a"
             ],
             [
              0.8888888888888888,
              "#fdca26"
             ],
             [
              1,
              "#f0f921"
             ]
            ],
            "type": "histogram2dcontour"
           }
          ],
          "mesh3d": [
           {
            "colorbar": {
             "outlinewidth": 0,
             "ticks": ""
            },
            "type": "mesh3d"
           }
          ],
          "parcoords": [
           {
            "line": {
             "colorbar": {
              "outlinewidth": 0,
              "ticks": ""
             }
            },
            "type": "parcoords"
           }
          ],
          "pie": [
           {
            "automargin": true,
            "type": "pie"
           }
          ],
          "scatter": [
           {
            "marker": {
             "colorbar": {
              "outlinewidth": 0,
              "ticks": ""
             }
            },
            "type": "scatter"
           }
          ],
          "scatter3d": [
           {
            "line": {
             "colorbar": {
              "outlinewidth": 0,
              "ticks": ""
             }
            },
            "marker": {
             "colorbar": {
              "outlinewidth": 0,
              "ticks": ""
             }
            },
            "type": "scatter3d"
           }
          ],
          "scattercarpet": [
           {
            "marker": {
             "colorbar": {
              "outlinewidth": 0,
              "ticks": ""
             }
            },
            "type": "scattercarpet"
           }
          ],
          "scattergeo": [
           {
            "marker": {
             "colorbar": {
              "outlinewidth": 0,
              "ticks": ""
             }
            },
            "type": "scattergeo"
           }
          ],
          "scattergl": [
           {
            "marker": {
             "colorbar": {
              "outlinewidth": 0,
              "ticks": ""
             }
            },
            "type": "scattergl"
           }
          ],
          "scattermapbox": [
           {
            "marker": {
             "colorbar": {
              "outlinewidth": 0,
              "ticks": ""
             }
            },
            "type": "scattermapbox"
           }
          ],
          "scatterpolar": [
           {
            "marker": {
             "colorbar": {
              "outlinewidth": 0,
              "ticks": ""
             }
            },
            "type": "scatterpolar"
           }
          ],
          "scatterpolargl": [
           {
            "marker": {
             "colorbar": {
              "outlinewidth": 0,
              "ticks": ""
             }
            },
            "type": "scatterpolargl"
           }
          ],
          "scatterternary": [
           {
            "marker": {
             "colorbar": {
              "outlinewidth": 0,
              "ticks": ""
             }
            },
            "type": "scatterternary"
           }
          ],
          "surface": [
           {
            "colorbar": {
             "outlinewidth": 0,
             "ticks": ""
            },
            "colorscale": [
             [
              0,
              "#0d0887"
             ],
             [
              0.1111111111111111,
              "#46039f"
             ],
             [
              0.2222222222222222,
              "#7201a8"
             ],
             [
              0.3333333333333333,
              "#9c179e"
             ],
             [
              0.4444444444444444,
              "#bd3786"
             ],
             [
              0.5555555555555556,
              "#d8576b"
             ],
             [
              0.6666666666666666,
              "#ed7953"
             ],
             [
              0.7777777777777778,
              "#fb9f3a"
             ],
             [
              0.8888888888888888,
              "#fdca26"
             ],
             [
              1,
              "#f0f921"
             ]
            ],
            "type": "surface"
           }
          ],
          "table": [
           {
            "cells": {
             "fill": {
              "color": "#EBF0F8"
             },
             "line": {
              "color": "white"
             }
            },
            "header": {
             "fill": {
              "color": "#C8D4E3"
             },
             "line": {
              "color": "white"
             }
            },
            "type": "table"
           }
          ]
         },
         "layout": {
          "annotationdefaults": {
           "arrowcolor": "#2a3f5f",
           "arrowhead": 0,
           "arrowwidth": 1
          },
          "autotypenumbers": "strict",
          "coloraxis": {
           "colorbar": {
            "outlinewidth": 0,
            "ticks": ""
           }
          },
          "colorscale": {
           "diverging": [
            [
             0,
             "#8e0152"
            ],
            [
             0.1,
             "#c51b7d"
            ],
            [
             0.2,
             "#de77ae"
            ],
            [
             0.3,
             "#f1b6da"
            ],
            [
             0.4,
             "#fde0ef"
            ],
            [
             0.5,
             "#f7f7f7"
            ],
            [
             0.6,
             "#e6f5d0"
            ],
            [
             0.7,
             "#b8e186"
            ],
            [
             0.8,
             "#7fbc41"
            ],
            [
             0.9,
             "#4d9221"
            ],
            [
             1,
             "#276419"
            ]
           ],
           "sequential": [
            [
             0,
             "#0d0887"
            ],
            [
             0.1111111111111111,
             "#46039f"
            ],
            [
             0.2222222222222222,
             "#7201a8"
            ],
            [
             0.3333333333333333,
             "#9c179e"
            ],
            [
             0.4444444444444444,
             "#bd3786"
            ],
            [
             0.5555555555555556,
             "#d8576b"
            ],
            [
             0.6666666666666666,
             "#ed7953"
            ],
            [
             0.7777777777777778,
             "#fb9f3a"
            ],
            [
             0.8888888888888888,
             "#fdca26"
            ],
            [
             1,
             "#f0f921"
            ]
           ],
           "sequentialminus": [
            [
             0,
             "#0d0887"
            ],
            [
             0.1111111111111111,
             "#46039f"
            ],
            [
             0.2222222222222222,
             "#7201a8"
            ],
            [
             0.3333333333333333,
             "#9c179e"
            ],
            [
             0.4444444444444444,
             "#bd3786"
            ],
            [
             0.5555555555555556,
             "#d8576b"
            ],
            [
             0.6666666666666666,
             "#ed7953"
            ],
            [
             0.7777777777777778,
             "#fb9f3a"
            ],
            [
             0.8888888888888888,
             "#fdca26"
            ],
            [
             1,
             "#f0f921"
            ]
           ]
          },
          "colorway": [
           "#636efa",
           "#EF553B",
           "#00cc96",
           "#ab63fa",
           "#FFA15A",
           "#19d3f3",
           "#FF6692",
           "#B6E880",
           "#FF97FF",
           "#FECB52"
          ],
          "font": {
           "color": "#2a3f5f"
          },
          "geo": {
           "bgcolor": "white",
           "lakecolor": "white",
           "landcolor": "#E5ECF6",
           "showlakes": true,
           "showland": true,
           "subunitcolor": "white"
          },
          "hoverlabel": {
           "align": "left"
          },
          "hovermode": "closest",
          "mapbox": {
           "style": "light"
          },
          "paper_bgcolor": "white",
          "plot_bgcolor": "#E5ECF6",
          "polar": {
           "angularaxis": {
            "gridcolor": "white",
            "linecolor": "white",
            "ticks": ""
           },
           "bgcolor": "#E5ECF6",
           "radialaxis": {
            "gridcolor": "white",
            "linecolor": "white",
            "ticks": ""
           }
          },
          "scene": {
           "xaxis": {
            "backgroundcolor": "#E5ECF6",
            "gridcolor": "white",
            "gridwidth": 2,
            "linecolor": "white",
            "showbackground": true,
            "ticks": "",
            "zerolinecolor": "white"
           },
           "yaxis": {
            "backgroundcolor": "#E5ECF6",
            "gridcolor": "white",
            "gridwidth": 2,
            "linecolor": "white",
            "showbackground": true,
            "ticks": "",
            "zerolinecolor": "white"
           },
           "zaxis": {
            "backgroundcolor": "#E5ECF6",
            "gridcolor": "white",
            "gridwidth": 2,
            "linecolor": "white",
            "showbackground": true,
            "ticks": "",
            "zerolinecolor": "white"
           }
          },
          "shapedefaults": {
           "line": {
            "color": "#2a3f5f"
           }
          },
          "ternary": {
           "aaxis": {
            "gridcolor": "white",
            "linecolor": "white",
            "ticks": ""
           },
           "baxis": {
            "gridcolor": "white",
            "linecolor": "white",
            "ticks": ""
           },
           "bgcolor": "#E5ECF6",
           "caxis": {
            "gridcolor": "white",
            "linecolor": "white",
            "ticks": ""
           }
          },
          "title": {
           "x": 0.05
          },
          "xaxis": {
           "automargin": true,
           "gridcolor": "white",
           "linecolor": "white",
           "ticks": "",
           "title": {
            "standoff": 15
           },
           "zerolinecolor": "white",
           "zerolinewidth": 2
          },
          "yaxis": {
           "automargin": true,
           "gridcolor": "white",
           "linecolor": "white",
           "ticks": "",
           "title": {
            "standoff": 15
           },
           "zerolinecolor": "white",
           "zerolinewidth": 2
          }
         }
        }
       }
      }
     },
     "metadata": {}
    }
   ],
   "source": [
    "# trying out a demo provided in the plotly mapping documentation\n",
    "# https://plotly.com/python/scatter-plots-on-maps/\n",
    "import plotly.express as px\n",
    "df = px.data.gapminder().query(\"year == 2007\")\n",
    "fig = px.scatter_geo(df, locations=\"iso_alpha\",\n",
    "                     size=\"pop\", # size of markers, \"pop\" is one of the columns of gapminder\n",
    "                     )\n",
    "fig.show()\n"
   ]
  },
  {
   "cell_type": "code",
   "execution_count": 34,
   "metadata": {
    "tags": []
   },
   "outputs": [
    {
     "output_type": "stream",
     "name": "stdout",
     "text": [
      "{\n    \"type\": \"FeatureCollection\",\n    \"metadata\": {\n        \"generated\": 1623691095000,\n        \"url\": \"https://earthquake.usgs.gov/earthquakes/feed/v1.0/summary/1.0_hour.geojson\",\n        \"title\": \"USGS Magnitude 1.0+ Earthquakes, Past Hour\",\n        \"status\": 200,\n        \"api\": \"1.10.3\",\n        \"count\": 11\n    },\n    \"features\": [\n        {\n            \"type\": \"Feature\",\n            \"properties\": {\n                \"mag\": 1.5,\n                \"place\": \"11 km E of Willow, Alaska\",\n                \"time\": 1623690896857,\n                \"updated\": 1623691083301,\n                \"tz\": null,\n                \"url\": \"https://earthquake.usgs.gov/earthquakes/eventpage/ak0217l5vr6d\",\n                \"detail\": \"https://earthquake.usgs.gov/earthquakes/feed/v1.0/detail/ak0217l5vr6d.geojson\",\n                \"felt\": null,\n                \"cdi\": null,\n                \"mmi\": null,\n                \"alert\": null,\n                \"status\": \"automatic\",\n                \"tsunami\": 0,\n                \"sig\": 35,\n                \"net\": \"ak\",\n                \"code\": \"0217l5vr6d\",\n                \"ids\": \",ak0217l5vr6d,\",\n                \"sources\": \",ak,\",\n                \"types\": \",origin,\",\n                \"nst\": null,\n                \"dmin\": null,\n                \"rms\": 0.7,\n                \"gap\": null,\n                \"magType\": \"ml\",\n                \"type\": \"earthquake\",\n                \"title\": \"M 1.5 - 11 km E of Willow, Alaska\"\n            },\n            \"geometry\": {\n                \"type\": \"Point\",\n                \"coordinates\": [\n                    -149.8163,\n                    61.7415,\n                    34.9\n                ]\n            },\n            \"id\": \"ak0217l5vr6d\"\n        },\n        {\n            \"type\": \"Feature\",\n            \"properties\": {\n                \"mag\": 1.6,\n                \"place\": \"3 km NE of Sportsmen Acres, Oklahoma\",\n                \"time\": 1623690122359,\n                \"updated\": 1623690709100,\n                \"tz\": null,\n                \"url\": \"https://earthquake.usgs.gov/earthquakes/eventpage/ok2021loyf\",\n                \"detail\": \"https://earthquake.usgs.gov/earthquakes/feed/v1.0/detail/ok2021loyf.geojson\",\n                \"felt\": null,\n                \"cdi\": null,\n                \"mmi\": null,\n                \"alert\": null,\n                \"status\": \"reviewed\",\n                \"tsunami\": 0,\n                \"sig\": 39,\n                \"net\": \"ok\",\n                \"code\": \"2021loyf\",\n                \"ids\": \",ok2021loyf,\",\n                \"sources\": \",ok,\",\n                \"types\": \",origin,phase-data,\",\n                \"nst\": 54,\n                \"dmin\": 0.579486285,\n                \"rms\": 0.39,\n                \"gap\": 149,\n                \"magType\": \"ml\",\n                \"type\": \"quarry blast\",\n                \"title\": \"M 1.6 Quarry Blast - 3 km NE of Sportsmen Acres, Oklahoma\"\n            },\n            \"geometry\": {\n                \"type\": \"Point\",\n                \"coordinates\": [\n                    -95.22683333,\n                    36.266,\n                    0\n                ]\n            },\n            \"id\": \"ok2021loyf\"\n        },\n        {\n            \"type\": \"Feature\",\n            \"properties\": {\n                \"mag\": 1.82000005,\n                \"place\": \"10 km ENE of P\\u0101hala, Hawaii\",\n                \"time\": 1623690080570,\n                \"updated\": 1623690283640,\n                \"tz\": null,\n                \"url\": \"https://earthquake.usgs.gov/earthquakes/eventpage/hv72524447\",\n                \"detail\": \"https://earthquake.usgs.gov/earthquakes/feed/v1.0/detail/hv72524447.geojson\",\n                \"felt\": null,\n                \"cdi\": null,\n                \"mmi\": null,\n                \"alert\": null,\n                \"status\": \"automatic\",\n                \"tsunami\": 0,\n                \"sig\": 51,\n                \"net\": \"hv\",\n                \"code\": \"72524447\",\n                \"ids\": \",hv72524447,\",\n                \"sources\": \",hv,\",\n                \"types\": \",origin,phase-data,\",\n                \"nst\": 33,\n                \"dmin\": null,\n                \"rms\": 0.140000001,\n                \"gap\": 148,\n                \"magType\": \"md\",\n                \"type\": \"earthquake\",\n                \"title\": \"M 1.8 - 10 km ENE of P\\u0101hala, Hawaii\"\n            },\n            \"geometry\": {\n                \"type\": \"Point\",\n                \"coordinates\": [\n                    -155.38932800293,\n                    19.2355003356934,\n                    32.060001373291\n                ]\n            },\n            \"id\": \"hv72524447\"\n        },\n        {\n            \"type\": \"Feature\",\n            \"properties\": {\n                \"mag\": 2.21,\n                \"place\": \"8 km ENE of P\\u0101hala, Hawaii\",\n                \"time\": 1623689937000,\n                \"updated\": 1623690267850,\n                \"tz\": null,\n                \"url\": \"https://earthquake.usgs.gov/earthquakes/eventpage/hv72524442\",\n                \"detail\": \"https://earthquake.usgs.gov/earthquakes/feed/v1.0/detail/hv72524442.geojson\",\n                \"felt\": null,\n                \"cdi\": null,\n                \"mmi\": null,\n                \"alert\": null,\n                \"status\": \"automatic\",\n                \"tsunami\": 0,\n                \"sig\": 75,\n                \"net\": \"hv\",\n                \"code\": \"72524442\",\n                \"ids\": \",hv72524442,\",\n                \"sources\": \",hv,\",\n                \"types\": \",origin,phase-data,\",\n                \"nst\": 52,\n                \"dmin\": null,\n                \"rms\": 0.129999995,\n                \"gap\": 139,\n                \"magType\": \"ml\",\n                \"type\": \"earthquake\",\n                \"title\": \"M 2.2 - 8 km ENE of P\\u0101hala, Hawaii\"\n            },\n            \"geometry\": {\n                \"type\": \"Point\",\n                \"coordinates\": [\n                    -155.400665283203,\n                    19.2331657409668,\n                    32.8400001525879\n                ]\n            },\n            \"id\": \"hv72524442\"\n        },\n        {\n            \"type\": \"Feature\",\n            \"properties\": {\n                \"mag\": 0.98,\n                \"place\": \"14km NNE of Borrego Springs, CA\",\n                \"time\": 1623689645830,\n                \"updated\": 1623689870963,\n                \"tz\": null,\n                \"url\": \"https://earthquake.usgs.gov/earthquakes/eventpage/ci39705831\",\n                \"detail\": \"https://earthquake.usgs.gov/earthquakes/feed/v1.0/detail/ci39705831.geojson\",\n                \"felt\": null,\n                \"cdi\": null,\n                \"mmi\": null,\n                \"alert\": null,\n                \"status\": \"automatic\",\n                \"tsunami\": 0,\n                \"sig\": 15,\n                \"net\": \"ci\",\n                \"code\": \"39705831\",\n                \"ids\": \",ci39705831,\",\n                \"sources\": \",ci,\",\n                \"types\": \",nearby-cities,origin,phase-data,scitech-link,\",\n                \"nst\": 34,\n                \"dmin\": 0.004662,\n                \"rms\": 0.21,\n                \"gap\": 77,\n                \"magType\": \"ml\",\n                \"type\": \"earthquake\",\n                \"title\": \"M 1.0 - 14km NNE of Borrego Springs, CA\"\n            },\n            \"geometry\": {\n                \"type\": \"Point\",\n                \"coordinates\": [\n                    -116.3088333,\n                    33.367,\n                    9.69\n                ]\n            },\n            \"id\": \"ci39705831\"\n        },\n        {\n            \"type\": \"Feature\",\n            \"properties\": {\n                \"mag\": 2.1,\n                \"place\": \"24 km SW of Coyanosa, Texas\",\n                \"time\": 1623688264823,\n                \"updated\": 1623689094096,\n                \"tz\": null,\n                \"url\": \"https://earthquake.usgs.gov/earthquakes/eventpage/tx2021loxf\",\n                \"detail\": \"https://earthquake.usgs.gov/earthquakes/feed/v1.0/detail/tx2021loxf.geojson\",\n                \"felt\": null,\n                \"cdi\": null,\n                \"mmi\": null,\n                \"alert\": null,\n                \"status\": \"reviewed\",\n                \"tsunami\": 0,\n                \"sig\": 68,\n                \"net\": \"tx\",\n                \"code\": \"2021loxf\",\n                \"ids\": \",tx2021loxf,\",\n                \"sources\": \",tx,\",\n                \"types\": \",origin,phase-data,\",\n                \"nst\": 17,\n                \"dmin\": 0.02966983794,\n                \"rms\": 0.2,\n                \"gap\": 57,\n                \"magType\": \"ml\",\n                \"type\": \"earthquake\",\n                \"title\": \"M 2.1 - 24 km SW of Coyanosa, Texas\"\n            },\n            \"geometry\": {\n                \"type\": \"Point\",\n                \"coordinates\": [\n                    -103.2600939,\n                    31.09620206,\n                    1.298461914\n                ]\n            },\n            \"id\": \"tx2021loxf\"\n        },\n        {\n            \"type\": \"Feature\",\n            \"properties\": {\n                \"mag\": 2.02999997,\n                \"place\": \"6 km S of P\\u0101hala, Hawaii\",\n                \"time\": 1623688124710,\n                \"updated\": 1623688319380,\n                \"tz\": null,\n                \"url\": \"https://earthquake.usgs.gov/earthquakes/eventpage/hv72524387\",\n                \"detail\": \"https://earthquake.usgs.gov/earthquakes/feed/v1.0/detail/hv72524387.geojson\",\n                \"felt\": null,\n                \"cdi\": null,\n                \"mmi\": null,\n                \"alert\": null,\n                \"status\": \"automatic\",\n                \"tsunami\": 0,\n                \"sig\": 63,\n                \"net\": \"hv\",\n                \"code\": \"72524387\",\n                \"ids\": \",hv72524387,\",\n                \"sources\": \",hv,\",\n                \"types\": \",origin,phase-data,\",\n                \"nst\": 29,\n                \"dmin\": null,\n                \"rms\": 0.129999995,\n                \"gap\": 170,\n                \"magType\": \"md\",\n                \"type\": \"earthquake\",\n                \"title\": \"M 2.0 - 6 km S of P\\u0101hala, Hawaii\"\n            },\n            \"geometry\": {\n                \"type\": \"Point\",\n                \"coordinates\": [\n                    -155.47917175293,\n                    19.1431674957275,\n                    36.0200004577637\n                ]\n            },\n            \"id\": \"hv72524387\"\n        },\n        {\n            \"type\": \"Feature\",\n            \"properties\": {\n                \"mag\": 1.75,\n                \"place\": \"10km SE of Willits, CA\",\n                \"time\": 1623688121710,\n                \"updated\": 1623688217387,\n                \"tz\": null,\n                \"url\": \"https://earthquake.usgs.gov/earthquakes/eventpage/nc73574756\",\n                \"detail\": \"https://earthquake.usgs.gov/earthquakes/feed/v1.0/detail/nc73574756.geojson\",\n                \"felt\": null,\n                \"cdi\": null,\n                \"mmi\": null,\n                \"alert\": null,\n                \"status\": \"automatic\",\n                \"tsunami\": 0,\n                \"sig\": 47,\n                \"net\": \"nc\",\n                \"code\": \"73574756\",\n                \"ids\": \",nc73574756,\",\n                \"sources\": \",nc,\",\n                \"types\": \",nearby-cities,origin,phase-data,\",\n                \"nst\": 12,\n                \"dmin\": 0.1307,\n                \"rms\": 0.04,\n                \"gap\": 157,\n                \"magType\": \"md\",\n                \"type\": \"earthquake\",\n                \"title\": \"M 1.8 - 10km SE of Willits, CA\"\n            },\n            \"geometry\": {\n                \"type\": \"Point\",\n                \"coordinates\": [\n                    -123.2613297,\n                    39.3521652,\n                    3.18\n                ]\n            },\n            \"id\": \"nc73574756\"\n        },\n        {\n            \"type\": \"Feature\",\n            \"properties\": {\n                \"mag\": 1.78,\n                \"place\": \"5 km WSW of Volcano, Hawaii\",\n                \"time\": 1623688096050,\n                \"updated\": 1623688426560,\n                \"tz\": null,\n                \"url\": \"https://earthquake.usgs.gov/earthquakes/eventpage/hv72524382\",\n                \"detail\": \"https://earthquake.usgs.gov/earthquakes/feed/v1.0/detail/hv72524382.geojson\",\n                \"felt\": null,\n                \"cdi\": null,\n                \"mmi\": null,\n                \"alert\": null,\n                \"status\": \"automatic\",\n                \"tsunami\": 0,\n                \"sig\": 49,\n                \"net\": \"hv\",\n                \"code\": \"72524382\",\n                \"ids\": \",hv72524382,\",\n                \"sources\": \",hv,\",\n                \"types\": \",origin,phase-data,\",\n                \"nst\": 11,\n                \"dmin\": null,\n                \"rms\": 0.140000001,\n                \"gap\": 74,\n                \"magType\": \"ml\",\n                \"type\": \"earthquake\",\n                \"title\": \"M 1.8 - 5 km WSW of Volcano, Hawaii\"\n            },\n            \"geometry\": {\n                \"type\": \"Point\",\n                \"coordinates\": [\n                    -155.276992797852,\n                    19.4166660308838,\n                    -0.970000028610229\n                ]\n            },\n            \"id\": \"hv72524382\"\n        },\n        {\n            \"type\": \"Feature\",\n            \"properties\": {\n                \"mag\": 2.42,\n                \"place\": \"9 km SSE of Volcano, Hawaii\",\n                \"time\": 1623688066990,\n                \"updated\": 1623688398870,\n                \"tz\": null,\n                \"url\": \"https://earthquake.usgs.gov/earthquakes/eventpage/hv72524377\",\n                \"detail\": \"https://earthquake.usgs.gov/earthquakes/feed/v1.0/detail/hv72524377.geojson\",\n                \"felt\": null,\n                \"cdi\": null,\n                \"mmi\": null,\n                \"alert\": null,\n                \"status\": \"automatic\",\n                \"tsunami\": 0,\n                \"sig\": 90,\n                \"net\": \"hv\",\n                \"code\": \"72524377\",\n                \"ids\": \",hv72524377,\",\n                \"sources\": \",hv,\",\n                \"types\": \",origin,phase-data,\",\n                \"nst\": 11,\n                \"dmin\": null,\n                \"rms\": 0.119999997,\n                \"gap\": 132,\n                \"magType\": \"ml\",\n                \"type\": \"earthquake\",\n                \"title\": \"M 2.4 - 9 km SSE of Volcano, Hawaii\"\n            },\n            \"geometry\": {\n                \"type\": \"Point\",\n                \"coordinates\": [\n                    -155.186492919922,\n                    19.3661670684814,\n                    0.709999978542328\n                ]\n            },\n            \"id\": \"hv72524377\"\n        },\n        {\n            \"type\": \"Feature\",\n            \"properties\": {\n                \"mag\": 4.5,\n                \"place\": \"12 km NNE of Jord\\u00e1n, Colombia\",\n                \"time\": 1623687934806,\n                \"updated\": 1623690461040,\n                \"tz\": null,\n                \"url\": \"https://earthquake.usgs.gov/earthquakes/eventpage/us7000ed00\",\n                \"detail\": \"https://earthquake.usgs.gov/earthquakes/feed/v1.0/detail/us7000ed00.geojson\",\n                \"felt\": null,\n                \"cdi\": null,\n                \"mmi\": null,\n                \"alert\": null,\n                \"status\": \"reviewed\",\n                \"tsunami\": 0,\n                \"sig\": 312,\n                \"net\": \"us\",\n                \"code\": \"7000ed00\",\n                \"ids\": \",us7000ed00,\",\n                \"sources\": \",us,\",\n                \"types\": \",origin,phase-data,\",\n                \"nst\": null,\n                \"dmin\": 0.94,\n                \"rms\": 0.68,\n                \"gap\": 63,\n                \"magType\": \"mb\",\n                \"type\": \"earthquake\",\n                \"title\": \"M 4.5 - 12 km NNE of Jord\\u00e1n, Colombia\"\n            },\n            \"geometry\": {\n                \"type\": \"Point\",\n                \"coordinates\": [\n                    -73.0675,\n                    6.8386,\n                    150.06\n                ]\n            },\n            \"id\": \"us7000ed00\"\n        }\n    ],\n    \"bbox\": [\n        -155.47917175293,\n        6.8386,\n        -0.97000002861023,\n        -73.0675,\n        61.7415,\n        150.06\n    ]\n}\n"
     ]
    }
   ],
   "source": [
    "# if life presents you with jam packed data, break it up on your terms.\n",
    "import json\n",
    "import yaml\n",
    "\n",
    "# note that here we needed to set the encoding\n",
    "# this will get the encoding error:\n",
    "# with open(\"eq-614-1hr.json\", \"r\") as f:\n",
    "with open(\"eq-614-1hr.json\", \"r\", encoding='utf-8') as f:\n",
    "    contents = json.load(f)\n",
    "\n",
    "print(json.dumps(contents, indent=4))\n",
    "#print(contents)\n",
    "# you could also choose to dump as yaml\n",
    "#yaml_file = open(\"yaml_eq.yaml\", \"w\")\n",
    "#yaml.dump(contents, yaml_file)"
   ]
  },
  {
   "cell_type": "code",
   "execution_count": 30,
   "metadata": {},
   "outputs": [
    {
     "output_type": "stream",
     "name": "stdout",
     "text": [
      "[1.5, 1.6, 1.82000005, 2.21, 0.98, 2.1, 2.02999997, 1.75, 1.78, 2.42, 4.5]\n[-149.8163, -95.22683333, -155.38932800293, -155.400665283203, -116.3088333, -103.2600939, -155.47917175293, -123.2613297, -155.276992797852, -155.186492919922, -73.0675]\n[61.7415, 36.266, 19.2355003356934, 19.2331657409668, 33.367, 31.09620206, 19.1431674957275, 39.3521652, 19.4166660308838, 19.3661670684814, 6.8386]\n"
     ]
    }
   ],
   "source": [
    "earthquakes = contents[\"features\"]\n",
    "#print(earthquakes)\n",
    "mags = []\n",
    "lats, lons = [], []\n",
    "for earthquake in earthquakes:\n",
    "    #print(earthquake)\n",
    "    mags.append(earthquake[\"properties\"]['mag'])\n",
    "    lons.append(earthquake[\"geometry\"][\"coordinates\"][0])\n",
    "    lats.append(earthquake[\"geometry\"][\"coordinates\"][1])\n",
    "print(mags)\n",
    "print(lons)\n",
    "print(lats)"
   ]
  },
  {
   "cell_type": "code",
   "execution_count": 31,
   "metadata": {},
   "outputs": [],
   "source": [
    "from plotly.graph_objs import Scattergeo, Layout\n",
    "from plotly import offline\n",
    "\n"
   ]
  },
  {
   "cell_type": "code",
   "execution_count": null,
   "metadata": {},
   "outputs": [],
   "source": []
  }
 ]
}
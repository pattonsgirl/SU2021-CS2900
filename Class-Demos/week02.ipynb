{
 "metadata": {
  "language_info": {
   "codemirror_mode": {
    "name": "ipython",
    "version": 3
   },
   "file_extension": ".py",
   "mimetype": "text/x-python",
   "name": "python",
   "nbconvert_exporter": "python",
   "pygments_lexer": "ipython3",
   "version": "3.8.5"
  },
  "orig_nbformat": 2,
  "kernelspec": {
   "name": "python385jvsc74a57bd0b3ba2566441a7c06988d0923437866b63cedc61552a5af99d1f4fb67d367b25f",
   "display_name": "Python 3.8.5 64-bit ('base': conda)"
  }
 },
 "nbformat": 4,
 "nbformat_minor": 2,
 "cells": [
  {
   "source": [
    "# Week 02\n",
    "## Lecture 5/17:\n",
    "lists, numeric ranges\n",
    "## Lecture 5/19:\n",
    "random number lists, slices, tuples, if statements\n"
   ],
   "cell_type": "markdown",
   "metadata": {}
  },
  {
   "cell_type": "code",
   "execution_count": 1,
   "metadata": {},
   "outputs": [
    {
     "output_type": "stream",
     "name": "stdout",
     "text": [
      "Hello!  My name in Inigo Montoya\n"
     ]
    }
   ],
   "source": [
    "print(\"Hello!  My name in Inigo Montoya\")"
   ]
  },
  {
   "cell_type": "code",
   "execution_count": 10,
   "metadata": {},
   "outputs": [
    {
     "output_type": "stream",
     "name": "stdout",
     "text": [
      "Favorite scientest {first.title()} {last.title()}\nFavorite scientest Marie Curie\n"
     ]
    }
   ],
   "source": [
    "first = \"marie\"\n",
    "last = \"curie\"\n",
    "message = \"Favorite scientest {first.title()} {last.title()}\"\n",
    "print(message)\n",
    "message = f\"Favorite scientest {first.title()} {last.title()}\"\n",
    "print(message)"
   ]
  },
  {
   "cell_type": "code",
   "execution_count": 17,
   "metadata": {},
   "outputs": [
    {
     "output_type": "stream",
     "name": "stdout",
     "text": [
      "2.5\n2\n"
     ]
    }
   ],
   "source": [
    "# python has strings, integers and floats\n",
    "num = 4 * 4 + 5\n",
    "banana_num = 5/2\n",
    "print(banana_num)\n",
    "print(int(banana_num))"
   ]
  },
  {
   "cell_type": "code",
   "execution_count": 21,
   "metadata": {},
   "outputs": [
    {
     "output_type": "stream",
     "name": "stdout",
     "text": [
      "Adding numbers 25\nThe two numbers subtracted are: -5\nTwo numbers multiplied: 150\n"
     ]
    }
   ],
   "source": [
    "#Exercise: Nothing Fancy Calculator\n",
    "\n",
    "num1 = 10\n",
    "num2 = 15\n",
    "\n",
    "print(f\"Adding numbers {num1 + num2}\")\n",
    "\n",
    "subtract = 10 - 15\n",
    "print(f\"The two numbers subtracted are: {subtract}\")\n",
    "\n",
    "multiply = 10 * 15\n",
    "print(f\"Two numbers multiplied: {multiply}\")\n",
    "\n",
    "# finish division\n",
    "\n"
   ]
  },
  {
   "source": [
    "## Intro to lists"
   ],
   "cell_type": "markdown",
   "metadata": {}
  },
  {
   "cell_type": "code",
   "execution_count": 57,
   "metadata": {},
   "outputs": [
    {
     "output_type": "stream",
     "name": "stdout",
     "text": [
      "['pierce', 'nix', 'tolkien', 'wong', 'adams', 'king']\n[6, 'hello world', 8.9]\n"
     ]
    }
   ],
   "source": [
    "authors = ['pierce', 'nix', 'tolkien', 'wong', 'adams', 'king']\n",
    "print(authors)\n",
    "\n",
    "list_weird = [6, 'hello world', 8.9]\n",
    "print(list_weird)\n"
   ]
  },
  {
   "cell_type": "code",
   "execution_count": 40,
   "metadata": {},
   "outputs": [
    {
     "output_type": "stream",
     "name": "stdout",
     "text": [
      "pierce\nking\n"
     ]
    }
   ],
   "source": [
    "#note, make sure you \"play\" cell above to load the lists into memory\n",
    "# from the beginning\n",
    "print(authors[0])\n",
    "# from the end\n",
    "print(authors[-1])"
   ]
  },
  {
   "cell_type": "code",
   "execution_count": 41,
   "metadata": {},
   "outputs": [
    {
     "output_type": "stream",
     "name": "stdout",
     "text": [
      "['pierce', 'pullman', 'tolkien', 'wong', 'adams', 'king']\n"
     ]
    }
   ],
   "source": [
    "# replace of nix with pullman\n",
    "authors[1] = \"pullman\"\n",
    "print(authors)"
   ]
  },
  {
   "cell_type": "code",
   "execution_count": 42,
   "metadata": {},
   "outputs": [
    {
     "output_type": "stream",
     "name": "stdout",
     "text": [
      "['pierce', 'pullman', 'tolkien', 'wong', 'adams', 'king', 'follet']\n"
     ]
    }
   ],
   "source": [
    "authors.append(\"follet\")\n",
    "print(authors)"
   ]
  },
  {
   "cell_type": "code",
   "execution_count": 44,
   "metadata": {},
   "outputs": [
    {
     "output_type": "stream",
     "name": "stdout",
     "text": [
      "['pierce', 'pullman', 'corey', 'corey', 'tolkien', 'wong', 'adams', 'king', 'follet']\n"
     ]
    }
   ],
   "source": [
    "# instert before the second element\n",
    "authors.insert(2,'corey')\n",
    "print(authors)"
   ]
  },
  {
   "cell_type": "code",
   "execution_count": 45,
   "metadata": {},
   "outputs": [
    {
     "output_type": "stream",
     "name": "stdout",
     "text": [
      "['pierce', 'pullman', 'corey', 'corey', 'tolkien', 'adams', 'king', 'follet']\n"
     ]
    }
   ],
   "source": [
    "del authors[5]\n",
    "print(authors)"
   ]
  },
  {
   "cell_type": "code",
   "execution_count": 48,
   "metadata": {},
   "outputs": [
    {
     "output_type": "error",
     "ename": "ValueError",
     "evalue": "list.remove(x): x not in list",
     "traceback": [
      "\u001b[1;31m---------------------------------------------------------------------------\u001b[0m",
      "\u001b[1;31mValueError\u001b[0m                                Traceback (most recent call last)",
      "\u001b[1;32m<ipython-input-48-d81ff94d81da>\u001b[0m in \u001b[0;36m<module>\u001b[1;34m\u001b[0m\n\u001b[1;32m----> 1\u001b[1;33m \u001b[0mauthors\u001b[0m\u001b[1;33m.\u001b[0m\u001b[0mremove\u001b[0m\u001b[1;33m(\u001b[0m\u001b[1;34m'corey'\u001b[0m\u001b[1;33m)\u001b[0m\u001b[1;33m\u001b[0m\u001b[1;33m\u001b[0m\u001b[0m\n\u001b[0m\u001b[0;32m      2\u001b[0m \u001b[0mprint\u001b[0m\u001b[1;33m(\u001b[0m\u001b[0mauthors\u001b[0m\u001b[1;33m)\u001b[0m\u001b[1;33m\u001b[0m\u001b[1;33m\u001b[0m\u001b[0m\n",
      "\u001b[1;31mValueError\u001b[0m: list.remove(x): x not in list"
     ]
    }
   ],
   "source": [
    "authors.remove('corey')\n",
    "print(authors)"
   ]
  },
  {
   "cell_type": "code",
   "execution_count": 54,
   "metadata": {},
   "outputs": [
    {
     "output_type": "error",
     "ename": "IndexError",
     "evalue": "pop from empty list",
     "traceback": [
      "\u001b[1;31m---------------------------------------------------------------------------\u001b[0m",
      "\u001b[1;31mIndexError\u001b[0m                                Traceback (most recent call last)",
      "\u001b[1;32m<ipython-input-54-31b5d19f1b3e>\u001b[0m in \u001b[0;36m<module>\u001b[1;34m\u001b[0m\n\u001b[1;32m----> 1\u001b[1;33m \u001b[0muse_later\u001b[0m \u001b[1;33m=\u001b[0m \u001b[0mauthors\u001b[0m\u001b[1;33m.\u001b[0m\u001b[0mpop\u001b[0m\u001b[1;33m(\u001b[0m\u001b[1;33m)\u001b[0m\u001b[1;33m\u001b[0m\u001b[1;33m\u001b[0m\u001b[0m\n\u001b[0m\u001b[0;32m      2\u001b[0m \u001b[0mprint\u001b[0m\u001b[1;33m(\u001b[0m\u001b[0mauthors\u001b[0m\u001b[1;33m)\u001b[0m\u001b[1;33m\u001b[0m\u001b[1;33m\u001b[0m\u001b[0m\n\u001b[0;32m      3\u001b[0m \u001b[0mprint\u001b[0m\u001b[1;33m(\u001b[0m\u001b[0muse_later\u001b[0m\u001b[1;33m)\u001b[0m\u001b[1;33m\u001b[0m\u001b[1;33m\u001b[0m\u001b[0m\n",
      "\u001b[1;31mIndexError\u001b[0m: pop from empty list"
     ]
    }
   ],
   "source": [
    "use_later = authors.pop()\n",
    "print(authors)\n",
    "print(use_later)"
   ]
  },
  {
   "cell_type": "code",
   "execution_count": 58,
   "metadata": {},
   "outputs": [
    {
     "output_type": "stream",
     "name": "stdout",
     "text": [
      "6\n"
     ]
    }
   ],
   "source": [
    "print(len(authors))"
   ]
  },
  {
   "cell_type": "code",
   "execution_count": 62,
   "metadata": {},
   "outputs": [
    {
     "output_type": "stream",
     "name": "stdout",
     "text": [
      "pierce\ncool\nnix\ncool\ntolkien\ncool\nwong\ncool\nadams\ncool\nking\ncool\nI am here once...\n"
     ]
    }
   ],
   "source": [
    "for author in authors:\n",
    "    print(author)\n",
    "    print(\"cool\")\n",
    "print(\"I am here once...\")\n",
    "\n"
   ]
  },
  {
   "cell_type": "code",
   "execution_count": 64,
   "metadata": {},
   "outputs": [
    {
     "output_type": "stream",
     "name": "stdout",
     "text": [
      "Pierce is great but probably spelled wrong\nNix is great but probably spelled wrong\nTolkien is great but probably spelled wrong\nWong is great but probably spelled wrong\nAdams is great but probably spelled wrong\nKing is great but probably spelled wrong\nEnd message\n"
     ]
    }
   ],
   "source": [
    "# Exercise: print authors\n",
    "for author in authors:\n",
    "    print(f\"{author.title()} is great but probably spelled wrong\")\n",
    "print(\"End message\")"
   ]
  },
  {
   "source": [
    "### lists as numbers"
   ],
   "cell_type": "markdown",
   "metadata": {}
  },
  {
   "cell_type": "code",
   "execution_count": 77,
   "metadata": {},
   "outputs": [
    {
     "output_type": "stream",
     "name": "stdout",
     "text": [
      "1\n2\n3\n4\n5\nHere's how to work with steps\n1\n5\n9\n13\n17\n"
     ]
    }
   ],
   "source": [
    "# print numbers 1 - 5\n",
    "for num in range(1,6):\n",
    "    print(num)\n",
    "\n",
    "print(\"Here's how to work with steps\")\n",
    "for num in range(1,21,4):\n",
    "    print(num)"
   ]
  },
  {
   "cell_type": "code",
   "execution_count": 69,
   "metadata": {},
   "outputs": [
    {
     "output_type": "stream",
     "name": "stdout",
     "text": [
      "[1, 2, 3, 4, 5]\n"
     ]
    }
   ],
   "source": [
    "# to make a list using range\n",
    "numbers = list(range(1,6))\n",
    "print(numbers)"
   ]
  },
  {
   "cell_type": "code",
   "execution_count": 75,
   "metadata": {},
   "outputs": [
    {
     "output_type": "stream",
     "name": "stdout",
     "text": [
      "3\n6\n9\n12\n15\n18\n21\n24\n27\n30\n[3, 6, 9, 12, 15, 18, 21, 24, 27, 30]\n[3, 6, 9, 12, 15, 18, 21, 24, 27, 30]\n"
     ]
    }
   ],
   "source": [
    "# Exercise: Multiples of Threes\n",
    "\n",
    "threes = []\n",
    "for num in range(3,31,3):\n",
    "    print(num)\n",
    "    threes.append(num)\n",
    "print(threes)\n",
    "\n",
    "simple_threes = list(range(3,31,3))\n",
    "print(simple_threes)\n"
   ]
  }
 ]
}
{
 "metadata": {
  "language_info": {
   "codemirror_mode": {
    "name": "ipython",
    "version": 3
   },
   "file_extension": ".py",
   "mimetype": "text/x-python",
   "name": "python",
   "nbconvert_exporter": "python",
   "pygments_lexer": "ipython3",
   "version": "3.8.5"
  },
  "orig_nbformat": 2,
  "kernelspec": {
   "name": "python385jvsc74a57bd0b3ba2566441a7c06988d0923437866b63cedc61552a5af99d1f4fb67d367b25f",
   "display_name": "Python 3.8.5 64-bit ('base': conda)"
  }
 },
 "nbformat": 4,
 "nbformat_minor": 2,
 "cells": [
  {
   "source": [
    "# Week 02\n",
    "## Lecture 5/17:\n",
    "lists, for loops, numeric ranges\n",
    "## Lecture 5/19:\n",
    "random number lists, slices, tuples, if statements\n"
   ],
   "cell_type": "markdown",
   "metadata": {}
  },
  {
   "cell_type": "code",
   "execution_count": 1,
   "metadata": {},
   "outputs": [
    {
     "output_type": "stream",
     "name": "stdout",
     "text": [
      "Hello!  My name in Inigo Montoya\n"
     ]
    }
   ],
   "source": [
    "print(\"Hello!  My name in Inigo Montoya\")"
   ]
  },
  {
   "cell_type": "code",
   "execution_count": 10,
   "metadata": {},
   "outputs": [
    {
     "output_type": "stream",
     "name": "stdout",
     "text": [
      "Favorite scientest {first.title()} {last.title()}\nFavorite scientest Marie Curie\n"
     ]
    }
   ],
   "source": [
    "first = \"marie\"\n",
    "last = \"curie\"\n",
    "message = \"Favorite scientest {first.title()} {last.title()}\"\n",
    "print(message)\n",
    "message = f\"Favorite scientest {first.title()} {last.title()}\"\n",
    "print(message)"
   ]
  },
  {
   "cell_type": "code",
   "execution_count": 17,
   "metadata": {},
   "outputs": [
    {
     "output_type": "stream",
     "name": "stdout",
     "text": [
      "2.5\n2\n"
     ]
    }
   ],
   "source": [
    "# python has strings, integers and floats\n",
    "num = 4 * 4 + 5\n",
    "banana_num = 5/2\n",
    "print(banana_num)\n",
    "print(int(banana_num))"
   ]
  },
  {
   "cell_type": "code",
   "execution_count": 21,
   "metadata": {},
   "outputs": [
    {
     "output_type": "stream",
     "name": "stdout",
     "text": [
      "Adding numbers 25\nThe two numbers subtracted are: -5\nTwo numbers multiplied: 150\n"
     ]
    }
   ],
   "source": [
    "#Exercise: Nothing Fancy Calculator\n",
    "\n",
    "num1 = 10\n",
    "num2 = 15\n",
    "\n",
    "print(f\"Adding numbers {num1 + num2}\")\n",
    "\n",
    "subtract = 10 - 15\n",
    "print(f\"The two numbers subtracted are: {subtract}\")\n",
    "\n",
    "multiply = 10 * 15\n",
    "print(f\"Two numbers multiplied: {multiply}\")\n",
    "\n",
    "# finish division\n",
    "\n"
   ]
  },
  {
   "source": [
    "## Intro to lists"
   ],
   "cell_type": "markdown",
   "metadata": {}
  },
  {
   "cell_type": "code",
   "execution_count": 57,
   "metadata": {},
   "outputs": [
    {
     "output_type": "stream",
     "name": "stdout",
     "text": [
      "['pierce', 'nix', 'tolkien', 'wong', 'adams', 'king']\n[6, 'hello world', 8.9]\n"
     ]
    }
   ],
   "source": [
    "authors = ['pierce', 'nix', 'tolkien', 'wong', 'adams', 'king']\n",
    "print(authors)\n",
    "\n",
    "list_weird = [6, 'hello world', 8.9]\n",
    "print(list_weird)\n"
   ]
  },
  {
   "cell_type": "code",
   "execution_count": 40,
   "metadata": {},
   "outputs": [
    {
     "output_type": "stream",
     "name": "stdout",
     "text": [
      "pierce\nking\n"
     ]
    }
   ],
   "source": [
    "#note, make sure you \"play\" cell above to load the lists into memory\n",
    "# from the beginning\n",
    "print(authors[0])\n",
    "# from the end\n",
    "print(authors[-1])"
   ]
  },
  {
   "cell_type": "code",
   "execution_count": 78,
   "metadata": {},
   "outputs": [
    {
     "output_type": "stream",
     "name": "stdout",
     "text": [
      "['pierce', 'pullman', 'tolkien', 'wong', 'adams', 'king']\n"
     ]
    }
   ],
   "source": [
    "# replace of nix with pullman\n",
    "authors[1] = \"pullman\"\n",
    "print(authors)"
   ]
  },
  {
   "cell_type": "code",
   "execution_count": 79,
   "metadata": {},
   "outputs": [
    {
     "output_type": "stream",
     "name": "stdout",
     "text": [
      "['pierce', 'pullman', 'tolkien', 'wong', 'adams', 'king', 'follett']\n"
     ]
    }
   ],
   "source": [
    "# append to end of list\n",
    "authors.append(\"follett\")\n",
    "print(authors)"
   ]
  },
  {
   "cell_type": "code",
   "execution_count": 80,
   "metadata": {},
   "outputs": [
    {
     "output_type": "stream",
     "name": "stdout",
     "text": [
      "['pierce', 'pullman', 'corey', 'tolkien', 'wong', 'adams', 'king', 'follett']\n"
     ]
    }
   ],
   "source": [
    "# insert before the second element\n",
    "authors.insert(2,'corey')\n",
    "print(authors)"
   ]
  },
  {
   "cell_type": "code",
   "execution_count": 45,
   "metadata": {},
   "outputs": [
    {
     "output_type": "stream",
     "name": "stdout",
     "text": [
      "['pierce', 'pullman', 'corey', 'corey', 'tolkien', 'adams', 'king', 'follet']\n"
     ]
    }
   ],
   "source": [
    "# delete at element specified\n",
    "del authors[5]\n",
    "print(authors)"
   ]
  },
  {
   "cell_type": "code",
   "execution_count": 81,
   "metadata": {},
   "outputs": [
    {
     "output_type": "stream",
     "name": "stdout",
     "text": [
      "['pierce', 'pullman', 'tolkien', 'wong', 'adams', 'king', 'follett']\n"
     ]
    }
   ],
   "source": [
    "# remove named element (only the first instance found)\n",
    "# Note: if you keep running this cell, corey will be removed until there's nothing left\n",
    "authors.remove('corey')\n",
    "print(authors)"
   ]
  },
  {
   "cell_type": "code",
   "execution_count": 54,
   "metadata": {},
   "outputs": [
    {
     "output_type": "error",
     "ename": "IndexError",
     "evalue": "pop from empty list",
     "traceback": [
      "\u001b[1;31m---------------------------------------------------------------------------\u001b[0m",
      "\u001b[1;31mIndexError\u001b[0m                                Traceback (most recent call last)",
      "\u001b[1;32m<ipython-input-54-31b5d19f1b3e>\u001b[0m in \u001b[0;36m<module>\u001b[1;34m\u001b[0m\n\u001b[1;32m----> 1\u001b[1;33m \u001b[0muse_later\u001b[0m \u001b[1;33m=\u001b[0m \u001b[0mauthors\u001b[0m\u001b[1;33m.\u001b[0m\u001b[0mpop\u001b[0m\u001b[1;33m(\u001b[0m\u001b[1;33m)\u001b[0m\u001b[1;33m\u001b[0m\u001b[1;33m\u001b[0m\u001b[0m\n\u001b[0m\u001b[0;32m      2\u001b[0m \u001b[0mprint\u001b[0m\u001b[1;33m(\u001b[0m\u001b[0mauthors\u001b[0m\u001b[1;33m)\u001b[0m\u001b[1;33m\u001b[0m\u001b[1;33m\u001b[0m\u001b[0m\n\u001b[0;32m      3\u001b[0m \u001b[0mprint\u001b[0m\u001b[1;33m(\u001b[0m\u001b[0muse_later\u001b[0m\u001b[1;33m)\u001b[0m\u001b[1;33m\u001b[0m\u001b[1;33m\u001b[0m\u001b[0m\n",
      "\u001b[1;31mIndexError\u001b[0m: pop from empty list"
     ]
    }
   ],
   "source": [
    "# pop removes from end of list, if value is saved can be used later\n",
    "use_later = authors.pop()\n",
    "print(authors)\n",
    "print(use_later)"
   ]
  },
  {
   "cell_type": "code",
   "execution_count": 58,
   "metadata": {},
   "outputs": [
    {
     "output_type": "stream",
     "name": "stdout",
     "text": [
      "6\n"
     ]
    }
   ],
   "source": [
    "# get length of list\n",
    "print(len(authors))"
   ]
  },
  {
   "cell_type": "code",
   "execution_count": 62,
   "metadata": {},
   "outputs": [
    {
     "output_type": "stream",
     "name": "stdout",
     "text": [
      "pierce\ncool\nnix\ncool\ntolkien\ncool\nwong\ncool\nadams\ncool\nking\ncool\nI am here once...\n"
     ]
    }
   ],
   "source": [
    "# for loop syntax\n",
    "for author in authors:\n",
    "    print(author)\n",
    "    print(\"cool\")\n",
    "print(\"I am here once...\")\n",
    "\n"
   ]
  },
  {
   "cell_type": "code",
   "execution_count": 64,
   "metadata": {},
   "outputs": [
    {
     "output_type": "stream",
     "name": "stdout",
     "text": [
      "Pierce is great but probably spelled wrong\nNix is great but probably spelled wrong\nTolkien is great but probably spelled wrong\nWong is great but probably spelled wrong\nAdams is great but probably spelled wrong\nKing is great but probably spelled wrong\nEnd message\n"
     ]
    }
   ],
   "source": [
    "# Exercise: print authors\n",
    "for author in authors:\n",
    "    print(f\"{author.title()} is great but probably spelled wrong\")\n",
    "print(\"End message\")"
   ]
  },
  {
   "source": [
    "### lists as numbers"
   ],
   "cell_type": "markdown",
   "metadata": {}
  },
  {
   "cell_type": "code",
   "execution_count": 77,
   "metadata": {},
   "outputs": [
    {
     "output_type": "stream",
     "name": "stdout",
     "text": [
      "1\n2\n3\n4\n5\nHere's how to work with steps\n1\n5\n9\n13\n17\n"
     ]
    }
   ],
   "source": [
    "# print numbers 1 - 5\n",
    "for num in range(1,6):\n",
    "    print(num)\n",
    "\n",
    "print(\"Here's how to work with steps\")\n",
    "for num in range(1,21,4):\n",
    "    print(num)"
   ]
  },
  {
   "cell_type": "code",
   "execution_count": 69,
   "metadata": {},
   "outputs": [
    {
     "output_type": "stream",
     "name": "stdout",
     "text": [
      "[1, 2, 3, 4, 5]\n"
     ]
    }
   ],
   "source": [
    "# to make a list using range\n",
    "numbers = list(range(1,6))\n",
    "print(numbers)"
   ]
  },
  {
   "cell_type": "code",
   "execution_count": 75,
   "metadata": {},
   "outputs": [
    {
     "output_type": "stream",
     "name": "stdout",
     "text": [
      "3\n6\n9\n12\n15\n18\n21\n24\n27\n30\n[3, 6, 9, 12, 15, 18, 21, 24, 27, 30]\n[3, 6, 9, 12, 15, 18, 21, 24, 27, 30]\n"
     ]
    }
   ],
   "source": [
    "# Exercise: Multiples of Threes\n",
    "\n",
    "threes = []\n",
    "for num in range(3,31,3):\n",
    "    print(num)\n",
    "    threes.append(num)\n",
    "print(threes)\n",
    "\n",
    "simple_threes = list(range(3,31,3))\n",
    "print(simple_threes)\n"
   ]
  },
  {
   "source": [
    "## In Class Exercises for 5/19"
   ],
   "cell_type": "markdown",
   "metadata": {}
  },
  {
   "cell_type": "code",
   "execution_count": 93,
   "metadata": {},
   "outputs": [
    {
     "output_type": "stream",
     "name": "stdout",
     "text": [
      "15\n[4, 22, 1, 16, 5, 13, 22, 17, 5, 11, 7, 18, 11, 24, 12, 30, 10, 17, 19]\n"
     ]
    }
   ],
   "source": [
    "# Exercise: Create random number list\n",
    "import random\n",
    "print(random.randint(1,30))\n",
    "random_list = []\n",
    "for i in range(1,20):\n",
    "    random_list.append(random.randint(1,30))\n",
    "\n",
    "#random_list.append(random.randint(1,30))\n",
    "#random_list.append(random.randint(1,30))\n",
    "#random_list.append(random.randint(1,30))\n",
    "#random_list.append(random.randint(1,30))\n",
    "\n",
    "print(random_list)\n"
   ]
  },
  {
   "cell_type": "code",
   "execution_count": 96,
   "metadata": {},
   "outputs": [
    {
     "output_type": "stream",
     "name": "stdout",
     "text": [
      "[4, 22, 1, 16, 5, 13, 22, 17, 5, 11, 7, 18, 11, 24, 12, 30, 10, 17, 19]\nAverage: 13.894736842105264\n"
     ]
    }
   ],
   "source": [
    "print(random_list)\n",
    "sum_list = sum(random_list)\n",
    "len_list = len(random_list)\n",
    "avg_num = sum_list / len_list\n",
    "print(f\"Average: {avg_num}\")"
   ]
  },
  {
   "cell_type": "code",
   "execution_count": 101,
   "metadata": {},
   "outputs": [
    {
     "output_type": "stream",
     "name": "stdout",
     "text": [
      "[1, 16, 5, 13, 22, 17, 5]\n[4, 22, 1]\n[10, 17, 19]\n"
     ]
    }
   ],
   "source": [
    "print(random_list[2:9])\n",
    "print(random_list[:3])\n",
    "print(random_list[-3:])"
   ]
  },
  {
   "cell_type": "code",
   "execution_count": 114,
   "metadata": {},
   "outputs": [
    {
     "output_type": "stream",
     "name": "stdout",
     "text": [
      "First three toppings are:\n\tonions\n\tmushrooms\n\tsausage\nLast three toppings are:\n\tham\n\tpineapple\n\tonions\n['onions', 'mushrooms', 'sausage', 'ham', 'pineapple', 'onions', 'pepperoni']\n['onions', 'mushrooms', 'sausage', 'ham', 'pineapple', 'onions', 'pepperoni']\n['onions', 'mushrooms', 'sausage', 'ham', 'pineapple', 'onions', 'pepperoni', 'spicy honey']\n"
     ]
    }
   ],
   "source": [
    "# Exercise: Lunch time blues\n",
    "toppings = ['onions', 'mushrooms', 'sausage', 'ham', 'pineapple', 'onions']\n",
    "print(\"First three toppings are:\")\n",
    "for topping in toppings[:3]:\n",
    "    print(f\"\\t{topping}\")\n",
    "\n",
    "print(\"Last three toppings are:\")\n",
    "for topping in toppings[3:]:\n",
    "    print(f\"\\t{topping}\")\n",
    "\n",
    "copy_cat = toppings # didn't put [:]\n",
    "copy_cat.append(\"pepperoni\")\n",
    "other_copy_cat = toppings[:]\n",
    "another_way = toppings.copy()\n",
    "other_copy_cat.append(\"spicy honey\")\n",
    "print(toppings)\n",
    "print(copy_cat)\n",
    "print(other_copy_cat)\n",
    "\n"
   ]
  },
  {
   "cell_type": "code",
   "execution_count": 116,
   "metadata": {},
   "outputs": [
    {
     "output_type": "stream",
     "name": "stdout",
     "text": [
      "First three: peperoni, basil, tomato\nMiddle three: basil, tomato, mozzarella\nLast three: tomato, mozzarella, spicy honey\n['peperoni', 'basil', 'tomato', 'mozzarella', 'spicy honey', 'bbq']\n['peperoni', 'basil', 'tomato', 'mozzarella', 'spicy honey']\n"
     ]
    }
   ],
   "source": [
    "# example solution from chat:\n",
    "toppings = ['peperoni', 'basil', 'tomato', 'mozzarella', 'spicy honey']\n",
    "print(\"First three: \" + ', '.join(toppings[:3]))\n",
    "print(\"Middle three: \" + ', '.join(toppings[1:4]))\n",
    "print(\"Last three: \" + ', '.join(toppings[-3:]))\n",
    "# this is list comprehension\n",
    "copy_cat = [item for item in toppings]\n",
    "copy_cat.append('bbq')\n",
    "print(copy_cat)\n",
    "print(toppings)"
   ]
  },
  {
   "cell_type": "code",
   "execution_count": 119,
   "metadata": {},
   "outputs": [
    {
     "output_type": "error",
     "ename": "TypeError",
     "evalue": "'tuple' object does not support item assignment",
     "traceback": [
      "\u001b[1;31m---------------------------------------------------------------------------\u001b[0m",
      "\u001b[1;31mTypeError\u001b[0m                                 Traceback (most recent call last)",
      "\u001b[1;32m<ipython-input-119-60c91c38c770>\u001b[0m in \u001b[0;36m<module>\u001b[1;34m\u001b[0m\n\u001b[0;32m      1\u001b[0m \u001b[0mauthors\u001b[0m \u001b[1;33m=\u001b[0m \u001b[1;33m(\u001b[0m\u001b[1;34m'corey'\u001b[0m\u001b[1;33m,\u001b[0m \u001b[1;34m'nix'\u001b[0m\u001b[1;33m,\u001b[0m \u001b[1;34m'pierce'\u001b[0m\u001b[1;33m)\u001b[0m\u001b[1;33m\u001b[0m\u001b[1;33m\u001b[0m\u001b[0m\n\u001b[0;32m      2\u001b[0m \u001b[1;31m#authors.append('adams')\u001b[0m\u001b[1;33m\u001b[0m\u001b[1;33m\u001b[0m\u001b[1;33m\u001b[0m\u001b[0m\n\u001b[1;32m----> 3\u001b[1;33m \u001b[0mauthors\u001b[0m\u001b[1;33m[\u001b[0m\u001b[1;36m2\u001b[0m\u001b[1;33m]\u001b[0m \u001b[1;33m=\u001b[0m \u001b[1;34m'pullman'\u001b[0m\u001b[1;33m\u001b[0m\u001b[1;33m\u001b[0m\u001b[0m\n\u001b[0m",
      "\u001b[1;31mTypeError\u001b[0m: 'tuple' object does not support item assignment"
     ]
    }
   ],
   "source": [
    "# intro to tuples\n",
    "authors = ('corey', 'nix', 'pierce')\n",
    "#authors.append('adams')\n",
    "authors[2] = 'pullman'\n",
    "authors = ('pullman','corey')\n"
   ]
  },
  {
   "cell_type": "code",
   "execution_count": 123,
   "metadata": {},
   "outputs": [
    {
     "output_type": "stream",
     "name": "stdout",
     "text": [
      "False\nFalse\nTrue\nTrue\n"
     ]
    }
   ],
   "source": [
    "# conditionals\n",
    "print(4>5)\n",
    "print( 4 > 8 and 3 > 1)\n",
    "print( 8 > 4 and 3 > 1)\n",
    "print( 4 > 8 or 3 > 1)"
   ]
  },
  {
   "cell_type": "code",
   "execution_count": 127,
   "metadata": {},
   "outputs": [
    {
     "output_type": "stream",
     "name": "stdout",
     "text": [
      "True\nTrue\nFalse\n"
     ]
    }
   ],
   "source": [
    "# using \"in\"\n",
    "list_items = ['hat', 'scarf','socks']\n",
    "print('hat' in list_items)\n",
    "print('shirt' not in list_items)\n",
    "print('socks' not in list_items)"
   ]
  },
  {
   "cell_type": "code",
   "execution_count": 133,
   "metadata": {},
   "outputs": [
    {
     "output_type": "stream",
     "name": "stdout",
     "text": [
      "One of those things was not in the list\nTalk about limited options\n"
     ]
    }
   ],
   "source": [
    "# Exercise: Fruit Salad\n",
    "fruits = ['bananas', 'apples','oranges','lemons', 'limes', 'pears']\n",
    "if ('apples' in fruits) and ('mangos' in fruits):\n",
    "    print(\"Sweet, my favs\")\n",
    "else:\n",
    "    print(\"One of those things was not in the list\")\n",
    "\n",
    "if 'peaches' in fruits:\n",
    "    print(\"Peaches are included\")\n",
    "elif 'mangos' in fruits:\n",
    "    print(\"Lemons are included\")\n",
    "else:\n",
    "    print(\"Talk about limited options\")"
   ]
  },
  {
   "cell_type": "code",
   "execution_count": 134,
   "metadata": {},
   "outputs": [
    {
     "output_type": "stream",
     "name": "stdout",
     "text": [
      "I LOVE APPLES\n"
     ]
    }
   ],
   "source": [
    "for fruit in fruits:\n",
    "    if fruit == 'apples':\n",
    "        print(\"I LOVE APPLES\")\n",
    "\n",
    "\n"
   ]
  },
  {
   "cell_type": "code",
   "execution_count": 136,
   "metadata": {},
   "outputs": [
    {
     "output_type": "stream",
     "name": "stdout",
     "text": [
      "That list was empty\n"
     ]
    }
   ],
   "source": [
    "if fruits:\n",
    "    print(fruits)\n",
    "fruits = []\n",
    "if fruits:\n",
    "    print(fruits)\n",
    "else:\n",
    "    print(\"That list was empty\")"
   ]
  },
  {
   "cell_type": "code",
   "execution_count": 137,
   "metadata": {},
   "outputs": [
    {
     "output_type": "stream",
     "name": "stdout",
     "text": [
      "List was empty\n"
     ]
    }
   ],
   "source": [
    "if len(fruits) == 0:\n",
    "    print(\"List was empty\")"
   ]
  },
  {
   "cell_type": "code",
   "execution_count": 146,
   "metadata": {},
   "outputs": [
    {
     "output_type": "stream",
     "name": "stdout",
     "text": [
      "42\n<class 'str'>\n<class 'int'>\n"
     ]
    }
   ],
   "source": [
    "#input from a user\n",
    "response = input(\"enter value: \")\n",
    "print(response)\n",
    "print(type(response))\n",
    "response = int(response)\n",
    "print(type(response))"
   ]
  },
  {
   "cell_type": "code",
   "execution_count": 148,
   "metadata": {},
   "outputs": [
    {
     "output_type": "stream",
     "name": "stdout",
     "text": [
      "['bob', 'sally', 'sue', 'john', 'jacob']\n"
     ]
    }
   ],
   "source": [
    "# Exercise: Adding users\n",
    "existing_users = ['bob', 'sally', 'sue']\n",
    "new_users = ['john', 'jacob', 'Sue']\n",
    "# if new users were empty, why run code?\n",
    "#if new_users:\n",
    "for new_user in new_users:\n",
    "    if new_user in existing_users:\n",
    "        new_user = input(\"Name exists.  Pick new name: \")\n",
    "    existing_users.append(new_user)\n",
    "\n",
    "print(existing_users)\n"
   ]
  },
  {
   "cell_type": "code",
   "execution_count": null,
   "metadata": {},
   "outputs": [],
   "source": []
  }
 ]
}
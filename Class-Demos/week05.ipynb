{
 "metadata": {
  "language_info": {
   "codemirror_mode": {
    "name": "ipython",
    "version": 3
   },
   "file_extension": ".py",
   "mimetype": "text/x-python",
   "name": "python",
   "nbconvert_exporter": "python",
   "pygments_lexer": "ipython3",
   "version": "3.8.5"
  },
  "orig_nbformat": 2,
  "kernelspec": {
   "name": "python385jvsc74a57bd0b3ba2566441a7c06988d0923437866b63cedc61552a5af99d1f4fb67d367b25f",
   "display_name": "Python 3.8.5 64-bit ('base': conda)"
  }
 },
 "nbformat": 4,
 "nbformat_minor": 2,
 "cells": [
  {
   "cell_type": "code",
   "execution_count": 27,
   "metadata": {},
   "outputs": [
    {
     "output_type": "stream",
     "name": "stdout",
     "text": [
      "[\n    6,\n    89,\n    12,\n    14,\n    89\n]\n['[', '    6,', '    89,', '    12,', '    14,', '    89', ']']\n[\n\n    6,\n\n    89,\n\n    12,\n\n    14,\n\n    89\n\n]\n[6, 89, 12, 14, 89]\n<class 'int'>\n"
     ]
    }
   ],
   "source": [
    "# Question from Discord: can you fidget with the separators?\n",
    "\n",
    "import json\n",
    "\n",
    "my_list = [6, 89, 12, 14, 89]\n",
    "with open(\"output.json\", \"w\") as out_file:\n",
    "    #solution provided by K.C\n",
    "    # dump the data - note that dumps is what allows this.  dump is for direct to file\n",
    "    json_str = json.dumps(my_list, indent=4) # or indent=whatever\n",
    "    print(json_str)\n",
    "    # do a split on each new line, use .join to swap newline with what you want\n",
    "    print(json_str.split('\\n'))\n",
    "    #out_str = 'nope'.join(json_str.split('\\n'))\n",
    "    #print(out_str)\n",
    "    out_str = '\\n\\n'.join(json_str.split('\\n'))\n",
    "    print(out_str)\n",
    "    # output modified contents\n",
    "    out_file.write(out_str)\n",
    "\n",
    "out_file.close\n",
    "\n",
    "# The question now: if file is modded a bit for prettiness, can the json module still parse properly?\n",
    "with open (\"output.json\") as in_file:\n",
    "    list_content = json.load(in_file)\n",
    "print(list_content)\n",
    "print(type(list_content[0]))\n",
    "\n",
    "# The story: as long as the file has json syntax to identify what is what, things seem to work out\n",
    "#   Can try outputting to .txt file instead of .json to see that extension type can be misleading, it's what is inside the file that counts"
   ]
  },
  {
   "cell_type": "code",
   "execution_count": 52,
   "metadata": {
    "tags": []
   },
   "outputs": [
    {
     "output_type": "stream",
     "name": "stdout",
     "text": [
      "['Alice', 'in', 'Wonderland']\n['Alice', 'in', 'Wonderland']\n['Alice in ', 'onderland']\n['Alice in Wonderland']\n29465\n"
     ]
    }
   ],
   "source": [
    "title = \"Alice in Wonderland\"\n",
    "print(title.split())\n",
    "print(title.split(' '))\n",
    "print(title.split('W'))\n",
    "print(title.split('\\n'))\n",
    "\n",
    "\n",
    "with open(\"alice.txt\", \"r\", encoding='utf-8') as alice_book:\n",
    "    alice_contents = alice_book.read()\n",
    "\n",
    "#print(alice_contents)\n",
    "# .split only works on a string\n",
    "alice_words = alice_contents.split() # any whitespace character (newlines & spaces included) or define ' '\n",
    "print(len(alice_words))"
   ]
  },
  {
   "cell_type": "code",
   "execution_count": 58,
   "metadata": {
    "tags": []
   },
   "outputs": [
    {
     "output_type": "stream",
     "name": "stdout",
     "text": [
      "alice.txt has a word count of 29465\nalice.txt has a word count of 29465\nlittlewomen.txt has a word count of 189079\n"
     ]
    }
   ],
   "source": [
    "def how_many_words(filename):\n",
    "    book = open(filename, \"r\", encoding='utf-8')\n",
    "    book_contents = book.read()\n",
    "    book_words = book_contents.split()\n",
    "    word_count = len(book_words)\n",
    "    print(f\"{filename} has a word count of {word_count}\")\n",
    "\n",
    "how_many_words(\"alice.txt\")\n",
    "\n",
    "book_list = [\"alice.txt\", \"littlewomen.txt\"]\n",
    "\n",
    "for book in book_list:\n",
    "    how_many_words(book)\n"
   ]
  },
  {
   "cell_type": "code",
   "execution_count": null,
   "metadata": {},
   "outputs": [],
   "source": []
  }
 ]
}
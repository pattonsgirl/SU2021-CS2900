{
 "metadata": {
  "language_info": {
   "codemirror_mode": {
    "name": "ipython",
    "version": 3
   },
   "file_extension": ".py",
   "mimetype": "text/x-python",
   "name": "python",
   "nbconvert_exporter": "python",
   "pygments_lexer": "ipython3",
   "version": 3
  },
  "orig_nbformat": 4
 },
 "nbformat": 4,
 "nbformat_minor": 2,
 "cells": [
  {
   "cell_type": "code",
   "execution_count": null,
   "metadata": {},
   "outputs": [],
   "source": [
    "import pandas as pd\n",
    "\n",
    "df_single_level_cols = pd.DataFrame([[0, 1], [2, 3]],\n",
    "                                    index=['cat', 'dog'],\n",
    "                                    columns=['weight', 'height'])\n",
    "\n",
    "print(df_single_level_cols.stack())\n",
    "print(df_single_level_cols.weight.mean())\n",
    "print(df_single_level_cols.stack().mean())"
   ]
  }
 ]
}
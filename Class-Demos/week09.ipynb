{
 "metadata": {
  "language_info": {
   "codemirror_mode": {
    "name": "ipython",
    "version": 3
   },
   "file_extension": ".py",
   "mimetype": "text/x-python",
   "name": "python",
   "nbconvert_exporter": "python",
   "pygments_lexer": "ipython3",
   "version": "3.8.8"
  },
  "orig_nbformat": 4,
  "kernelspec": {
   "name": "python3",
   "display_name": "Python 3.8.8 64-bit ('base': conda)"
  },
  "interpreter": {
   "hash": "b3ba2566441a7c06988d0923437866b63cedc61552a5af99d1f4fb67d367b25f"
  }
 },
 "nbformat": 4,
 "nbformat_minor": 2,
 "cells": [
  {
   "cell_type": "code",
   "execution_count": 1,
   "metadata": {},
   "outputs": [],
   "source": [
    "import pandas as pd \n",
    "import numpy as np \n"
   ]
  },
  {
   "cell_type": "code",
   "execution_count": 11,
   "metadata": {},
   "outputs": [
    {
     "output_type": "stream",
     "name": "stdout",
     "text": [
      "Index(['Alaska', 'Texas', 'California'], dtype='object')\n",
      "Index(['California', 'Texas', 'New York'], dtype='object')\n",
      "Index(['Alaska', 'California', 'New York', 'Texas'], dtype='object')\n",
      "Index(['Texas', 'California'], dtype='object')\n",
      "Index(['Alaska', 'California', 'New York', 'Texas'], dtype='object')\n",
      "Alaska              NaN\n",
      "California    90.413926\n",
      "New York            NaN\n",
      "Texas         38.018740\n",
      "dtype: float64\n",
      "<ipython-input-11-dd49ec02a363>:7: FutureWarning: Index.__or__ operating as a set operation is deprecated, in the future this will be a logical operation matching Series.__or__.  Use index.union(other) instead\n",
      "  print(area.index | population.index)\n",
      "<ipython-input-11-dd49ec02a363>:8: FutureWarning: Index.__and__ operating as a set operation is deprecated, in the future this will be a logical operation matching Series.__and__.  Use index.intersection(other) instead\n",
      "  print(area.index & population.index)\n"
     ]
    }
   ],
   "source": [
    "area = pd.Series({'Alaska': 1723337, 'Texas': 695662, 'California': 423967}, name='area')\n",
    "population = pd.Series({'California': 38332521, 'Texas': 26448193, 'New York': 19651127}, name='population')\n",
    "\n",
    "# look at the intersection of indices between the series\n",
    "print(area.index)\n",
    "print(population.index)\n",
    "print(area.index | population.index)\n",
    "print(area.index & population.index)\n",
    "\n",
    "#print(area)\n",
    "\n",
    "# get the density - population / area.  Save to new series?\n",
    "density = population /area\n",
    "print(density.index)\n",
    "print(density)\n"
   ]
  },
  {
   "cell_type": "code",
   "execution_count": 28,
   "metadata": {},
   "outputs": [
    {
     "output_type": "stream",
     "name": "stdout",
     "text": [
      "    A   B\n0  12  15\n1   0   3\n   B  A  C\n0  3  7  9\n1  3  5  2\n2  4  7  6\n      A     B   C\n0  19.0  18.0 NaN\n1   5.0   6.0 NaN\n2   NaN   NaN NaN\n7.5\n      A     B     C\n0  19.0  18.0  16.5\n1   5.0   6.0   9.5\n2  14.5  11.5  13.5\n"
     ]
    }
   ],
   "source": [
    "#import random as rng \n",
    "rng = np.random.RandomState(0)\n",
    "\n",
    "A = pd.DataFrame(rng.randint(0, 20, (2, 2)), columns=list('AB'))\n",
    "B = pd.DataFrame(rng.randint(0, 10, (3, 3)), columns=list('BAC'))\n",
    "print(A)\n",
    "print(B)\n",
    "print(A + B)\n",
    "fill = A.stack().mean()\n",
    "print(fill)\n",
    "print(A.add(B, fill_value=fill))"
   ]
  },
  {
   "cell_type": "code",
   "execution_count": 14,
   "metadata": {},
   "outputs": [
    {
     "output_type": "stream",
     "name": "stdout",
     "text": [
      "     weight  height\ncat       0       1\ndog       2       3\ncat  weight    0\n     height    1\ndog  weight    2\n     height    3\ndtype: int64\n1.0\n1.5\n"
     ]
    }
   ],
   "source": [
    "df_single_level_cols = pd.DataFrame([[0, 1], [2, 3]],\n",
    "                                    index=['cat', 'dog'],\n",
    "                                    columns=['weight', 'height'])\n",
    "print(df_single_level_cols)\n",
    "\n",
    "print(df_single_level_cols.stack())\n",
    "print(df_single_level_cols['weight'].mean())\n",
    "print(df_single_level_cols.stack().mean())"
   ]
  },
  {
   "cell_type": "code",
   "execution_count": 29,
   "metadata": {},
   "outputs": [
    {
     "output_type": "execute_result",
     "data": {
      "text/plain": [
       "0    1.0\n",
       "1    NaN\n",
       "2    2.0\n",
       "3    NaN\n",
       "dtype: float64"
      ]
     },
     "metadata": {},
     "execution_count": 29
    }
   ],
   "source": [
    "pd.Series([1, np.nan, 2, None])\n"
   ]
  },
  {
   "cell_type": "code",
   "execution_count": 40,
   "metadata": {},
   "outputs": [
    {
     "output_type": "stream",
     "name": "stdout",
     "text": [
      "0        1\n1      NaN\n2    hello\n3     None\ndtype: object\n0        1\n2    hello\ndtype: object\n0        1\n1        0\n2    hello\n3        0\ndtype: object\n0        1\n1        1\n2    hello\n3    hello\ndtype: object\n"
     ]
    }
   ],
   "source": [
    "data = pd.Series([1, np.nan, 'hello', None])\n",
    "\n",
    "print(data)\n",
    "\n",
    "# isnull\n",
    "#print(data.isnull())\n",
    "#print(data[data.isnull()])\n",
    "# notnull\n",
    "#print(data.notnull())\n",
    "#print(data[data.notnull()])\n",
    "# dropna\n",
    "print(data.dropna())\n",
    "# fillna\n",
    "print(data.fillna(0))\n",
    "print(data.fillna(method = \"ffill\"))\n"
   ]
  },
  {
   "cell_type": "code",
   "execution_count": 74,
   "metadata": {},
   "outputs": [
    {
     "output_type": "stream",
     "name": "stdout",
     "text": [
      "360.0\n"
     ]
    },
    {
     "output_type": "execute_result",
     "data": {
      "text/plain": [
       "     color major num_choice  num_select\n",
       "0   Purple   CEG         42        42.0\n",
       "1   Purple    CS          4         3.0\n",
       "2     Blue    CS         13         3.0\n",
       "6      Red   ITC         35        42.0\n",
       "7     Blue    CS         66        42.0\n",
       "10    Blue    CS         56         5.0\n",
       "15     Red   EGR         64        42.0\n",
       "16     Red   ITC         73        42.0\n",
       "19    Blue    CS          7         5.0"
      ],
      "text/html": "<div>\n<style scoped>\n    .dataframe tbody tr th:only-of-type {\n        vertical-align: middle;\n    }\n\n    .dataframe tbody tr th {\n        vertical-align: top;\n    }\n\n    .dataframe thead th {\n        text-align: right;\n    }\n</style>\n<table border=\"1\" class=\"dataframe\">\n  <thead>\n    <tr style=\"text-align: right;\">\n      <th></th>\n      <th>color</th>\n      <th>major</th>\n      <th>num_choice</th>\n      <th>num_select</th>\n    </tr>\n  </thead>\n  <tbody>\n    <tr>\n      <th>0</th>\n      <td>Purple</td>\n      <td>CEG</td>\n      <td>42</td>\n      <td>42.0</td>\n    </tr>\n    <tr>\n      <th>1</th>\n      <td>Purple</td>\n      <td>CS</td>\n      <td>4</td>\n      <td>3.0</td>\n    </tr>\n    <tr>\n      <th>2</th>\n      <td>Blue</td>\n      <td>CS</td>\n      <td>13</td>\n      <td>3.0</td>\n    </tr>\n    <tr>\n      <th>6</th>\n      <td>Red</td>\n      <td>ITC</td>\n      <td>35</td>\n      <td>42.0</td>\n    </tr>\n    <tr>\n      <th>7</th>\n      <td>Blue</td>\n      <td>CS</td>\n      <td>66</td>\n      <td>42.0</td>\n    </tr>\n    <tr>\n      <th>10</th>\n      <td>Blue</td>\n      <td>CS</td>\n      <td>56</td>\n      <td>5.0</td>\n    </tr>\n    <tr>\n      <th>15</th>\n      <td>Red</td>\n      <td>EGR</td>\n      <td>64</td>\n      <td>42.0</td>\n    </tr>\n    <tr>\n      <th>16</th>\n      <td>Red</td>\n      <td>ITC</td>\n      <td>73</td>\n      <td>42.0</td>\n    </tr>\n    <tr>\n      <th>19</th>\n      <td>Blue</td>\n      <td>CS</td>\n      <td>7</td>\n      <td>5.0</td>\n    </tr>\n  </tbody>\n</table>\n</div>"
     },
     "metadata": {},
     "execution_count": 74
    }
   ],
   "source": [
    "survey_results = pd.read_csv(\n",
    "    \"https://raw.githubusercontent.com/pattonsgirl/SU2021-CS2900/main/Class-Demos/silly-survey.csv\",\n",
    "    #usecols=['Favorite color of provided', 'Major', 'Favorite number (your choice)', 'Favorite number (from provided)'],\n",
    "    #names=['color', 'major', 'num_choice', 'num_select']\n",
    "    )\n",
    "# https://pandas.pydata.org/pandas-docs/stable/reference/api/pandas.DataFrame.drop.html\n",
    "survey_results = survey_results.drop(columns='Timestamp')\n",
    "# https://pandas.pydata.org/pandas-docs/stable/reference/api/pandas.DataFrame.rename.html\n",
    "survey_results = survey_results.rename(columns={\n",
    "    'Favorite color of provided': 'color', \n",
    "    'Major': 'major', \n",
    "    'Favorite number (your choice)': 'num_choice',\n",
    "    'Favorite number (from provided)': 'num_select'})\n",
    "\n",
    "# https://pandas.pydata.org/docs/reference/api/pandas.DataFrame.replace.html\n",
    "survey_results['major'] = survey_results['major'].replace('Other', 'EGR')\n",
    "#survey_results = survey_results.replace('Other', 'EGR')\n",
    "\n",
    "# https://pandas.pydata.org/pandas-docs/stable/reference/api/pandas.to_numeric.html\n",
    "survey_results['num_choice'] = pd.to_numeric(survey_results['num_choice'], errors='coerce')\n",
    "\n",
    "print(survey_results['num_choice'].sum())\n",
    "\n",
    "cleansed_survey = survey_results[survey_results['num_choice'].notnull()]\n",
    "\n",
    "survey_results\n",
    "cleansed_survey"
   ]
  }
 ]
}
{
 "metadata": {
  "language_info": {
   "codemirror_mode": {
    "name": "ipython",
    "version": 3
   },
   "file_extension": ".py",
   "mimetype": "text/x-python",
   "name": "python",
   "nbconvert_exporter": "python",
   "pygments_lexer": "ipython3",
   "version": "3.8.8"
  },
  "orig_nbformat": 4,
  "kernelspec": {
   "name": "python3",
   "display_name": "Python 3.8.8 64-bit ('base': conda)"
  },
  "interpreter": {
   "hash": "b3ba2566441a7c06988d0923437866b63cedc61552a5af99d1f4fb67d367b25f"
  }
 },
 "nbformat": 4,
 "nbformat_minor": 2,
 "cells": [
  {
   "cell_type": "code",
   "execution_count": 2,
   "metadata": {},
   "outputs": [],
   "source": [
    "import pandas as pd \n",
    "import numpy as np \n"
   ]
  },
  {
   "cell_type": "code",
   "execution_count": 7,
   "metadata": {},
   "outputs": [
    {
     "output_type": "stream",
     "name": "stdout",
     "text": [
      "   index      company   body-style  wheel-base  length engine-type  \\\n0      0  alfa-romero  convertible        88.6   168.8        dohc   \n1      1  alfa-romero  convertible        88.6   168.8        dohc   \n2      2  alfa-romero    hatchback        94.5   171.2        ohcv   \n3      3         audi        sedan        99.8   176.6         ohc   \n4      4         audi        sedan        99.4   176.6         ohc   \n\n  num-of-cylinders  horsepower  average-mileage    price  \n0             four         111               21  13495.0  \n1             four         111               21  16500.0  \n2              six         154               19  16500.0  \n3             four         102               24  13950.0  \n4             five         115               18  17450.0  \n"
     ]
    }
   ],
   "source": [
    "# pandas exercises\n",
    "# https://pynative.com/python-pandas-exercise/ - 1\n",
    "auto = pd.read_csv(\"Automobile_data.csv\")\n",
    "print(auto.head(5))"
   ]
  },
  {
   "cell_type": "code",
   "execution_count": 13,
   "metadata": {},
   "outputs": [
    {
     "output_type": "stream",
     "name": "stdout",
     "text": [
      "   index      company   body-style  wheel-base  length engine-type  \\\n0      0  alfa-romero  convertible        88.6   168.8        dohc   \n1      1  alfa-romero  convertible        88.6   168.8        dohc   \n2      2  alfa-romero    hatchback        94.5   171.2        ohcv   \n3      3         audi        sedan        99.8   176.6         ohc   \n4      4         audi        sedan        99.4   176.6         ohc   \n\n  num-of-cylinders  horsepower  average-mileage    price  \n0             four         111               21  13495.0  \n1             four         111               21  16500.0  \n2              six         154               19  16500.0  \n3             four         102               24  13950.0  \n4             five         115               18  17450.0  \nindex                 int64\ncompany              object\nbody-style           object\nwheel-base          float64\nlength              float64\nengine-type          object\nnum-of-cylinders     object\nhorsepower            int64\naverage-mileage       int64\nprice               float64\ndtype: object\n"
     ]
    }
   ],
   "source": [
    "# https://pynative.com/python-pandas-exercise/ - 2\n",
    "# https://pandas.pydata.org/docs/reference/api/pandas.DataFrame.replace.html\n",
    "auto = auto.replace(\"?\", \"NaN\")\n",
    "print(auto.head(5))\n",
    "print(auto.dtypes)"
   ]
  },
  {
   "cell_type": "code",
   "execution_count": 15,
   "metadata": {},
   "outputs": [
    {
     "output_type": "stream",
     "name": "stdout",
     "text": [
      "          company    price\n35  mercedes-benz  45400.0\n"
     ]
    }
   ],
   "source": [
    "# https://pynative.com/python-pandas-exercise/ - 3\n",
    "max_price = auto['price'].max()\n",
    "#print(auto.loc[auto['price'].max()])\n",
    "print(auto.loc[auto['price'] == max_price, ['company', 'price']])"
   ]
  },
  {
   "cell_type": "code",
   "execution_count": 16,
   "metadata": {},
   "outputs": [
    {
     "output_type": "stream",
     "name": "stdout",
     "text": [
      "    index company body-style  wheel-base  length engine-type num-of-cylinders  \\\n48     66  toyota  hatchback        95.7   158.7         ohc             four   \n49     67  toyota  hatchback        95.7   158.7         ohc             four   \n50     68  toyota  hatchback        95.7   158.7         ohc             four   \n51     69  toyota      wagon        95.7   169.7         ohc             four   \n52     70  toyota      wagon        95.7   169.7         ohc             four   \n53     71  toyota      wagon        95.7   169.7         ohc             four   \n54     79  toyota      wagon       104.5   187.8        dohc              six   \n\n    horsepower  average-mileage    price  \n48          62               35   5348.0  \n49          62               31   6338.0  \n50          62               31   6488.0  \n51          62               31   6918.0  \n52          62               27   7898.0  \n53          62               27   8778.0  \n54         156               19  15750.0  \n"
     ]
    }
   ],
   "source": [
    "# https://pynative.com/python-pandas-exercise/ - 4\n",
    "print(auto[auto['company'] == 'toyota'])"
   ]
  },
  {
   "cell_type": "code",
   "execution_count": 51,
   "metadata": {},
   "outputs": [
    {
     "output_type": "stream",
     "name": "stdout",
     "text": [
      "    A   B\n0  A1  B1\n1  A2  B2\n   A  B\n0  1  2\n1  1  2\n   A  B\n0  3  4\n1  3  4\n   A  B\n0  1  2\n1  1  2\n0  3  4\n1  3  4\n   A  B  A  B\n0  1  2  3  4\n1  1  2  3  4\n   A  B\n0  1  2\n1  1  2\n0  3  4\n1  3  4\n"
     ]
    }
   ],
   "source": [
    "# concat and append\n",
    "\n",
    "ser1 = pd.Series(['A', 'B', 'C'], index=[1, 2, 3])\n",
    "ser2 = pd.Series(['D', 'E', 'F'], index=[4, 5, 6])\n",
    "pd.concat([ser1, ser2])\n",
    "\n",
    "# not enough info: {'A': 1, 'B': 2} - passing wrong type of data (scalar) instead of list\n",
    "# https://codesource.io/solved-valueerror-if-using-all-scalar-values-you-must-pass-an-index/\n",
    "dict1 = {'A': ['A1', 'A2'], 'B': ['B1', 'B2']}\n",
    "df3 = pd.DataFrame.from_dict(dict1)\n",
    "print(df3)\n",
    "\n",
    "df1 = pd.DataFrame({'A': 1, 'B': 2}, index=[0,1])\n",
    "#df1 = pd.DataFrame({'A': [1], 'B': [2]})#, index=[0,1])\n",
    "df2 = pd.DataFrame({'A': 3, 'B': 4}, index=[0,1])\n",
    "print(df1)\n",
    "print(df2)\n",
    "# concatentate on row (stack)\n",
    "print(pd.concat([df1, df2]))\n",
    "# concatenate on column (widen)\n",
    "print(pd.concat([df1, df2], axis=1))\n",
    "# append (same behavior as concatenate)\n",
    "print(df1.append(df2))"
   ]
  },
  {
   "cell_type": "code",
   "execution_count": 28,
   "metadata": {},
   "outputs": [
    {
     "output_type": "stream",
     "name": "stdout",
     "text": [
      "  employee        group\n0      Bob   Accounting\n1     Jake  Engineering\n2     Lisa  Engineering\n3      Sue           HR\n  employee  hire_date\n0     Lisa       2004\n1      Bob       2008\n2     Jake       2012\n3      Sue       2014\n  employee        group  hire_date\n0      Bob   Accounting       2008\n1     Jake  Engineering       2012\n2     Lisa  Engineering       2004\n3      Sue           HR       2014\n"
     ]
    }
   ],
   "source": [
    "# join and merge\n",
    "# given one to one relationship (employee is in both)\n",
    "df1 = pd.DataFrame({'employee': ['Bob', 'Jake', 'Lisa', 'Sue'],\n",
    "                    'group': ['Accounting', 'Engineering', 'Engineering', 'HR']})\n",
    "df2 = pd.DataFrame({'employee': ['Lisa', 'Bob', 'Jake', 'Sue'],\n",
    "                    'hire_date': [2004, 2008, 2012, 2014]})\n",
    "\n",
    "print(df1)\n",
    "print(df2)\n",
    "\n",
    "print(df1.merge(df2))\n",
    "df3 = df1.merge(df2)"
   ]
  },
  {
   "cell_type": "code",
   "execution_count": 30,
   "metadata": {},
   "outputs": [
    {
     "output_type": "stream",
     "name": "stdout",
     "text": [
      "         group supervisor\n0   Accounting      Carly\n1  Engineering      Guido\n2           HR      Steve\n  employee        group  hire_date supervisor\n0      Bob   Accounting       2008      Carly\n1     Jake  Engineering       2012      Guido\n2     Lisa  Engineering       2004      Guido\n3      Sue           HR       2014      Steve\n"
     ]
    }
   ],
   "source": [
    "# join and merge\n",
    "# many to one relationship (group is in both, one supervisor per group, multiple employees in a group)\n",
    "df4 = pd.DataFrame({'group': ['Accounting', 'Engineering', 'HR'],\n",
    "                    'supervisor': ['Carly', 'Guido', 'Steve']})\n",
    "print(df4)\n",
    "print(df3.merge(df4))\n",
    "df5 = df3.merge(df4)"
   ]
  },
  {
   "cell_type": "code",
   "execution_count": 33,
   "metadata": {},
   "outputs": [
    {
     "output_type": "stream",
     "name": "stdout",
     "text": [
      "         group        skills\n0   Accounting          math\n1   Accounting  spreadsheets\n2  Engineering        coding\n3  Engineering         linux\n4           HR  spreadsheets\n5           HR  organization\n  employee        group  hire_date supervisor        skills\n0      Bob   Accounting       2008      Carly          math\n1      Bob   Accounting       2008      Carly  spreadsheets\n2     Jake  Engineering       2012      Guido        coding\n3     Jake  Engineering       2012      Guido         linux\n4     Lisa  Engineering       2004      Guido        coding\n5     Lisa  Engineering       2004      Guido         linux\n6      Sue           HR       2014      Steve  spreadsheets\n7      Sue           HR       2014      Steve  organization\n"
     ]
    }
   ],
   "source": [
    "# join and merge\n",
    "# many to many relationship (group is in both, multiple employees and in a group and multiple skills are used by a group)\n",
    "df6 = pd.DataFrame({'group': ['Accounting', 'Accounting',\n",
    "                              'Engineering', 'Engineering', 'HR', 'HR'],\n",
    "                    'skills': ['math', 'spreadsheets', 'coding', 'linux',\n",
    "                               'spreadsheets', 'organization']})\n",
    "print(df6)\n",
    "print(df5.merge(df6))"
   ]
  },
  {
   "cell_type": "code",
   "execution_count": 42,
   "metadata": {},
   "outputs": [
    {
     "output_type": "stream",
     "name": "stdout",
     "text": [
      "    Company   Price\n0      Ford   23845\n1  Mercedes  171995\n2       BMV  135925\n3      Audi   71400\n       Company  Price\n0       Toyota  29995\n1        Honda  23600\n2       Nissan  61500\n3  Mitsubishi   58900\n               Company   Price\nGermany 0         Ford   23845\n        1     Mercedes  171995\n        2          BMV  135925\n        3         Audi   71400\nJapan   0       Toyota   29995\n        1        Honda   23600\n        2       Nissan   61500\n        3  Mitsubishi    58900\n"
     ]
    }
   ],
   "source": [
    "# Ex 9\n",
    "# https://pynative.com/python-pandas-exercise/ - 9 \n",
    "GermanCars = {'Company': ['Ford', 'Mercedes', 'BMV', 'Audi'], 'Price': [23845, 171995, 135925 , 71400]}\n",
    "japaneseCars = {'Company': ['Toyota', 'Honda', 'Nissan', 'Mitsubishi '], 'Price': [29995, 23600, 61500 , 58900]}\n",
    "\n",
    "germany = pd.DataFrame.from_dict(GermanCars)\n",
    "japan = pd.DataFrame.from_dict(japaneseCars)\n",
    "print(germany)\n",
    "print(japan)\n",
    "# https://jakevdp.github.io/PythonDataScienceHandbook/03.06-concat-and-append.html\n",
    "# pd.concat([x, y], keys=['x', 'y'])\n",
    "both = pd.concat([germany, japan], keys=[\"Germany\", \"Japan\"])\n",
    "print(both)"
   ]
  },
  {
   "cell_type": "code",
   "execution_count": 40,
   "metadata": {},
   "outputs": [
    {
     "output_type": "stream",
     "name": "stdout",
     "text": [
      "  Company   Price  horsepower\n0  Toyota   23845         141\n1   Honda   17995          80\n2     BMV  135925         182\n3    Audi   71400         160\n"
     ]
    }
   ],
   "source": [
    "# Ex 10\n",
    "# https://pynative.com/python-pandas-exercise/ - 10\n",
    "Car_Price = {'Company': ['Toyota', 'Honda', 'BMV', 'Audi'], 'Price': [23845, 17995, 135925 , 71400]}\n",
    "car_Horsepower = {'Company': ['Toyota', 'Honda', 'BMV', 'Audi'], 'horsepower': [141, 80, 182 , 160]}\n",
    "\n",
    "cprice = pd.DataFrame.from_dict(Car_Price)\n",
    "chorepower = pd.DataFrame.from_dict(car_Horsepower)\n",
    "\n",
    "cmerged = cprice.merge(chorepower)\n",
    "print(cmerged)"
   ]
  }
 ]
}
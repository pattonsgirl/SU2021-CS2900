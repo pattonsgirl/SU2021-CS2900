{
 "metadata": {
  "language_info": {
   "codemirror_mode": {
    "name": "ipython",
    "version": 3
   },
   "file_extension": ".py",
   "mimetype": "text/x-python",
   "name": "python",
   "nbconvert_exporter": "python",
   "pygments_lexer": "ipython3",
   "version": "3.8.8"
  },
  "orig_nbformat": 4,
  "kernelspec": {
   "name": "python3",
   "display_name": "Python 3.8.8 64-bit ('base': conda)"
  },
  "interpreter": {
   "hash": "b3ba2566441a7c06988d0923437866b63cedc61552a5af99d1f4fb67d367b25f"
  }
 },
 "nbformat": 4,
 "nbformat_minor": 2,
 "cells": [
  {
   "cell_type": "code",
   "execution_count": 172,
   "metadata": {},
   "outputs": [],
   "source": [
    "import pandas as pd \n",
    "import numpy as np "
   ]
  },
  {
   "cell_type": "code",
   "execution_count": 173,
   "metadata": {},
   "outputs": [
    {
     "output_type": "stream",
     "name": "stdout",
     "text": [
      "   index      company   body-style  wheel-base  length engine-type  \\\n0      0  alfa-romero  convertible        88.6   168.8        dohc   \n1      1  alfa-romero  convertible        88.6   168.8        dohc   \n2      2  alfa-romero    hatchback        94.5   171.2        ohcv   \n3      3         audi        sedan        99.8   176.6         ohc   \n4      4         audi        sedan        99.4   176.6         ohc   \n\n  num-of-cylinders  horsepower  average-mileage    price  \n0             four         111               21  13495.0  \n1             four         111               21  16500.0  \n2              six         154               19  16500.0  \n3             four         102               24  13950.0  \n4             five         115               18  17450.0  \n"
     ]
    }
   ],
   "source": [
    "auto = pd.read_csv(\"Automobile_data.csv\")\n",
    "auto = auto.replace(\"?\", \"NaN\")\n",
    "print(auto.head(5))"
   ]
  },
  {
   "cell_type": "code",
   "execution_count": 174,
   "metadata": {},
   "outputs": [
    {
     "output_type": "stream",
     "name": "stdout",
     "text": [
      "toyota           7\nbmw              6\nnissan           5\nmazda            5\naudi             4\nmitsubishi       4\nvolkswagen       4\nmercedes-benz    4\nchevrolet        3\nhonda            3\nporsche          3\nisuzu            3\nalfa-romero      3\njaguar           3\ndodge            2\nvolvo            2\nName: company, dtype: int64\n"
     ]
    }
   ],
   "source": [
    "# Exercise 5: Count total cars per company\n",
    "print(auto['company'].value_counts())\n"
   ]
  },
  {
   "cell_type": "code",
   "execution_count": 175,
   "metadata": {},
   "outputs": [
    {
     "output_type": "stream",
     "name": "stdout",
     "text": [
      "company\nalfa-romero      16500.0\naudi             18920.0\nbmw              41315.0\nchevrolet         6575.0\ndodge             6377.0\nhonda            12945.0\nisuzu             6785.0\njaguar           36000.0\nmazda            18344.0\nmercedes-benz    45400.0\nmitsubishi        8189.0\nnissan           13499.0\nporsche          37028.0\ntoyota           15750.0\nvolkswagen        9995.0\nvolvo            13415.0\nName: price, dtype: float64\n"
     ]
    }
   ],
   "source": [
    "# Exercise 6: Find each company’s Highest price car\n",
    "print(auto.groupby('company')['price'].max())"
   ]
  },
  {
   "cell_type": "code",
   "execution_count": 176,
   "metadata": {},
   "outputs": [
    {
     "output_type": "stream",
     "name": "stdout",
     "text": [
      "company\nalfa-romero      20.333333\naudi             20.000000\nbmw              19.000000\nchevrolet        41.000000\ndodge            31.000000\nhonda            26.333333\nisuzu            33.333333\njaguar           14.333333\nmazda            28.000000\nmercedes-benz    18.000000\nmitsubishi       29.500000\nnissan           31.400000\nporsche          17.000000\ntoyota           28.714286\nvolkswagen       31.750000\nvolvo            23.000000\nName: average-mileage, dtype: float64\n"
     ]
    }
   ],
   "source": [
    "# Exercise 7: Find the average mileage of each car making company\n",
    "print(auto.groupby('company')['average-mileage'].mean())"
   ]
  },
  {
   "cell_type": "code",
   "execution_count": 177,
   "metadata": {},
   "outputs": [
    {
     "output_type": "stream",
     "name": "stdout",
     "text": [
      "    index        company   body-style  wheel-base  length engine-type  \\\n35     47  mercedes-benz      hardtop       112.0   199.2        ohcv   \n11     14            bmw        sedan       103.5   193.8         ohc   \n34     46  mercedes-benz        sedan       120.9   208.1        ohcv   \n46     62        porsche  convertible        89.5   168.9        ohcf   \n12     15            bmw        sedan       110.0   197.0         ohc   \n26     35         jaguar        sedan       102.0   191.7        ohcv   \n25     34         jaguar        sedan       113.0   199.6        dohc   \n45     61        porsche      hardtop        89.5   168.9        ohcf   \n24     33         jaguar        sedan       113.0   199.6        dohc   \n10     13            bmw        sedan       103.5   189.0         ohc   \n\n   num-of-cylinders  horsepower  average-mileage    price  \n35            eight         184               14  45400.0  \n11              six         182               16  41315.0  \n34            eight         184               14  40960.0  \n46              six         207               17  37028.0  \n12              six         182               15  36880.0  \n26           twelve         262               13  36000.0  \n25              six         176               15  35550.0  \n45              six         207               17  34028.0  \n24              six         176               15  32250.0  \n10              six         182               16  30760.0  \n"
     ]
    }
   ],
   "source": [
    "# Exercise 8: Sort all cars by Price column - Print 10 most expensive\n",
    "# https://pandas.pydata.org/pandas-docs/stable/reference/api/pandas.DataFrame.sort_values.html\n",
    "print(auto.sort_values(by='price', ascending=False).head(10))"
   ]
  },
  {
   "cell_type": "code",
   "execution_count": 178,
   "metadata": {},
   "outputs": [
    {
     "output_type": "execute_result",
     "data": {
      "text/plain": [
       "      schedule_date  schedule_season schedule_week  schedule_playoff  \\\n",
       "10008      9/9/2010             2010             1             False   \n",
       "10009     9/12/2010             2010             1             False   \n",
       "10010     9/12/2010             2010             1             False   \n",
       "10011     9/12/2010             2010             1             False   \n",
       "10012     9/12/2010             2010             1             False   \n",
       "10013     9/12/2010             2010             1             False   \n",
       "10014     9/12/2010             2010             1             False   \n",
       "10015     9/12/2010             2010             1             False   \n",
       "10016     9/12/2010             2010             1             False   \n",
       "10017     9/12/2010             2010             1             False   \n",
       "\n",
       "                  team_home  score_home  score_away            team_away  \\\n",
       "10008    New Orleans Saints        14.0         9.0    Minnesota Vikings   \n",
       "10009         Buffalo Bills        10.0        15.0       Miami Dolphins   \n",
       "10010         Chicago Bears        19.0        14.0        Detroit Lions   \n",
       "10011        Houston Texans        34.0        24.0   Indianapolis Colts   \n",
       "10012  Jacksonville Jaguars        24.0        17.0       Denver Broncos   \n",
       "10013  New England Patriots        38.0        24.0   Cincinnati Bengals   \n",
       "10014       New York Giants        31.0        18.0    Carolina Panthers   \n",
       "10015   Philadelphia Eagles        20.0        27.0    Green Bay Packers   \n",
       "10016   Pittsburgh Steelers        15.0         9.0      Atlanta Falcons   \n",
       "10017      Seattle Seahawks        31.0         6.0  San Francisco 49ers   \n",
       "\n",
       "      team_favorite_id  spread_favorite over_under_line  \\\n",
       "10008               NO             -5.0            49.5   \n",
       "10009              MIA             -3.0              39   \n",
       "10010              CHI             -6.5              45   \n",
       "10011              IND             -1.0              48   \n",
       "10012              JAX             -3.0            41.5   \n",
       "10013               NE             -5.5              45   \n",
       "10014              NYG             -6.0              41   \n",
       "10015               GB             -3.0              48   \n",
       "10016              ATL             -1.5            39.5   \n",
       "10017               SF             -3.0              37   \n",
       "\n",
       "                       stadium stadium_neutral  weather_temperature  \\\n",
       "10008      Louisiana Superdome           False                 72.0   \n",
       "10009     Ralph Wilson Stadium           False                 64.0   \n",
       "10010            Soldier Field           False                 75.0   \n",
       "10011          Reliant Stadium           False                 89.0   \n",
       "10012           EverBank Field           False                 91.0   \n",
       "10013         Gillette Stadium           False                 63.0   \n",
       "10014          MetLife Stadium           False                 65.0   \n",
       "10015  Lincoln Financial Field           False                 69.0   \n",
       "10016              Heinz Field           False                 65.0   \n",
       "10017        CenturyLink Field           False                 64.0   \n",
       "\n",
       "       weather_wind_mph weather_humidity    weather_detail  \n",
       "10008               0.0              NaN              DOME  \n",
       "10009               7.0               81               NaN  \n",
       "10010               1.0               45               NaN  \n",
       "10011               5.0              NaN  DOME (Open Roof)  \n",
       "10012               1.0               67               NaN  \n",
       "10013              10.0              NaN               NaN  \n",
       "10014               1.0               67              Rain  \n",
       "10015               4.0               72               NaN  \n",
       "10016               9.0               67               NaN  \n",
       "10017              11.0              NaN               NaN  "
      ],
      "text/html": "<div>\n<style scoped>\n    .dataframe tbody tr th:only-of-type {\n        vertical-align: middle;\n    }\n\n    .dataframe tbody tr th {\n        vertical-align: top;\n    }\n\n    .dataframe thead th {\n        text-align: right;\n    }\n</style>\n<table border=\"1\" class=\"dataframe\">\n  <thead>\n    <tr style=\"text-align: right;\">\n      <th></th>\n      <th>schedule_date</th>\n      <th>schedule_season</th>\n      <th>schedule_week</th>\n      <th>schedule_playoff</th>\n      <th>team_home</th>\n      <th>score_home</th>\n      <th>score_away</th>\n      <th>team_away</th>\n      <th>team_favorite_id</th>\n      <th>spread_favorite</th>\n      <th>over_under_line</th>\n      <th>stadium</th>\n      <th>stadium_neutral</th>\n      <th>weather_temperature</th>\n      <th>weather_wind_mph</th>\n      <th>weather_humidity</th>\n      <th>weather_detail</th>\n    </tr>\n  </thead>\n  <tbody>\n    <tr>\n      <th>10008</th>\n      <td>9/9/2010</td>\n      <td>2010</td>\n      <td>1</td>\n      <td>False</td>\n      <td>New Orleans Saints</td>\n      <td>14.0</td>\n      <td>9.0</td>\n      <td>Minnesota Vikings</td>\n      <td>NO</td>\n      <td>-5.0</td>\n      <td>49.5</td>\n      <td>Louisiana Superdome</td>\n      <td>False</td>\n      <td>72.0</td>\n      <td>0.0</td>\n      <td>NaN</td>\n      <td>DOME</td>\n    </tr>\n    <tr>\n      <th>10009</th>\n      <td>9/12/2010</td>\n      <td>2010</td>\n      <td>1</td>\n      <td>False</td>\n      <td>Buffalo Bills</td>\n      <td>10.0</td>\n      <td>15.0</td>\n      <td>Miami Dolphins</td>\n      <td>MIA</td>\n      <td>-3.0</td>\n      <td>39</td>\n      <td>Ralph Wilson Stadium</td>\n      <td>False</td>\n      <td>64.0</td>\n      <td>7.0</td>\n      <td>81</td>\n      <td>NaN</td>\n    </tr>\n    <tr>\n      <th>10010</th>\n      <td>9/12/2010</td>\n      <td>2010</td>\n      <td>1</td>\n      <td>False</td>\n      <td>Chicago Bears</td>\n      <td>19.0</td>\n      <td>14.0</td>\n      <td>Detroit Lions</td>\n      <td>CHI</td>\n      <td>-6.5</td>\n      <td>45</td>\n      <td>Soldier Field</td>\n      <td>False</td>\n      <td>75.0</td>\n      <td>1.0</td>\n      <td>45</td>\n      <td>NaN</td>\n    </tr>\n    <tr>\n      <th>10011</th>\n      <td>9/12/2010</td>\n      <td>2010</td>\n      <td>1</td>\n      <td>False</td>\n      <td>Houston Texans</td>\n      <td>34.0</td>\n      <td>24.0</td>\n      <td>Indianapolis Colts</td>\n      <td>IND</td>\n      <td>-1.0</td>\n      <td>48</td>\n      <td>Reliant Stadium</td>\n      <td>False</td>\n      <td>89.0</td>\n      <td>5.0</td>\n      <td>NaN</td>\n      <td>DOME (Open Roof)</td>\n    </tr>\n    <tr>\n      <th>10012</th>\n      <td>9/12/2010</td>\n      <td>2010</td>\n      <td>1</td>\n      <td>False</td>\n      <td>Jacksonville Jaguars</td>\n      <td>24.0</td>\n      <td>17.0</td>\n      <td>Denver Broncos</td>\n      <td>JAX</td>\n      <td>-3.0</td>\n      <td>41.5</td>\n      <td>EverBank Field</td>\n      <td>False</td>\n      <td>91.0</td>\n      <td>1.0</td>\n      <td>67</td>\n      <td>NaN</td>\n    </tr>\n    <tr>\n      <th>10013</th>\n      <td>9/12/2010</td>\n      <td>2010</td>\n      <td>1</td>\n      <td>False</td>\n      <td>New England Patriots</td>\n      <td>38.0</td>\n      <td>24.0</td>\n      <td>Cincinnati Bengals</td>\n      <td>NE</td>\n      <td>-5.5</td>\n      <td>45</td>\n      <td>Gillette Stadium</td>\n      <td>False</td>\n      <td>63.0</td>\n      <td>10.0</td>\n      <td>NaN</td>\n      <td>NaN</td>\n    </tr>\n    <tr>\n      <th>10014</th>\n      <td>9/12/2010</td>\n      <td>2010</td>\n      <td>1</td>\n      <td>False</td>\n      <td>New York Giants</td>\n      <td>31.0</td>\n      <td>18.0</td>\n      <td>Carolina Panthers</td>\n      <td>NYG</td>\n      <td>-6.0</td>\n      <td>41</td>\n      <td>MetLife Stadium</td>\n      <td>False</td>\n      <td>65.0</td>\n      <td>1.0</td>\n      <td>67</td>\n      <td>Rain</td>\n    </tr>\n    <tr>\n      <th>10015</th>\n      <td>9/12/2010</td>\n      <td>2010</td>\n      <td>1</td>\n      <td>False</td>\n      <td>Philadelphia Eagles</td>\n      <td>20.0</td>\n      <td>27.0</td>\n      <td>Green Bay Packers</td>\n      <td>GB</td>\n      <td>-3.0</td>\n      <td>48</td>\n      <td>Lincoln Financial Field</td>\n      <td>False</td>\n      <td>69.0</td>\n      <td>4.0</td>\n      <td>72</td>\n      <td>NaN</td>\n    </tr>\n    <tr>\n      <th>10016</th>\n      <td>9/12/2010</td>\n      <td>2010</td>\n      <td>1</td>\n      <td>False</td>\n      <td>Pittsburgh Steelers</td>\n      <td>15.0</td>\n      <td>9.0</td>\n      <td>Atlanta Falcons</td>\n      <td>ATL</td>\n      <td>-1.5</td>\n      <td>39.5</td>\n      <td>Heinz Field</td>\n      <td>False</td>\n      <td>65.0</td>\n      <td>9.0</td>\n      <td>67</td>\n      <td>NaN</td>\n    </tr>\n    <tr>\n      <th>10017</th>\n      <td>9/12/2010</td>\n      <td>2010</td>\n      <td>1</td>\n      <td>False</td>\n      <td>Seattle Seahawks</td>\n      <td>31.0</td>\n      <td>6.0</td>\n      <td>San Francisco 49ers</td>\n      <td>SF</td>\n      <td>-3.0</td>\n      <td>37</td>\n      <td>CenturyLink Field</td>\n      <td>False</td>\n      <td>64.0</td>\n      <td>11.0</td>\n      <td>NaN</td>\n      <td>NaN</td>\n    </tr>\n  </tbody>\n</table>\n</div>"
     },
     "metadata": {},
     "execution_count": 178
    }
   ],
   "source": [
    "football_data = pd.read_csv(\"https://raw.githubusercontent.com/pattonsgirl/SU2021-CS2900/main/Class-Demos/spreadspoke_scores.csv\")\n",
    "#football_data.head(10)\n",
    "\n",
    "football_data = football_data[football_data['schedule_season'] > 2009]\n",
    "football_data.head(10)\n",
    "\n"
   ]
  },
  {
   "cell_type": "code",
   "execution_count": 179,
   "metadata": {},
   "outputs": [
    {
     "output_type": "stream",
     "name": "stdout",
     "text": [
      "(3211, 17)\nschedule_date             0\nschedule_season           0\nschedule_week             0\nschedule_playoff          0\nteam_home                 0\nscore_home              272\nscore_away              272\nteam_away                 0\nteam_favorite_id        272\nspread_favorite         272\nover_under_line         272\nstadium                 272\nstadium_neutral         272\nweather_temperature     710\nweather_wind_mph        712\nweather_humidity       2539\nweather_detail         2292\ndtype: int64\n(2939, 17)\nschedule_date             0\nschedule_season           0\nschedule_week             0\nschedule_playoff          0\nteam_home                 0\nscore_home                0\nscore_away                0\nteam_away                 0\nteam_favorite_id          0\nspread_favorite           0\nover_under_line           0\nstadium                   0\nstadium_neutral           0\nweather_temperature     438\nweather_wind_mph        440\nweather_humidity       2267\nweather_detail         2020\ndtype: int64\n"
     ]
    }
   ],
   "source": [
    "print(football_data.shape)\n",
    "print(football_data.isna().sum())\n",
    "\n",
    "football_data = football_data[football_data['score_home'].notna()]\n",
    "print(football_data.shape)\n",
    "\n",
    "print(football_data.isna().sum())\n",
    "\n"
   ]
  },
  {
   "cell_type": "code",
   "execution_count": 180,
   "metadata": {},
   "outputs": [
    {
     "output_type": "stream",
     "name": "stdout",
     "text": [
      "(2939, 15)\nschedule_date            0\nschedule_season          0\nschedule_week            0\nschedule_playoff         0\nteam_home                0\nscore_home               0\nscore_away               0\nteam_away                0\nteam_favorite_id         0\nspread_favorite          0\nover_under_line          0\nstadium                  0\nstadium_neutral          0\nweather_temperature    438\nweather_wind_mph       440\ndtype: int64\n"
     ]
    }
   ],
   "source": [
    "football_data = football_data.dropna(thresh=0.75*len(football_data), axis=1)\n",
    "print(football_data.shape)\n",
    "print(football_data.isna().sum())"
   ]
  },
  {
   "cell_type": "code",
   "execution_count": 181,
   "metadata": {},
   "outputs": [
    {
     "output_type": "stream",
     "name": "stdout",
     "text": [
      "<class 'pandas.core.frame.DataFrame'>\nInt64Index: 2939 entries, 10008 to 12946\nData columns (total 15 columns):\n #   Column               Non-Null Count  Dtype  \n---  ------               --------------  -----  \n 0   schedule_date        2939 non-null   object \n 1   schedule_season      2939 non-null   int64  \n 2   schedule_week        2939 non-null   object \n 3   schedule_playoff     2939 non-null   bool   \n 4   team_home            2939 non-null   object \n 5   score_home           2939 non-null   float64\n 6   score_away           2939 non-null   float64\n 7   team_away            2939 non-null   object \n 8   team_favorite_id     2939 non-null   object \n 9   spread_favorite      2939 non-null   float64\n 10  over_under_line      2939 non-null   object \n 11  stadium              2939 non-null   object \n 12  stadium_neutral      2939 non-null   object \n 13  weather_temperature  2501 non-null   float64\n 14  weather_wind_mph     2499 non-null   float64\ndtypes: bool(1), float64(5), int64(1), object(8)\nmemory usage: 347.3+ KB\nNone\n"
     ]
    }
   ],
   "source": [
    "print(football_data.info())"
   ]
  },
  {
   "cell_type": "code",
   "execution_count": 182,
   "metadata": {},
   "outputs": [
    {
     "output_type": "stream",
     "name": "stdout",
     "text": [
      "       schedule_season   score_home   score_away  spread_favorite  \\\ncount      2939.000000  2939.000000  2939.000000      2939.000000   \nmean       2015.003403    23.912215    21.844505        -5.290915   \nstd           3.164428    10.289965     9.921303         3.394564   \nmin        2010.000000     0.000000     0.000000       -26.500000   \n25%        2012.000000    17.000000    15.000000        -7.000000   \n50%        2015.000000    24.000000    21.000000        -4.000000   \n75%        2018.000000    31.000000    28.000000        -3.000000   \nmax        2020.000000    62.000000    59.000000         0.000000   \n\n       weather_temperature  weather_wind_mph  \ncount          2501.000000       2499.000000  \nmean             62.834866          4.591437  \nstd              15.414497          4.630540  \nmin              -6.000000          0.000000  \n25%              53.000000          0.000000  \n50%              70.000000          4.000000  \n75%              72.000000          7.000000  \nmax              97.000000         40.000000  \n"
     ]
    }
   ],
   "source": [
    "print(football_data.describe())"
   ]
  },
  {
   "cell_type": "code",
   "execution_count": 183,
   "metadata": {},
   "outputs": [
    {
     "output_type": "execute_result",
     "data": {
      "text/plain": [
       "      schedule_date  schedule_season schedule_week  schedule_playoff  \\\n",
       "10013     9/12/2010             2010             1             False   \n",
       "10034     9/19/2010             2010             2             False   \n",
       "10049     9/26/2010             2010             3             False   \n",
       "10069     10/4/2010             2010             4             False   \n",
       "10089    10/17/2010             2010             6             False   \n",
       "10107    10/24/2010             2010             7             False   \n",
       "10117    10/31/2010             2010             8             False   \n",
       "10129     11/7/2010             2010             9             False   \n",
       "10148    11/14/2010             2010            10             False   \n",
       "10159    11/21/2010             2010            11             False   \n",
       "\n",
       "                  team_home  score_home  score_away             team_away  \\\n",
       "10013  New England Patriots        38.0        24.0    Cincinnati Bengals   \n",
       "10034         New York Jets        28.0        14.0  New England Patriots   \n",
       "10049  New England Patriots        38.0        30.0         Buffalo Bills   \n",
       "10069        Miami Dolphins        14.0        41.0  New England Patriots   \n",
       "10089  New England Patriots        23.0        20.0      Baltimore Ravens   \n",
       "10107    San Diego Chargers        20.0        23.0  New England Patriots   \n",
       "10117  New England Patriots        28.0        18.0     Minnesota Vikings   \n",
       "10129      Cleveland Browns        34.0        14.0  New England Patriots   \n",
       "10148   Pittsburgh Steelers        26.0        39.0  New England Patriots   \n",
       "10159  New England Patriots        31.0        28.0    Indianapolis Colts   \n",
       "\n",
       "      team_favorite_id  spread_favorite over_under_line              stadium  \\\n",
       "10013               NE             -5.5              45     Gillette Stadium   \n",
       "10034               NE             -3.0            39.5      MetLife Stadium   \n",
       "10049               NE            -14.5              43     Gillette Stadium   \n",
       "10069               NE             -1.0              48     Sun Life Stadium   \n",
       "10089               NE             -3.0            44.5     Gillette Stadium   \n",
       "10107              LAC             -1.5            49.5     Qualcomm Stadium   \n",
       "10117               NE             -5.5              45     Gillette Stadium   \n",
       "10129               NE             -4.0            43.5  FirstEnergy Stadium   \n",
       "10148              PIT             -4.5              45          Heinz Field   \n",
       "10159               NE             -4.5              50     Gillette Stadium   \n",
       "\n",
       "      stadium_neutral  weather_temperature  weather_wind_mph  \n",
       "10013           False                 63.0              10.0  \n",
       "10034           False                 82.0               6.0  \n",
       "10049           False                 68.0              11.0  \n",
       "10069           False                 81.0               1.0  \n",
       "10089           False                 57.0              14.0  \n",
       "10107           False                 69.0               7.0  \n",
       "10117           False                 52.0              16.0  \n",
       "10129           False                 44.0              13.0  \n",
       "10148           False                 50.0               8.0  \n",
       "10159           False                 37.0               6.0  "
      ],
      "text/html": "<div>\n<style scoped>\n    .dataframe tbody tr th:only-of-type {\n        vertical-align: middle;\n    }\n\n    .dataframe tbody tr th {\n        vertical-align: top;\n    }\n\n    .dataframe thead th {\n        text-align: right;\n    }\n</style>\n<table border=\"1\" class=\"dataframe\">\n  <thead>\n    <tr style=\"text-align: right;\">\n      <th></th>\n      <th>schedule_date</th>\n      <th>schedule_season</th>\n      <th>schedule_week</th>\n      <th>schedule_playoff</th>\n      <th>team_home</th>\n      <th>score_home</th>\n      <th>score_away</th>\n      <th>team_away</th>\n      <th>team_favorite_id</th>\n      <th>spread_favorite</th>\n      <th>over_under_line</th>\n      <th>stadium</th>\n      <th>stadium_neutral</th>\n      <th>weather_temperature</th>\n      <th>weather_wind_mph</th>\n    </tr>\n  </thead>\n  <tbody>\n    <tr>\n      <th>10013</th>\n      <td>9/12/2010</td>\n      <td>2010</td>\n      <td>1</td>\n      <td>False</td>\n      <td>New England Patriots</td>\n      <td>38.0</td>\n      <td>24.0</td>\n      <td>Cincinnati Bengals</td>\n      <td>NE</td>\n      <td>-5.5</td>\n      <td>45</td>\n      <td>Gillette Stadium</td>\n      <td>False</td>\n      <td>63.0</td>\n      <td>10.0</td>\n    </tr>\n    <tr>\n      <th>10034</th>\n      <td>9/19/2010</td>\n      <td>2010</td>\n      <td>2</td>\n      <td>False</td>\n      <td>New York Jets</td>\n      <td>28.0</td>\n      <td>14.0</td>\n      <td>New England Patriots</td>\n      <td>NE</td>\n      <td>-3.0</td>\n      <td>39.5</td>\n      <td>MetLife Stadium</td>\n      <td>False</td>\n      <td>82.0</td>\n      <td>6.0</td>\n    </tr>\n    <tr>\n      <th>10049</th>\n      <td>9/26/2010</td>\n      <td>2010</td>\n      <td>3</td>\n      <td>False</td>\n      <td>New England Patriots</td>\n      <td>38.0</td>\n      <td>30.0</td>\n      <td>Buffalo Bills</td>\n      <td>NE</td>\n      <td>-14.5</td>\n      <td>43</td>\n      <td>Gillette Stadium</td>\n      <td>False</td>\n      <td>68.0</td>\n      <td>11.0</td>\n    </tr>\n    <tr>\n      <th>10069</th>\n      <td>10/4/2010</td>\n      <td>2010</td>\n      <td>4</td>\n      <td>False</td>\n      <td>Miami Dolphins</td>\n      <td>14.0</td>\n      <td>41.0</td>\n      <td>New England Patriots</td>\n      <td>NE</td>\n      <td>-1.0</td>\n      <td>48</td>\n      <td>Sun Life Stadium</td>\n      <td>False</td>\n      <td>81.0</td>\n      <td>1.0</td>\n    </tr>\n    <tr>\n      <th>10089</th>\n      <td>10/17/2010</td>\n      <td>2010</td>\n      <td>6</td>\n      <td>False</td>\n      <td>New England Patriots</td>\n      <td>23.0</td>\n      <td>20.0</td>\n      <td>Baltimore Ravens</td>\n      <td>NE</td>\n      <td>-3.0</td>\n      <td>44.5</td>\n      <td>Gillette Stadium</td>\n      <td>False</td>\n      <td>57.0</td>\n      <td>14.0</td>\n    </tr>\n    <tr>\n      <th>10107</th>\n      <td>10/24/2010</td>\n      <td>2010</td>\n      <td>7</td>\n      <td>False</td>\n      <td>San Diego Chargers</td>\n      <td>20.0</td>\n      <td>23.0</td>\n      <td>New England Patriots</td>\n      <td>LAC</td>\n      <td>-1.5</td>\n      <td>49.5</td>\n      <td>Qualcomm Stadium</td>\n      <td>False</td>\n      <td>69.0</td>\n      <td>7.0</td>\n    </tr>\n    <tr>\n      <th>10117</th>\n      <td>10/31/2010</td>\n      <td>2010</td>\n      <td>8</td>\n      <td>False</td>\n      <td>New England Patriots</td>\n      <td>28.0</td>\n      <td>18.0</td>\n      <td>Minnesota Vikings</td>\n      <td>NE</td>\n      <td>-5.5</td>\n      <td>45</td>\n      <td>Gillette Stadium</td>\n      <td>False</td>\n      <td>52.0</td>\n      <td>16.0</td>\n    </tr>\n    <tr>\n      <th>10129</th>\n      <td>11/7/2010</td>\n      <td>2010</td>\n      <td>9</td>\n      <td>False</td>\n      <td>Cleveland Browns</td>\n      <td>34.0</td>\n      <td>14.0</td>\n      <td>New England Patriots</td>\n      <td>NE</td>\n      <td>-4.0</td>\n      <td>43.5</td>\n      <td>FirstEnergy Stadium</td>\n      <td>False</td>\n      <td>44.0</td>\n      <td>13.0</td>\n    </tr>\n    <tr>\n      <th>10148</th>\n      <td>11/14/2010</td>\n      <td>2010</td>\n      <td>10</td>\n      <td>False</td>\n      <td>Pittsburgh Steelers</td>\n      <td>26.0</td>\n      <td>39.0</td>\n      <td>New England Patriots</td>\n      <td>PIT</td>\n      <td>-4.5</td>\n      <td>45</td>\n      <td>Heinz Field</td>\n      <td>False</td>\n      <td>50.0</td>\n      <td>8.0</td>\n    </tr>\n    <tr>\n      <th>10159</th>\n      <td>11/21/2010</td>\n      <td>2010</td>\n      <td>11</td>\n      <td>False</td>\n      <td>New England Patriots</td>\n      <td>31.0</td>\n      <td>28.0</td>\n      <td>Indianapolis Colts</td>\n      <td>NE</td>\n      <td>-4.5</td>\n      <td>50</td>\n      <td>Gillette Stadium</td>\n      <td>False</td>\n      <td>37.0</td>\n      <td>6.0</td>\n    </tr>\n  </tbody>\n</table>\n</div>"
     },
     "metadata": {},
     "execution_count": 183
    }
   ],
   "source": [
    "team = \"New England Patriots\"\n",
    "\n",
    "pats_games = football_data[(football_data['team_home'] == team) | (football_data['team_away'] == team)]\n",
    "\n",
    "pats_games.head(10)"
   ]
  },
  {
   "cell_type": "code",
   "execution_count": 184,
   "metadata": {},
   "outputs": [
    {
     "output_type": "stream",
     "name": "stderr",
     "text": [
      "<ipython-input-184-219ebebad2e3>:1: SettingWithCopyWarning: \nA value is trying to be set on a copy of a slice from a DataFrame.\nTry using .loc[row_indexer,col_indexer] = value instead\n\nSee the caveats in the documentation: https://pandas.pydata.org/pandas-docs/stable/user_guide/indexing.html#returning-a-view-versus-a-copy\n  pats_games['home_or_away'] = np.where(pats_games['team_home'] == team, 1, 0)\n"
     ]
    },
    {
     "output_type": "execute_result",
     "data": {
      "text/plain": [
       "      schedule_date  schedule_season schedule_week  schedule_playoff  \\\n",
       "10013     9/12/2010             2010             1             False   \n",
       "10034     9/19/2010             2010             2             False   \n",
       "10049     9/26/2010             2010             3             False   \n",
       "10069     10/4/2010             2010             4             False   \n",
       "10089    10/17/2010             2010             6             False   \n",
       "10107    10/24/2010             2010             7             False   \n",
       "10117    10/31/2010             2010             8             False   \n",
       "10129     11/7/2010             2010             9             False   \n",
       "10148    11/14/2010             2010            10             False   \n",
       "10159    11/21/2010             2010            11             False   \n",
       "\n",
       "                  team_home  score_home  score_away             team_away  \\\n",
       "10013  New England Patriots        38.0        24.0    Cincinnati Bengals   \n",
       "10034         New York Jets        28.0        14.0  New England Patriots   \n",
       "10049  New England Patriots        38.0        30.0         Buffalo Bills   \n",
       "10069        Miami Dolphins        14.0        41.0  New England Patriots   \n",
       "10089  New England Patriots        23.0        20.0      Baltimore Ravens   \n",
       "10107    San Diego Chargers        20.0        23.0  New England Patriots   \n",
       "10117  New England Patriots        28.0        18.0     Minnesota Vikings   \n",
       "10129      Cleveland Browns        34.0        14.0  New England Patriots   \n",
       "10148   Pittsburgh Steelers        26.0        39.0  New England Patriots   \n",
       "10159  New England Patriots        31.0        28.0    Indianapolis Colts   \n",
       "\n",
       "      team_favorite_id  spread_favorite over_under_line              stadium  \\\n",
       "10013               NE             -5.5              45     Gillette Stadium   \n",
       "10034               NE             -3.0            39.5      MetLife Stadium   \n",
       "10049               NE            -14.5              43     Gillette Stadium   \n",
       "10069               NE             -1.0              48     Sun Life Stadium   \n",
       "10089               NE             -3.0            44.5     Gillette Stadium   \n",
       "10107              LAC             -1.5            49.5     Qualcomm Stadium   \n",
       "10117               NE             -5.5              45     Gillette Stadium   \n",
       "10129               NE             -4.0            43.5  FirstEnergy Stadium   \n",
       "10148              PIT             -4.5              45          Heinz Field   \n",
       "10159               NE             -4.5              50     Gillette Stadium   \n",
       "\n",
       "      stadium_neutral  weather_temperature  weather_wind_mph  home_or_away  \n",
       "10013           False                 63.0              10.0             1  \n",
       "10034           False                 82.0               6.0             0  \n",
       "10049           False                 68.0              11.0             1  \n",
       "10069           False                 81.0               1.0             0  \n",
       "10089           False                 57.0              14.0             1  \n",
       "10107           False                 69.0               7.0             0  \n",
       "10117           False                 52.0              16.0             1  \n",
       "10129           False                 44.0              13.0             0  \n",
       "10148           False                 50.0               8.0             0  \n",
       "10159           False                 37.0               6.0             1  "
      ],
      "text/html": "<div>\n<style scoped>\n    .dataframe tbody tr th:only-of-type {\n        vertical-align: middle;\n    }\n\n    .dataframe tbody tr th {\n        vertical-align: top;\n    }\n\n    .dataframe thead th {\n        text-align: right;\n    }\n</style>\n<table border=\"1\" class=\"dataframe\">\n  <thead>\n    <tr style=\"text-align: right;\">\n      <th></th>\n      <th>schedule_date</th>\n      <th>schedule_season</th>\n      <th>schedule_week</th>\n      <th>schedule_playoff</th>\n      <th>team_home</th>\n      <th>score_home</th>\n      <th>score_away</th>\n      <th>team_away</th>\n      <th>team_favorite_id</th>\n      <th>spread_favorite</th>\n      <th>over_under_line</th>\n      <th>stadium</th>\n      <th>stadium_neutral</th>\n      <th>weather_temperature</th>\n      <th>weather_wind_mph</th>\n      <th>home_or_away</th>\n    </tr>\n  </thead>\n  <tbody>\n    <tr>\n      <th>10013</th>\n      <td>9/12/2010</td>\n      <td>2010</td>\n      <td>1</td>\n      <td>False</td>\n      <td>New England Patriots</td>\n      <td>38.0</td>\n      <td>24.0</td>\n      <td>Cincinnati Bengals</td>\n      <td>NE</td>\n      <td>-5.5</td>\n      <td>45</td>\n      <td>Gillette Stadium</td>\n      <td>False</td>\n      <td>63.0</td>\n      <td>10.0</td>\n      <td>1</td>\n    </tr>\n    <tr>\n      <th>10034</th>\n      <td>9/19/2010</td>\n      <td>2010</td>\n      <td>2</td>\n      <td>False</td>\n      <td>New York Jets</td>\n      <td>28.0</td>\n      <td>14.0</td>\n      <td>New England Patriots</td>\n      <td>NE</td>\n      <td>-3.0</td>\n      <td>39.5</td>\n      <td>MetLife Stadium</td>\n      <td>False</td>\n      <td>82.0</td>\n      <td>6.0</td>\n      <td>0</td>\n    </tr>\n    <tr>\n      <th>10049</th>\n      <td>9/26/2010</td>\n      <td>2010</td>\n      <td>3</td>\n      <td>False</td>\n      <td>New England Patriots</td>\n      <td>38.0</td>\n      <td>30.0</td>\n      <td>Buffalo Bills</td>\n      <td>NE</td>\n      <td>-14.5</td>\n      <td>43</td>\n      <td>Gillette Stadium</td>\n      <td>False</td>\n      <td>68.0</td>\n      <td>11.0</td>\n      <td>1</td>\n    </tr>\n    <tr>\n      <th>10069</th>\n      <td>10/4/2010</td>\n      <td>2010</td>\n      <td>4</td>\n      <td>False</td>\n      <td>Miami Dolphins</td>\n      <td>14.0</td>\n      <td>41.0</td>\n      <td>New England Patriots</td>\n      <td>NE</td>\n      <td>-1.0</td>\n      <td>48</td>\n      <td>Sun Life Stadium</td>\n      <td>False</td>\n      <td>81.0</td>\n      <td>1.0</td>\n      <td>0</td>\n    </tr>\n    <tr>\n      <th>10089</th>\n      <td>10/17/2010</td>\n      <td>2010</td>\n      <td>6</td>\n      <td>False</td>\n      <td>New England Patriots</td>\n      <td>23.0</td>\n      <td>20.0</td>\n      <td>Baltimore Ravens</td>\n      <td>NE</td>\n      <td>-3.0</td>\n      <td>44.5</td>\n      <td>Gillette Stadium</td>\n      <td>False</td>\n      <td>57.0</td>\n      <td>14.0</td>\n      <td>1</td>\n    </tr>\n    <tr>\n      <th>10107</th>\n      <td>10/24/2010</td>\n      <td>2010</td>\n      <td>7</td>\n      <td>False</td>\n      <td>San Diego Chargers</td>\n      <td>20.0</td>\n      <td>23.0</td>\n      <td>New England Patriots</td>\n      <td>LAC</td>\n      <td>-1.5</td>\n      <td>49.5</td>\n      <td>Qualcomm Stadium</td>\n      <td>False</td>\n      <td>69.0</td>\n      <td>7.0</td>\n      <td>0</td>\n    </tr>\n    <tr>\n      <th>10117</th>\n      <td>10/31/2010</td>\n      <td>2010</td>\n      <td>8</td>\n      <td>False</td>\n      <td>New England Patriots</td>\n      <td>28.0</td>\n      <td>18.0</td>\n      <td>Minnesota Vikings</td>\n      <td>NE</td>\n      <td>-5.5</td>\n      <td>45</td>\n      <td>Gillette Stadium</td>\n      <td>False</td>\n      <td>52.0</td>\n      <td>16.0</td>\n      <td>1</td>\n    </tr>\n    <tr>\n      <th>10129</th>\n      <td>11/7/2010</td>\n      <td>2010</td>\n      <td>9</td>\n      <td>False</td>\n      <td>Cleveland Browns</td>\n      <td>34.0</td>\n      <td>14.0</td>\n      <td>New England Patriots</td>\n      <td>NE</td>\n      <td>-4.0</td>\n      <td>43.5</td>\n      <td>FirstEnergy Stadium</td>\n      <td>False</td>\n      <td>44.0</td>\n      <td>13.0</td>\n      <td>0</td>\n    </tr>\n    <tr>\n      <th>10148</th>\n      <td>11/14/2010</td>\n      <td>2010</td>\n      <td>10</td>\n      <td>False</td>\n      <td>Pittsburgh Steelers</td>\n      <td>26.0</td>\n      <td>39.0</td>\n      <td>New England Patriots</td>\n      <td>PIT</td>\n      <td>-4.5</td>\n      <td>45</td>\n      <td>Heinz Field</td>\n      <td>False</td>\n      <td>50.0</td>\n      <td>8.0</td>\n      <td>0</td>\n    </tr>\n    <tr>\n      <th>10159</th>\n      <td>11/21/2010</td>\n      <td>2010</td>\n      <td>11</td>\n      <td>False</td>\n      <td>New England Patriots</td>\n      <td>31.0</td>\n      <td>28.0</td>\n      <td>Indianapolis Colts</td>\n      <td>NE</td>\n      <td>-4.5</td>\n      <td>50</td>\n      <td>Gillette Stadium</td>\n      <td>False</td>\n      <td>37.0</td>\n      <td>6.0</td>\n      <td>1</td>\n    </tr>\n  </tbody>\n</table>\n</div>"
     },
     "metadata": {},
     "execution_count": 184
    }
   ],
   "source": [
    "pats_games['home_or_away'] = np.where(pats_games['team_home'] == team, 1, 0)\n",
    "pats_games.head(10)"
   ]
  },
  {
   "cell_type": "code",
   "execution_count": 185,
   "metadata": {},
   "outputs": [
    {
     "output_type": "execute_result",
     "data": {
      "text/plain": [
       "                  team_home             team_away  score_home  score_away  \\\n",
       "10013  New England Patriots    Cincinnati Bengals        38.0        24.0   \n",
       "10034         New York Jets  New England Patriots        28.0        14.0   \n",
       "10049  New England Patriots         Buffalo Bills        38.0        30.0   \n",
       "10069        Miami Dolphins  New England Patriots        14.0        41.0   \n",
       "10089  New England Patriots      Baltimore Ravens        23.0        20.0   \n",
       "10107    San Diego Chargers  New England Patriots        20.0        23.0   \n",
       "10117  New England Patriots     Minnesota Vikings        28.0        18.0   \n",
       "10129      Cleveland Browns  New England Patriots        34.0        14.0   \n",
       "10148   Pittsburgh Steelers  New England Patriots        26.0        39.0   \n",
       "10159  New England Patriots    Indianapolis Colts        31.0        28.0   \n",
       "\n",
       "       weather_temperature  weather_wind_mph  home_or_away  \n",
       "10013                 63.0              10.0             1  \n",
       "10034                 82.0               6.0             0  \n",
       "10049                 68.0              11.0             1  \n",
       "10069                 81.0               1.0             0  \n",
       "10089                 57.0              14.0             1  \n",
       "10107                 69.0               7.0             0  \n",
       "10117                 52.0              16.0             1  \n",
       "10129                 44.0              13.0             0  \n",
       "10148                 50.0               8.0             0  \n",
       "10159                 37.0               6.0             1  "
      ],
      "text/html": "<div>\n<style scoped>\n    .dataframe tbody tr th:only-of-type {\n        vertical-align: middle;\n    }\n\n    .dataframe tbody tr th {\n        vertical-align: top;\n    }\n\n    .dataframe thead th {\n        text-align: right;\n    }\n</style>\n<table border=\"1\" class=\"dataframe\">\n  <thead>\n    <tr style=\"text-align: right;\">\n      <th></th>\n      <th>team_home</th>\n      <th>team_away</th>\n      <th>score_home</th>\n      <th>score_away</th>\n      <th>weather_temperature</th>\n      <th>weather_wind_mph</th>\n      <th>home_or_away</th>\n    </tr>\n  </thead>\n  <tbody>\n    <tr>\n      <th>10013</th>\n      <td>New England Patriots</td>\n      <td>Cincinnati Bengals</td>\n      <td>38.0</td>\n      <td>24.0</td>\n      <td>63.0</td>\n      <td>10.0</td>\n      <td>1</td>\n    </tr>\n    <tr>\n      <th>10034</th>\n      <td>New York Jets</td>\n      <td>New England Patriots</td>\n      <td>28.0</td>\n      <td>14.0</td>\n      <td>82.0</td>\n      <td>6.0</td>\n      <td>0</td>\n    </tr>\n    <tr>\n      <th>10049</th>\n      <td>New England Patriots</td>\n      <td>Buffalo Bills</td>\n      <td>38.0</td>\n      <td>30.0</td>\n      <td>68.0</td>\n      <td>11.0</td>\n      <td>1</td>\n    </tr>\n    <tr>\n      <th>10069</th>\n      <td>Miami Dolphins</td>\n      <td>New England Patriots</td>\n      <td>14.0</td>\n      <td>41.0</td>\n      <td>81.0</td>\n      <td>1.0</td>\n      <td>0</td>\n    </tr>\n    <tr>\n      <th>10089</th>\n      <td>New England Patriots</td>\n      <td>Baltimore Ravens</td>\n      <td>23.0</td>\n      <td>20.0</td>\n      <td>57.0</td>\n      <td>14.0</td>\n      <td>1</td>\n    </tr>\n    <tr>\n      <th>10107</th>\n      <td>San Diego Chargers</td>\n      <td>New England Patriots</td>\n      <td>20.0</td>\n      <td>23.0</td>\n      <td>69.0</td>\n      <td>7.0</td>\n      <td>0</td>\n    </tr>\n    <tr>\n      <th>10117</th>\n      <td>New England Patriots</td>\n      <td>Minnesota Vikings</td>\n      <td>28.0</td>\n      <td>18.0</td>\n      <td>52.0</td>\n      <td>16.0</td>\n      <td>1</td>\n    </tr>\n    <tr>\n      <th>10129</th>\n      <td>Cleveland Browns</td>\n      <td>New England Patriots</td>\n      <td>34.0</td>\n      <td>14.0</td>\n      <td>44.0</td>\n      <td>13.0</td>\n      <td>0</td>\n    </tr>\n    <tr>\n      <th>10148</th>\n      <td>Pittsburgh Steelers</td>\n      <td>New England Patriots</td>\n      <td>26.0</td>\n      <td>39.0</td>\n      <td>50.0</td>\n      <td>8.0</td>\n      <td>0</td>\n    </tr>\n    <tr>\n      <th>10159</th>\n      <td>New England Patriots</td>\n      <td>Indianapolis Colts</td>\n      <td>31.0</td>\n      <td>28.0</td>\n      <td>37.0</td>\n      <td>6.0</td>\n      <td>1</td>\n    </tr>\n  </tbody>\n</table>\n</div>"
     },
     "metadata": {},
     "execution_count": 185
    }
   ],
   "source": [
    "pats_games = pats_games.filter(['team_home', 'team_away', 'score_home', 'score_away', 'weather_temperature', 'weather_wind_mph', 'home_or_away'])\n",
    "pats_games.head(10)"
   ]
  },
  {
   "cell_type": "code",
   "execution_count": 186,
   "metadata": {},
   "outputs": [
    {
     "output_type": "execute_result",
     "data": {
      "text/plain": [
       "                  team_home             team_away  score_home  score_away  \\\n",
       "10013  New England Patriots    Cincinnati Bengals        38.0        24.0   \n",
       "10034         New York Jets  New England Patriots        28.0        14.0   \n",
       "10049  New England Patriots         Buffalo Bills        38.0        30.0   \n",
       "10069        Miami Dolphins  New England Patriots        14.0        41.0   \n",
       "10089  New England Patriots      Baltimore Ravens        23.0        20.0   \n",
       "10107    San Diego Chargers  New England Patriots        20.0        23.0   \n",
       "10117  New England Patriots     Minnesota Vikings        28.0        18.0   \n",
       "10129      Cleveland Browns  New England Patriots        34.0        14.0   \n",
       "10148   Pittsburgh Steelers  New England Patriots        26.0        39.0   \n",
       "10159  New England Patriots    Indianapolis Colts        31.0        28.0   \n",
       "\n",
       "       weather_temperature  weather_wind_mph  home_or_away  score  \n",
       "10013                 63.0              10.0             1   38.0  \n",
       "10034                 82.0               6.0             0   14.0  \n",
       "10049                 68.0              11.0             1   38.0  \n",
       "10069                 81.0               1.0             0   41.0  \n",
       "10089                 57.0              14.0             1   23.0  \n",
       "10107                 69.0               7.0             0   23.0  \n",
       "10117                 52.0              16.0             1   28.0  \n",
       "10129                 44.0              13.0             0   14.0  \n",
       "10148                 50.0               8.0             0   39.0  \n",
       "10159                 37.0               6.0             1   31.0  "
      ],
      "text/html": "<div>\n<style scoped>\n    .dataframe tbody tr th:only-of-type {\n        vertical-align: middle;\n    }\n\n    .dataframe tbody tr th {\n        vertical-align: top;\n    }\n\n    .dataframe thead th {\n        text-align: right;\n    }\n</style>\n<table border=\"1\" class=\"dataframe\">\n  <thead>\n    <tr style=\"text-align: right;\">\n      <th></th>\n      <th>team_home</th>\n      <th>team_away</th>\n      <th>score_home</th>\n      <th>score_away</th>\n      <th>weather_temperature</th>\n      <th>weather_wind_mph</th>\n      <th>home_or_away</th>\n      <th>score</th>\n    </tr>\n  </thead>\n  <tbody>\n    <tr>\n      <th>10013</th>\n      <td>New England Patriots</td>\n      <td>Cincinnati Bengals</td>\n      <td>38.0</td>\n      <td>24.0</td>\n      <td>63.0</td>\n      <td>10.0</td>\n      <td>1</td>\n      <td>38.0</td>\n    </tr>\n    <tr>\n      <th>10034</th>\n      <td>New York Jets</td>\n      <td>New England Patriots</td>\n      <td>28.0</td>\n      <td>14.0</td>\n      <td>82.0</td>\n      <td>6.0</td>\n      <td>0</td>\n      <td>14.0</td>\n    </tr>\n    <tr>\n      <th>10049</th>\n      <td>New England Patriots</td>\n      <td>Buffalo Bills</td>\n      <td>38.0</td>\n      <td>30.0</td>\n      <td>68.0</td>\n      <td>11.0</td>\n      <td>1</td>\n      <td>38.0</td>\n    </tr>\n    <tr>\n      <th>10069</th>\n      <td>Miami Dolphins</td>\n      <td>New England Patriots</td>\n      <td>14.0</td>\n      <td>41.0</td>\n      <td>81.0</td>\n      <td>1.0</td>\n      <td>0</td>\n      <td>41.0</td>\n    </tr>\n    <tr>\n      <th>10089</th>\n      <td>New England Patriots</td>\n      <td>Baltimore Ravens</td>\n      <td>23.0</td>\n      <td>20.0</td>\n      <td>57.0</td>\n      <td>14.0</td>\n      <td>1</td>\n      <td>23.0</td>\n    </tr>\n    <tr>\n      <th>10107</th>\n      <td>San Diego Chargers</td>\n      <td>New England Patriots</td>\n      <td>20.0</td>\n      <td>23.0</td>\n      <td>69.0</td>\n      <td>7.0</td>\n      <td>0</td>\n      <td>23.0</td>\n    </tr>\n    <tr>\n      <th>10117</th>\n      <td>New England Patriots</td>\n      <td>Minnesota Vikings</td>\n      <td>28.0</td>\n      <td>18.0</td>\n      <td>52.0</td>\n      <td>16.0</td>\n      <td>1</td>\n      <td>28.0</td>\n    </tr>\n    <tr>\n      <th>10129</th>\n      <td>Cleveland Browns</td>\n      <td>New England Patriots</td>\n      <td>34.0</td>\n      <td>14.0</td>\n      <td>44.0</td>\n      <td>13.0</td>\n      <td>0</td>\n      <td>14.0</td>\n    </tr>\n    <tr>\n      <th>10148</th>\n      <td>Pittsburgh Steelers</td>\n      <td>New England Patriots</td>\n      <td>26.0</td>\n      <td>39.0</td>\n      <td>50.0</td>\n      <td>8.0</td>\n      <td>0</td>\n      <td>39.0</td>\n    </tr>\n    <tr>\n      <th>10159</th>\n      <td>New England Patriots</td>\n      <td>Indianapolis Colts</td>\n      <td>31.0</td>\n      <td>28.0</td>\n      <td>37.0</td>\n      <td>6.0</td>\n      <td>1</td>\n      <td>31.0</td>\n    </tr>\n  </tbody>\n</table>\n</div>"
     },
     "metadata": {},
     "execution_count": 186
    }
   ],
   "source": [
    "pats_games['score'] = np.where(pats_games['team_home'] == team, pats_games['score_home'], pats_games['score_away'])\n",
    "pats_games.head(10)"
   ]
  },
  {
   "cell_type": "code",
   "execution_count": 187,
   "metadata": {},
   "outputs": [
    {
     "output_type": "stream",
     "name": "stdout",
     "text": [
      "score_home             25.391960\nscore_away             22.959799\nweather_temperature    55.447205\nweather_wind_mph        6.378882\nhome_or_away            0.537688\nscore                  28.733668\n2_game_avg             28.763959\n5_game_avg             28.882474\ndtype: float64\n"
     ]
    },
    {
     "output_type": "execute_result",
     "data": {
      "text/plain": [
       "                  team_home             team_away  score_home  score_away  \\\n",
       "10013  New England Patriots    Cincinnati Bengals        38.0        24.0   \n",
       "10034         New York Jets  New England Patriots        28.0        14.0   \n",
       "10049  New England Patriots         Buffalo Bills        38.0        30.0   \n",
       "10069        Miami Dolphins  New England Patriots        14.0        41.0   \n",
       "10089  New England Patriots      Baltimore Ravens        23.0        20.0   \n",
       "10107    San Diego Chargers  New England Patriots        20.0        23.0   \n",
       "10117  New England Patriots     Minnesota Vikings        28.0        18.0   \n",
       "10129      Cleveland Browns  New England Patriots        34.0        14.0   \n",
       "10148   Pittsburgh Steelers  New England Patriots        26.0        39.0   \n",
       "10159  New England Patriots    Indianapolis Colts        31.0        28.0   \n",
       "\n",
       "       weather_temperature  weather_wind_mph  home_or_away  score  2_game_avg  \\\n",
       "10013                 63.0              10.0             1   38.0   28.763959   \n",
       "10034                 82.0               6.0             0   14.0   28.763959   \n",
       "10049                 68.0              11.0             1   38.0   26.000000   \n",
       "10069                 81.0               1.0             0   41.0   26.000000   \n",
       "10089                 57.0              14.0             1   23.0   39.500000   \n",
       "10107                 69.0               7.0             0   23.0   32.000000   \n",
       "10117                 52.0              16.0             1   28.0   23.000000   \n",
       "10129                 44.0              13.0             0   14.0   25.500000   \n",
       "10148                 50.0               8.0             0   39.0   21.000000   \n",
       "10159                 37.0               6.0             1   31.0   26.500000   \n",
       "\n",
       "       5_game_avg  \n",
       "10013   28.882474  \n",
       "10034   28.882474  \n",
       "10049   28.882474  \n",
       "10069   28.882474  \n",
       "10089   28.882474  \n",
       "10107   30.800000  \n",
       "10117   27.800000  \n",
       "10129   30.600000  \n",
       "10148   25.800000  \n",
       "10159   25.400000  "
      ],
      "text/html": "<div>\n<style scoped>\n    .dataframe tbody tr th:only-of-type {\n        vertical-align: middle;\n    }\n\n    .dataframe tbody tr th {\n        vertical-align: top;\n    }\n\n    .dataframe thead th {\n        text-align: right;\n    }\n</style>\n<table border=\"1\" class=\"dataframe\">\n  <thead>\n    <tr style=\"text-align: right;\">\n      <th></th>\n      <th>team_home</th>\n      <th>team_away</th>\n      <th>score_home</th>\n      <th>score_away</th>\n      <th>weather_temperature</th>\n      <th>weather_wind_mph</th>\n      <th>home_or_away</th>\n      <th>score</th>\n      <th>2_game_avg</th>\n      <th>5_game_avg</th>\n    </tr>\n  </thead>\n  <tbody>\n    <tr>\n      <th>10013</th>\n      <td>New England Patriots</td>\n      <td>Cincinnati Bengals</td>\n      <td>38.0</td>\n      <td>24.0</td>\n      <td>63.0</td>\n      <td>10.0</td>\n      <td>1</td>\n      <td>38.0</td>\n      <td>28.763959</td>\n      <td>28.882474</td>\n    </tr>\n    <tr>\n      <th>10034</th>\n      <td>New York Jets</td>\n      <td>New England Patriots</td>\n      <td>28.0</td>\n      <td>14.0</td>\n      <td>82.0</td>\n      <td>6.0</td>\n      <td>0</td>\n      <td>14.0</td>\n      <td>28.763959</td>\n      <td>28.882474</td>\n    </tr>\n    <tr>\n      <th>10049</th>\n      <td>New England Patriots</td>\n      <td>Buffalo Bills</td>\n      <td>38.0</td>\n      <td>30.0</td>\n      <td>68.0</td>\n      <td>11.0</td>\n      <td>1</td>\n      <td>38.0</td>\n      <td>26.000000</td>\n      <td>28.882474</td>\n    </tr>\n    <tr>\n      <th>10069</th>\n      <td>Miami Dolphins</td>\n      <td>New England Patriots</td>\n      <td>14.0</td>\n      <td>41.0</td>\n      <td>81.0</td>\n      <td>1.0</td>\n      <td>0</td>\n      <td>41.0</td>\n      <td>26.000000</td>\n      <td>28.882474</td>\n    </tr>\n    <tr>\n      <th>10089</th>\n      <td>New England Patriots</td>\n      <td>Baltimore Ravens</td>\n      <td>23.0</td>\n      <td>20.0</td>\n      <td>57.0</td>\n      <td>14.0</td>\n      <td>1</td>\n      <td>23.0</td>\n      <td>39.500000</td>\n      <td>28.882474</td>\n    </tr>\n    <tr>\n      <th>10107</th>\n      <td>San Diego Chargers</td>\n      <td>New England Patriots</td>\n      <td>20.0</td>\n      <td>23.0</td>\n      <td>69.0</td>\n      <td>7.0</td>\n      <td>0</td>\n      <td>23.0</td>\n      <td>32.000000</td>\n      <td>30.800000</td>\n    </tr>\n    <tr>\n      <th>10117</th>\n      <td>New England Patriots</td>\n      <td>Minnesota Vikings</td>\n      <td>28.0</td>\n      <td>18.0</td>\n      <td>52.0</td>\n      <td>16.0</td>\n      <td>1</td>\n      <td>28.0</td>\n      <td>23.000000</td>\n      <td>27.800000</td>\n    </tr>\n    <tr>\n      <th>10129</th>\n      <td>Cleveland Browns</td>\n      <td>New England Patriots</td>\n      <td>34.0</td>\n      <td>14.0</td>\n      <td>44.0</td>\n      <td>13.0</td>\n      <td>0</td>\n      <td>14.0</td>\n      <td>25.500000</td>\n      <td>30.600000</td>\n    </tr>\n    <tr>\n      <th>10148</th>\n      <td>Pittsburgh Steelers</td>\n      <td>New England Patriots</td>\n      <td>26.0</td>\n      <td>39.0</td>\n      <td>50.0</td>\n      <td>8.0</td>\n      <td>0</td>\n      <td>39.0</td>\n      <td>21.000000</td>\n      <td>25.800000</td>\n    </tr>\n    <tr>\n      <th>10159</th>\n      <td>New England Patriots</td>\n      <td>Indianapolis Colts</td>\n      <td>31.0</td>\n      <td>28.0</td>\n      <td>37.0</td>\n      <td>6.0</td>\n      <td>1</td>\n      <td>31.0</td>\n      <td>26.500000</td>\n      <td>25.400000</td>\n    </tr>\n  </tbody>\n</table>\n</div>"
     },
     "metadata": {},
     "execution_count": 187
    }
   ],
   "source": [
    "pats_games['2_game_avg'] = pats_games['score'].shift(periods=1).rolling(window=2).mean()\r\n",
    "pats_games['5_game_avg'] = pats_games['score'].shift(periods=1).rolling(window=5).mean()\r\n",
    "\r\n",
    "#pats_games['2_game_avg'].fillna(pats_games['2_game_avg'].mean())\r\n",
    "pats_games = pats_games.fillna(pats_games.mean())\r\n",
    "print(pats_games.mean())\r\n",
    "\r\n",
    "pats_games.head(10)"
   ]
  },
  {
   "cell_type": "code",
   "execution_count": 188,
   "metadata": {},
   "outputs": [
    {
     "output_type": "execute_result",
     "data": {
      "text/plain": [
       "                  team_home             team_away  score_home  score_away  \\\n",
       "10013  New England Patriots    Cincinnati Bengals        38.0        24.0   \n",
       "10034         New York Jets  New England Patriots        28.0        14.0   \n",
       "10049  New England Patriots         Buffalo Bills        38.0        30.0   \n",
       "10069        Miami Dolphins  New England Patriots        14.0        41.0   \n",
       "10089  New England Patriots      Baltimore Ravens        23.0        20.0   \n",
       "10107    San Diego Chargers  New England Patriots        20.0        23.0   \n",
       "10117  New England Patriots     Minnesota Vikings        28.0        18.0   \n",
       "10129      Cleveland Browns  New England Patriots        34.0        14.0   \n",
       "10148   Pittsburgh Steelers  New England Patriots        26.0        39.0   \n",
       "10159  New England Patriots    Indianapolis Colts        31.0        28.0   \n",
       "\n",
       "       weather_temperature  weather_wind_mph  home_or_away  score  2_game_avg  \\\n",
       "10013                 63.0              10.0             1   38.0   28.763959   \n",
       "10034                 82.0               6.0             0   14.0   28.763959   \n",
       "10049                 68.0              11.0             1   38.0   26.000000   \n",
       "10069                 81.0               1.0             0   41.0   26.000000   \n",
       "10089                 57.0              14.0             1   23.0   39.500000   \n",
       "10107                 69.0               7.0             0   23.0   32.000000   \n",
       "10117                 52.0              16.0             1   28.0   23.000000   \n",
       "10129                 44.0              13.0             0   14.0   25.500000   \n",
       "10148                 50.0               8.0             0   39.0   21.000000   \n",
       "10159                 37.0               6.0             1   31.0   26.500000   \n",
       "\n",
       "       5_game_avg                winner  team_win  \n",
       "10013   28.882474  New England Patriots         1  \n",
       "10034   28.882474         New York Jets         0  \n",
       "10049   28.882474  New England Patriots         1  \n",
       "10069   28.882474  New England Patriots         1  \n",
       "10089   28.882474  New England Patriots         1  \n",
       "10107   30.800000  New England Patriots         1  \n",
       "10117   27.800000  New England Patriots         1  \n",
       "10129   30.600000      Cleveland Browns         0  \n",
       "10148   25.800000  New England Patriots         1  \n",
       "10159   25.400000  New England Patriots         1  "
      ],
      "text/html": "<div>\n<style scoped>\n    .dataframe tbody tr th:only-of-type {\n        vertical-align: middle;\n    }\n\n    .dataframe tbody tr th {\n        vertical-align: top;\n    }\n\n    .dataframe thead th {\n        text-align: right;\n    }\n</style>\n<table border=\"1\" class=\"dataframe\">\n  <thead>\n    <tr style=\"text-align: right;\">\n      <th></th>\n      <th>team_home</th>\n      <th>team_away</th>\n      <th>score_home</th>\n      <th>score_away</th>\n      <th>weather_temperature</th>\n      <th>weather_wind_mph</th>\n      <th>home_or_away</th>\n      <th>score</th>\n      <th>2_game_avg</th>\n      <th>5_game_avg</th>\n      <th>winner</th>\n      <th>team_win</th>\n    </tr>\n  </thead>\n  <tbody>\n    <tr>\n      <th>10013</th>\n      <td>New England Patriots</td>\n      <td>Cincinnati Bengals</td>\n      <td>38.0</td>\n      <td>24.0</td>\n      <td>63.0</td>\n      <td>10.0</td>\n      <td>1</td>\n      <td>38.0</td>\n      <td>28.763959</td>\n      <td>28.882474</td>\n      <td>New England Patriots</td>\n      <td>1</td>\n    </tr>\n    <tr>\n      <th>10034</th>\n      <td>New York Jets</td>\n      <td>New England Patriots</td>\n      <td>28.0</td>\n      <td>14.0</td>\n      <td>82.0</td>\n      <td>6.0</td>\n      <td>0</td>\n      <td>14.0</td>\n      <td>28.763959</td>\n      <td>28.882474</td>\n      <td>New York Jets</td>\n      <td>0</td>\n    </tr>\n    <tr>\n      <th>10049</th>\n      <td>New England Patriots</td>\n      <td>Buffalo Bills</td>\n      <td>38.0</td>\n      <td>30.0</td>\n      <td>68.0</td>\n      <td>11.0</td>\n      <td>1</td>\n      <td>38.0</td>\n      <td>26.000000</td>\n      <td>28.882474</td>\n      <td>New England Patriots</td>\n      <td>1</td>\n    </tr>\n    <tr>\n      <th>10069</th>\n      <td>Miami Dolphins</td>\n      <td>New England Patriots</td>\n      <td>14.0</td>\n      <td>41.0</td>\n      <td>81.0</td>\n      <td>1.0</td>\n      <td>0</td>\n      <td>41.0</td>\n      <td>26.000000</td>\n      <td>28.882474</td>\n      <td>New England Patriots</td>\n      <td>1</td>\n    </tr>\n    <tr>\n      <th>10089</th>\n      <td>New England Patriots</td>\n      <td>Baltimore Ravens</td>\n      <td>23.0</td>\n      <td>20.0</td>\n      <td>57.0</td>\n      <td>14.0</td>\n      <td>1</td>\n      <td>23.0</td>\n      <td>39.500000</td>\n      <td>28.882474</td>\n      <td>New England Patriots</td>\n      <td>1</td>\n    </tr>\n    <tr>\n      <th>10107</th>\n      <td>San Diego Chargers</td>\n      <td>New England Patriots</td>\n      <td>20.0</td>\n      <td>23.0</td>\n      <td>69.0</td>\n      <td>7.0</td>\n      <td>0</td>\n      <td>23.0</td>\n      <td>32.000000</td>\n      <td>30.800000</td>\n      <td>New England Patriots</td>\n      <td>1</td>\n    </tr>\n    <tr>\n      <th>10117</th>\n      <td>New England Patriots</td>\n      <td>Minnesota Vikings</td>\n      <td>28.0</td>\n      <td>18.0</td>\n      <td>52.0</td>\n      <td>16.0</td>\n      <td>1</td>\n      <td>28.0</td>\n      <td>23.000000</td>\n      <td>27.800000</td>\n      <td>New England Patriots</td>\n      <td>1</td>\n    </tr>\n    <tr>\n      <th>10129</th>\n      <td>Cleveland Browns</td>\n      <td>New England Patriots</td>\n      <td>34.0</td>\n      <td>14.0</td>\n      <td>44.0</td>\n      <td>13.0</td>\n      <td>0</td>\n      <td>14.0</td>\n      <td>25.500000</td>\n      <td>30.600000</td>\n      <td>Cleveland Browns</td>\n      <td>0</td>\n    </tr>\n    <tr>\n      <th>10148</th>\n      <td>Pittsburgh Steelers</td>\n      <td>New England Patriots</td>\n      <td>26.0</td>\n      <td>39.0</td>\n      <td>50.0</td>\n      <td>8.0</td>\n      <td>0</td>\n      <td>39.0</td>\n      <td>21.000000</td>\n      <td>25.800000</td>\n      <td>New England Patriots</td>\n      <td>1</td>\n    </tr>\n    <tr>\n      <th>10159</th>\n      <td>New England Patriots</td>\n      <td>Indianapolis Colts</td>\n      <td>31.0</td>\n      <td>28.0</td>\n      <td>37.0</td>\n      <td>6.0</td>\n      <td>1</td>\n      <td>31.0</td>\n      <td>26.500000</td>\n      <td>25.400000</td>\n      <td>New England Patriots</td>\n      <td>1</td>\n    </tr>\n  </tbody>\n</table>\n</div>"
     },
     "metadata": {},
     "execution_count": 188
    }
   ],
   "source": [
    "pats_games['winner'] = np.where(pats_games['score_home'] > pats_games['score_away'], pats_games['team_home'], pats_games['team_away'])\n",
    "pats_games['team_win'] = np.where(pats_games['winner'] == team, 1, 0)\n",
    "\n",
    "pats_games.head(10)"
   ]
  },
  {
   "cell_type": "code",
   "execution_count": null,
   "metadata": {},
   "outputs": [],
   "source": []
  }
 ]
}
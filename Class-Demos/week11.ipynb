{
 "metadata": {
  "language_info": {
   "codemirror_mode": {
    "name": "ipython",
    "version": 3
   },
   "file_extension": ".py",
   "mimetype": "text/x-python",
   "name": "python",
   "nbconvert_exporter": "python",
   "pygments_lexer": "ipython3",
   "version": "3.8.8"
  },
  "orig_nbformat": 4,
  "kernelspec": {
   "name": "python3",
   "display_name": "Python 3.8.8 64-bit ('base': conda)"
  },
  "interpreter": {
   "hash": "b3ba2566441a7c06988d0923437866b63cedc61552a5af99d1f4fb67d367b25f"
  }
 },
 "nbformat": 4,
 "nbformat_minor": 2,
 "cells": [
  {
   "cell_type": "code",
   "execution_count": 43,
   "metadata": {},
   "outputs": [],
   "source": [
    "import pandas as pd \n",
    "import numpy as np "
   ]
  },
  {
   "cell_type": "code",
   "execution_count": 44,
   "metadata": {},
   "outputs": [
    {
     "output_type": "stream",
     "name": "stdout",
     "text": [
      "   index      company   body-style  wheel-base  length engine-type  \\\n0      0  alfa-romero  convertible        88.6   168.8        dohc   \n1      1  alfa-romero  convertible        88.6   168.8        dohc   \n2      2  alfa-romero    hatchback        94.5   171.2        ohcv   \n3      3         audi        sedan        99.8   176.6         ohc   \n4      4         audi        sedan        99.4   176.6         ohc   \n\n  num-of-cylinders  horsepower  average-mileage    price  \n0             four         111               21  13495.0  \n1             four         111               21  16500.0  \n2              six         154               19  16500.0  \n3             four         102               24  13950.0  \n4             five         115               18  17450.0  \n"
     ]
    }
   ],
   "source": [
    "auto = pd.read_csv(\"Automobile_data.csv\")\n",
    "auto = auto.replace(\"?\", \"NaN\")\n",
    "print(auto.head(5))"
   ]
  },
  {
   "cell_type": "code",
   "execution_count": 45,
   "metadata": {},
   "outputs": [
    {
     "output_type": "stream",
     "name": "stdout",
     "text": [
      "toyota           7\nbmw              6\nnissan           5\nmazda            5\naudi             4\nmitsubishi       4\nvolkswagen       4\nmercedes-benz    4\nchevrolet        3\nhonda            3\nporsche          3\nisuzu            3\nalfa-romero      3\njaguar           3\ndodge            2\nvolvo            2\nName: company, dtype: int64\n"
     ]
    }
   ],
   "source": [
    "# Exercise 5: Count total cars per company\n",
    "print(auto['company'].value_counts())"
   ]
  },
  {
   "cell_type": "code",
   "execution_count": 46,
   "metadata": {},
   "outputs": [
    {
     "output_type": "stream",
     "name": "stdout",
     "text": [
      "company\nalfa-romero      16500.0\naudi             18920.0\nbmw              41315.0\nchevrolet         6575.0\ndodge             6377.0\nhonda            12945.0\nisuzu             6785.0\njaguar           36000.0\nmazda            18344.0\nmercedes-benz    45400.0\nmitsubishi        8189.0\nnissan           13499.0\nporsche          37028.0\ntoyota           15750.0\nvolkswagen        9995.0\nvolvo            13415.0\nName: price, dtype: float64\n"
     ]
    }
   ],
   "source": [
    "# Exercise 6: Find each company’s Highest price car\n",
    "print(auto.groupby('company')['price'].max())"
   ]
  },
  {
   "cell_type": "code",
   "execution_count": 47,
   "metadata": {},
   "outputs": [
    {
     "output_type": "stream",
     "name": "stdout",
     "text": [
      "company\nalfa-romero      20.333333\naudi             20.000000\nbmw              19.000000\nchevrolet        41.000000\ndodge            31.000000\nhonda            26.333333\nisuzu            33.333333\njaguar           14.333333\nmazda            28.000000\nmercedes-benz    18.000000\nmitsubishi       29.500000\nnissan           31.400000\nporsche          17.000000\ntoyota           28.714286\nvolkswagen       31.750000\nvolvo            23.000000\nName: average-mileage, dtype: float64\n"
     ]
    }
   ],
   "source": [
    "# Exercise 7: Find the average mileage of each car making company\n",
    "print(auto.groupby('company')['average-mileage'].mean())"
   ]
  },
  {
   "cell_type": "code",
   "execution_count": 53,
   "metadata": {},
   "outputs": [
    {
     "output_type": "stream",
     "name": "stdout",
     "text": [
      "    index        company   body-style  wheel-base  length engine-type  \\\n35     47  mercedes-benz      hardtop       112.0   199.2        ohcv   \n11     14            bmw        sedan       103.5   193.8         ohc   \n34     46  mercedes-benz        sedan       120.9   208.1        ohcv   \n46     62        porsche  convertible        89.5   168.9        ohcf   \n12     15            bmw        sedan       110.0   197.0         ohc   \n26     35         jaguar        sedan       102.0   191.7        ohcv   \n25     34         jaguar        sedan       113.0   199.6        dohc   \n45     61        porsche      hardtop        89.5   168.9        ohcf   \n24     33         jaguar        sedan       113.0   199.6        dohc   \n10     13            bmw        sedan       103.5   189.0         ohc   \n\n   num-of-cylinders  horsepower  average-mileage    price  \n35            eight         184               14  45400.0  \n11              six         182               16  41315.0  \n34            eight         184               14  40960.0  \n46              six         207               17  37028.0  \n12              six         182               15  36880.0  \n26           twelve         262               13  36000.0  \n25              six         176               15  35550.0  \n45              six         207               17  34028.0  \n24              six         176               15  32250.0  \n10              six         182               16  30760.0  \n"
     ]
    }
   ],
   "source": [
    "# Exercise 8: Sort all cars by Price column - Print 10 most expensive\n",
    "# https://pandas.pydata.org/pandas-docs/stable/reference/api/pandas.DataFrame.sort_values.html\n",
    "print(auto.sort_values(by='price', ascending=False).head(10))"
   ]
  },
  {
   "cell_type": "code",
   "execution_count": null,
   "metadata": {},
   "outputs": [],
   "source": []
  }
 ]
}
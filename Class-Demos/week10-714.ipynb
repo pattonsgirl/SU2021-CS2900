{
 "metadata": {
  "language_info": {
   "codemirror_mode": {
    "name": "ipython",
    "version": 3
   },
   "file_extension": ".py",
   "mimetype": "text/x-python",
   "name": "python",
   "nbconvert_exporter": "python",
   "pygments_lexer": "ipython3",
   "version": "3.8.8"
  },
  "orig_nbformat": 4,
  "kernelspec": {
   "name": "python3",
   "display_name": "Python 3.8.8 64-bit ('base': conda)"
  },
  "interpreter": {
   "hash": "b3ba2566441a7c06988d0923437866b63cedc61552a5af99d1f4fb67d367b25f"
  }
 },
 "nbformat": 4,
 "nbformat_minor": 2,
 "cells": [
  {
   "cell_type": "code",
   "execution_count": 34,
   "metadata": {},
   "outputs": [],
   "source": [
    "import pandas as pd \n"
   ]
  },
  {
   "cell_type": "code",
   "execution_count": 35,
   "metadata": {},
   "outputs": [
    {
     "output_type": "stream",
     "name": "stdout",
     "text": [
      "(1035, 6)\n            method  number  orbital_period   mass  distance  year\n0  Radial Velocity       1         269.300   7.10     77.40  2006\n1  Radial Velocity       1         874.774   2.21     56.95  2008\n2  Radial Velocity       1         763.000   2.60     19.84  2011\n3  Radial Velocity       1         326.030  19.40    110.62  2007\n4  Radial Velocity       1         516.220  10.50    119.47  2009\n       method  number  orbital_period  mass  distance  year\n1030  Transit       1        3.941507   NaN     172.0  2006\n1031  Transit       1        2.615864   NaN     148.0  2007\n1032  Transit       1        3.191524   NaN     174.0  2007\n1033  Transit       1        4.125083   NaN     293.0  2008\n1034  Transit       1        4.187757   NaN     260.0  2008\n            number  orbital_period        mass     distance         year\ncount  1035.000000      992.000000  513.000000   808.000000  1035.000000\nmean      1.785507     2002.917596    2.638161   264.069282  2009.070531\nstd       1.240976    26014.728304    3.818617   733.116493     3.972567\nmin       1.000000        0.090706    0.003600     1.350000  1989.000000\n25%       1.000000        5.442540    0.229000    32.560000  2007.000000\n50%       1.000000       39.979500    1.260000    55.250000  2010.000000\n75%       2.000000      526.005000    3.040000   178.500000  2012.000000\nmax       7.000000   730000.000000   25.000000  8500.000000  2014.000000\n(498, 6)\n"
     ]
    }
   ],
   "source": [
    "import seaborn as sns\n",
    "planets = sns.load_dataset('planets')\n",
    "# get: shape, head, check for na, drop nas, and check out the result of describe\n",
    "\n",
    "print(planets.shape)\n",
    "print(planets.head(5))\n",
    "print(planets.tail(5))\n",
    "\n",
    "# condition to prove there are columns in some rows that do not have all data\n",
    "print(planets.notna().all())\n",
    "# this is the wrong condition, brings sadness and false hopes\n",
    "# looking for values that aren't NaNs - if there are any valid values, the .all will return False for the column\n",
    "#print(planets.isna().all())\n",
    "print(planets.describe())\n",
    "# playing with dropping all rows that have any missing data\n",
    "print(planets.dropna().shape)\n",
    "#planets = planets.dropna()\n"
   ]
  },
  {
   "cell_type": "code",
   "execution_count": 36,
   "metadata": {},
   "outputs": [
    {
     "output_type": "stream",
     "name": "stdout",
     "text": [
      "method\nAstrometry                         631.180000\nEclipse Timing Variations         4343.500000\nImaging                          27500.000000\nMicrolensing                      3300.000000\nOrbital Brightness Modulation        0.342887\nPulsar Timing                       66.541900\nPulsation Timing Variations       1170.000000\nRadial Velocity                    360.200000\nTransit                              5.714932\nTransit Timing Variations           57.011000\nName: orbital_period, dtype: float64\n"
     ]
    }
   ],
   "source": [
    "print(planets.groupby('method')['orbital_period'].median())\n"
   ]
  },
  {
   "cell_type": "code",
   "execution_count": 49,
   "metadata": {},
   "outputs": [
    {
     "output_type": "stream",
     "name": "stdout",
     "text": [
      "      order_id  total_price\n0            1        11.56\n1            2        16.98\n2            3        12.67\n3            4        21.00\n4            5        13.70\n...        ...          ...\n1829      1830        23.00\n1830      1831        12.90\n1831      1832        13.20\n1832      1833        23.50\n1833      1834        28.75\n\n[1834 rows x 2 columns]\n      order_id  item_price  total_price\n0            1        2.39        11.56\n1            1        3.39        11.56\n2            1        3.39        11.56\n3            1        2.39        11.56\n4            2       16.98        16.98\n...        ...         ...          ...\n4617      1833       11.75        23.50\n4618      1833       11.75        23.50\n4619      1834       11.25        28.75\n4620      1834        8.75        28.75\n4621      1834        8.75        28.75\n\n[4622 rows x 3 columns]\n"
     ]
    },
    {
     "output_type": "execute_result",
     "data": {
      "text/plain": [
       "          order_id     quantity   item_price  total_price\n",
       "count  4622.000000  4622.000000  4622.000000  4622.000000\n",
       "mean    927.254868     1.075725     7.464336    23.178576\n",
       "std     528.890796     0.410186     4.245557    21.470839\n",
       "min       1.000000     1.000000     1.090000    10.080000\n",
       "25%     477.250000     1.000000     3.390000    12.980000\n",
       "50%     926.000000     1.000000     8.750000    17.500000\n",
       "75%    1393.000000     1.000000     9.250000    24.487500\n",
       "max    1834.000000    15.000000    44.250000   205.250000"
      ],
      "text/html": "<div>\n<style scoped>\n    .dataframe tbody tr th:only-of-type {\n        vertical-align: middle;\n    }\n\n    .dataframe tbody tr th {\n        vertical-align: top;\n    }\n\n    .dataframe thead th {\n        text-align: right;\n    }\n</style>\n<table border=\"1\" class=\"dataframe\">\n  <thead>\n    <tr style=\"text-align: right;\">\n      <th></th>\n      <th>order_id</th>\n      <th>quantity</th>\n      <th>item_price</th>\n      <th>total_price</th>\n    </tr>\n  </thead>\n  <tbody>\n    <tr>\n      <th>count</th>\n      <td>4622.000000</td>\n      <td>4622.000000</td>\n      <td>4622.000000</td>\n      <td>4622.000000</td>\n    </tr>\n    <tr>\n      <th>mean</th>\n      <td>927.254868</td>\n      <td>1.075725</td>\n      <td>7.464336</td>\n      <td>23.178576</td>\n    </tr>\n    <tr>\n      <th>std</th>\n      <td>528.890796</td>\n      <td>0.410186</td>\n      <td>4.245557</td>\n      <td>21.470839</td>\n    </tr>\n    <tr>\n      <th>min</th>\n      <td>1.000000</td>\n      <td>1.000000</td>\n      <td>1.090000</td>\n      <td>10.080000</td>\n    </tr>\n    <tr>\n      <th>25%</th>\n      <td>477.250000</td>\n      <td>1.000000</td>\n      <td>3.390000</td>\n      <td>12.980000</td>\n    </tr>\n    <tr>\n      <th>50%</th>\n      <td>926.000000</td>\n      <td>1.000000</td>\n      <td>8.750000</td>\n      <td>17.500000</td>\n    </tr>\n    <tr>\n      <th>75%</th>\n      <td>1393.000000</td>\n      <td>1.000000</td>\n      <td>9.250000</td>\n      <td>24.487500</td>\n    </tr>\n    <tr>\n      <th>max</th>\n      <td>1834.000000</td>\n      <td>15.000000</td>\n      <td>44.250000</td>\n      <td>205.250000</td>\n    </tr>\n  </tbody>\n</table>\n</div>"
     },
     "metadata": {},
     "execution_count": 49
    }
   ],
   "source": [
    "#Looking at the chipotle extra credit: get order totals\n",
    "chipotle_orders = pd.read_csv(\"chipotle.tsv\", sep='\\t')\n",
    "chipotle_orders['item_price'] = chipotle_orders['item_price'].replace({'\\$': '', ',': ''}, regex=True).astype(float)\n",
    "\n",
    "# gets order totals, but what if we wanted that as part of our dataframe?\n",
    "#total_price = chipotle_orders.groupby('order_id')['item_price'].sum()\n",
    "#print(total_price)\n",
    "# does not get relationship between order_id and total_price\n",
    "# chipotle_orders['total_price'] = chipotle_orders.groupby('order_id')['item_price'].sum()\n",
    "# googled: add groupby column to dataframe\n",
    "# https://stackoverflow.com/questions/37189878/pandas-add-column-to-groupby-dataframe\n",
    "total_price = chipotle_orders.groupby('order_id')['item_price'].sum().reset_index(name='total_price')\n",
    "\n",
    "print(total_price)\n",
    "chipotle_orders_totals = chipotle_orders.merge(total_price)\n",
    "#print(chipotle_orders_totals)\n",
    "#print(chipotle_orders_totals.columns)\n",
    "print(chipotle_orders_totals[['order_id', 'item_price', 'total_price']])\n",
    "\n",
    "chipotle_orders.groupby('order_id')['item_price'].describe()\n",
    "chipotle_orders_totals.describe()"
   ]
  },
  {
   "cell_type": "code",
   "execution_count": 38,
   "metadata": {},
   "outputs": [
    {
     "output_type": "stream",
     "name": "stdout",
     "text": [
      "   survived  pclass     sex   age  sibsp  parch     fare embarked  class  \\\n0         0       3    male  22.0      1      0   7.2500        S  Third   \n1         1       1  female  38.0      1      0  71.2833        C  First   \n2         1       3  female  26.0      0      0   7.9250        S  Third   \n3         1       1  female  35.0      1      0  53.1000        S  First   \n4         0       3    male  35.0      0      0   8.0500        S  Third   \n\n     who  adult_male deck  embark_town alive  alone  \n0    man        True  NaN  Southampton    no  False  \n1  woman       False    C    Cherbourg   yes  False  \n2  woman       False  NaN  Southampton   yes   True  \n3  woman       False    C  Southampton   yes  False  \n4    man        True  NaN  Southampton    no   True  \n"
     ]
    }
   ],
   "source": [
    "titanic = sns.load_dataset('titanic')\n",
    "print(titanic.head())"
   ]
  },
  {
   "cell_type": "code",
   "execution_count": 39,
   "metadata": {},
   "outputs": [
    {
     "output_type": "stream",
     "name": "stdout",
     "text": [
      "        survived\nsex             \nfemale  0.742038\nmale    0.188908\n"
     ]
    }
   ],
   "source": [
    "print(titanic.groupby('sex')[['survived']].mean())\n"
   ]
  },
  {
   "cell_type": "code",
   "execution_count": 40,
   "metadata": {},
   "outputs": [
    {
     "output_type": "stream",
     "name": "stdout",
     "text": [
      "class      First    Second     Third\nsex                                 \nfemale  0.968085  0.921053  0.500000\nmale    0.368852  0.157407  0.135447\n"
     ]
    }
   ],
   "source": [
    "print(titanic.pivot_table('survived', index='sex', columns='class'))\n"
   ]
  },
  {
   "cell_type": "code",
   "execution_count": 41,
   "metadata": {},
   "outputs": [
    {
     "output_type": "stream",
     "name": "stdout",
     "text": [
      "0      (18.0, 80.0]\n1      (18.0, 80.0]\n2      (18.0, 80.0]\n3      (18.0, 80.0]\n4      (18.0, 80.0]\n           ...     \n886    (18.0, 80.0]\n887    (18.0, 80.0]\n888             NaN\n889    (18.0, 80.0]\n890    (18.0, 80.0]\nName: age, Length: 891, dtype: category\nCategories (2, interval[int64]): [(0, 18] < (18, 80]]\nclass               First    Second     Third\nsex    age                                   \nfemale (0, 18]   0.909091  1.000000  0.511628\n       (18, 80]  0.972973  0.900000  0.423729\nmale   (0, 18]   0.800000  0.600000  0.215686\n       (18, 80]  0.375000  0.071429  0.133663\n"
     ]
    }
   ],
   "source": [
    "age = pd.cut(titanic['age'], [0, 18, 80])\n",
    "print(age)\n",
    "print(titanic.pivot_table('survived', ['sex', age], 'class'))"
   ]
  },
  {
   "cell_type": "code",
   "execution_count": null,
   "metadata": {},
   "outputs": [],
   "source": []
  }
 ]
}
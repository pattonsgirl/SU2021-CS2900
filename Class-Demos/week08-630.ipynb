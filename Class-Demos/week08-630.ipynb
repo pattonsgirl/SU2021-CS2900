{
 "metadata": {
  "language_info": {
   "codemirror_mode": {
    "name": "ipython",
    "version": 3
   },
   "file_extension": ".py",
   "mimetype": "text/x-python",
   "name": "python",
   "nbconvert_exporter": "python",
   "pygments_lexer": "ipython3",
   "version": "3.8.10"
  },
  "orig_nbformat": 4,
  "kernelspec": {
   "name": "python3",
   "display_name": "Python 3.8.8 64-bit ('base': conda)"
  },
  "interpreter": {
   "hash": "b3ba2566441a7c06988d0923437866b63cedc61552a5af99d1f4fb67d367b25f"
  }
 },
 "nbformat": 4,
 "nbformat_minor": 2,
 "cells": [
  {
   "cell_type": "code",
   "execution_count": 16,
   "metadata": {},
   "outputs": [
    {
     "output_type": "stream",
     "name": "stdout",
     "text": [
      "[('name', '<U10'), ('age', '<i4'), ('weight', '<f8')]\n[('Alice', 25, 55. ) ('Bob', 45, 85.5) ('Cathy', 37, 68. )\n ('Doug', 19, 61.5)]\n['Alice' 'Bob' 'Cathy' 'Doug']\n('Alice', 25, 55.)\n[ True False False  True]\n[('Alice', 25, 55. ) ('Doug', 19, 61.5)]\n"
     ]
    },
    {
     "output_type": "execute_result",
     "data": {
      "text/plain": [
       "array(['Alice', 'Doug'], dtype='<U10')"
      ]
     },
     "metadata": {},
     "execution_count": 16
    }
   ],
   "source": [
    "import numpy as np\n",
    "\n",
    "name = ['Alice', 'Bob', 'Cathy', 'Doug']\n",
    "age = [25, 45, 37, 19]\n",
    "weight = [55.0, 85.5, 68.0, 61.5]\n",
    "\n",
    "x = np.zeros(4, dtype=int)\n",
    "#print(x)\n",
    "\n",
    "data = np.zeros(4, dtype={\n",
    "    'names':('name', 'age', 'weight'),\n",
    "    'formats':('U10', 'i4', 'f8')\n",
    "    }\n",
    "    )\n",
    "#print(data)\n",
    "print(data.dtype)\n",
    "\n",
    "data['name'] = name\n",
    "#print(data)\n",
    "data['age'] = age\n",
    "data['weight'] = weight\n",
    "print(data)\n",
    "\n",
    "print(data['name'])\n",
    "print(data[0])\n",
    "\n",
    "print(data['age'] < 30)\n",
    "print(data[(data['age'] < 30)])\n",
    "\n",
    "data[data['age'] < 30]['name'] \n",
    "\n"
   ]
  },
  {
   "cell_type": "code",
   "execution_count": 54,
   "metadata": {},
   "outputs": [
    {
     "output_type": "stream",
     "name": "stdout",
     "text": [
      "bob      23\ncarry    45\ndave     87\napple    32\ndtype: int64\n23\n23\nbob     23\ndave    87\ndtype: int64\nbob      23\napple    32\ndtype: int64\n"
     ]
    }
   ],
   "source": [
    "import pandas as pd\n",
    "data = pd.Series([23, 45, 87, 32], index=['bob','carry', 'dave','apple'])\n",
    "\n",
    "\n",
    "print(data)\n",
    "print(data[0])\n",
    "print(data['bob'])\n",
    "\n",
    "print(data[(data > 80) | (data < 30)])\n",
    "print(data[['bob', 'apple']])\n"
   ]
  },
  {
   "cell_type": "code",
   "execution_count": 56,
   "metadata": {},
   "outputs": [
    {
     "output_type": "stream",
     "name": "stdout",
     "text": [
      "Index(['California', 'Texas', 'New York', 'Florida', 'Illinois'], dtype='object')\nIndex(['California', 'Texas', 'New York', 'Florida', 'Illinois'], dtype='object')\n[38332521 26448193 19651127 19552860 12882135]\nCalifornia    38332521\nTexas         26448193\nNew York      19651127\nFlorida       19552860\nIllinois      12882135\ndtype: int64\nOhio            NaN\nTexas    26448193.0\ndtype: float64\nIndex(['Ohio', 'Texas'], dtype='object')\n38332521\nCalifornia    38332521\nTexas         26448193\nNew York      19651127\nFlorida       19552860\ndtype: int64\nCalifornia    38332521\nTexas         26448193\nNew York      19651127\ndtype: int64\n"
     ]
    }
   ],
   "source": [
    "population_dict = {'California': 38332521,\n",
    "                   'Texas': 26448193,\n",
    "                   'New York': 19651127,\n",
    "                   'Florida': 19552860,\n",
    "                   'Illinois': 12882135}\n",
    "\n",
    "data = pd.Series(population_dict)\n",
    "\n",
    "print(data.index)\n",
    "print(data.keys())\n",
    "print(data.values)\n",
    "\n",
    "print(data)\n",
    "\n",
    "population = pd.Series(population_dict, index=['Ohio', 'Texas'])\n",
    "\n",
    "print(population)\n",
    "print(population.index)\n",
    "\n",
    "print(data['California'])\n",
    "\n",
    "print(data['California':'Florida'])\n",
    "print(data[0:3])\n",
    "\n"
   ]
  },
  {
   "cell_type": "code",
   "execution_count": 61,
   "metadata": {},
   "outputs": [
    {
     "output_type": "stream",
     "name": "stdout",
     "text": [
      "            population    area\nCalifornia  38332521.0  423967\nFlorida     19552860.0  170312\nIllinois    12882135.0  149995\nNew York    19651127.0  141297\nOhio               NaN  999999\nTexas       26448193.0  695662\nCalifornia    38332521.0\nFlorida       19552860.0\nIllinois      12882135.0\nNew York      19651127.0\nOhio                 NaN\nTexas         26448193.0\nName: population, dtype: float64\n            population    area     density\nCalifornia  38332521.0  423967   90.413926\nFlorida     19552860.0  170312  114.806121\nIllinois    12882135.0  149995   85.883763\nNew York    19651127.0  141297  139.076746\nOhio               NaN  999999         NaN\nTexas       26448193.0  695662   38.018740\n"
     ]
    }
   ],
   "source": [
    "area_dict = {'California': 423967, 'Texas': 695662, 'New York': 141297,\n",
    "             'Florida': 170312, 'Illinois': 149995, 'Ohio': 999999}\n",
    "area = pd.Series(area_dict)\n",
    "\n",
    "#print(area)\n",
    "#print(data)\n",
    "\n",
    "states = pd.DataFrame({'population': data, 'area': area})\n",
    "print(states)\n",
    "\n",
    "#print(states.index)\n",
    "#print(states.columns)\n",
    "\n",
    "print(states['population'])\n",
    "#print(states.population)\n",
    "\n",
    "states['density'] = states['population'] / states['area']\n",
    "\n",
    "print(states)"
   ]
  },
  {
   "cell_type": "code",
   "execution_count": 84,
   "metadata": {},
   "outputs": [
    {
     "output_type": "stream",
     "name": "stdout",
     "text": [
      "            population    area     density\nCalifornia  38332521.0  423967   90.413926\nFlorida     19552860.0  170312  114.806121\nIllinois    12882135.0  149995   85.883763\nNew York    19651127.0  141297  139.076746\nOhio               NaN  999999         NaN\nTexas       26448193.0  695662   38.018740\n90.41392608386974\n90.41392608386974\n            population    area\nCalifornia  38332521.0  423967\nFlorida     19552860.0  170312\nIllinois    12882135.0  149995\nNew York    19651127.0  141297\nOhio               NaN  999999\nTexas       26448193.0  695662\n          population     density\nFlorida   19552860.0  114.806121\nNew York  19651127.0  139.076746\n          population     density\nFlorida   19552860.0  114.806121\nNew York  19651127.0  139.076746\n"
     ]
    }
   ],
   "source": [
    "print(states)\n",
    "\n",
    "#print(states.values)\n",
    "\n",
    "print(states.loc['California', 'density'])\n",
    "print(states.iloc[0,2])\n",
    "# print(states[0,2]) this is a nope\n",
    "# print(states.ix['California', 2])\n",
    "print(states.loc[:,'population':'area'])\n",
    "\n",
    "over_onehund = (states[states['density'] > 100])\n",
    "print(over_onehund[['population', 'density']])\n",
    "\n",
    "\n",
    "print(states.loc[states['density'] > 100, ['population','density']])"
   ]
  },
  {
   "cell_type": "code",
   "execution_count": 48,
   "metadata": {},
   "outputs": [
    {
     "output_type": "stream",
     "name": "stdout",
     "text": [
      "       age  weight\nAlice   25    55.0\nBob     45    85.5\nCathy   37    68.0\nDoug    19    61.5\n"
     ]
    }
   ],
   "source": [
    "name = ['Alice', 'Bob', 'Cathy', 'Doug']\n",
    "age = [25, 45, 37, 19]\n",
    "weight = [55.0, 85.5, 68.0, 61.5]\n",
    "\n",
    "ages = pd.Series(age, index=name)\n",
    "weights = pd.Series(weight, index=name)\n",
    "\n",
    "#print(ages)\n",
    "#print(weights)\n",
    "\n",
    "info = pd.DataFrame({'age': ages, 'weight': weights})\n",
    "\n",
    "print(info)"
   ]
  }
 ]
}
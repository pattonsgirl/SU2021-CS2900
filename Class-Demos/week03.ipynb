{
 "metadata": {
  "language_info": {
   "codemirror_mode": {
    "name": "ipython",
    "version": 3
   },
   "file_extension": ".py",
   "mimetype": "text/x-python",
   "name": "python",
   "nbconvert_exporter": "python",
   "pygments_lexer": "ipython3",
   "version": "3.8.5"
  },
  "orig_nbformat": 2,
  "kernelspec": {
   "name": "python385jvsc74a57bd0b3ba2566441a7c06988d0923437866b63cedc61552a5af99d1f4fb67d367b25f",
   "display_name": "Python 3.8.5 64-bit ('base': conda)"
  }
 },
 "nbformat": 4,
 "nbformat_minor": 2,
 "cells": [
  {
   "source": [
    "## Week 03\n",
    "\n",
    "- 5/24 Topics: \n",
    "- 5/26 Topics: "
   ],
   "cell_type": "markdown",
   "metadata": {}
  },
  {
   "cell_type": "code",
   "execution_count": 25,
   "metadata": {},
   "outputs": [
    {
     "output_type": "stream",
     "name": "stdout",
     "text": [
      "[42, 3, 5]\n{'kayleigh': [42, 3, 5], 'sarah': 53, 'ben': 4}\nSam is not in list\n"
     ]
    }
   ],
   "source": [
    "# dictionary format and usage\n",
    "#fav_nums = {'kayleigh':{'books':{'king': []}, 'nums':42}, 'sarah':53, 'ben': 4}\n",
    "fav_nums = {\n",
    "    'kayleigh':[42,3, 5], \n",
    "    'sarah':53, \n",
    "    'ben': 4}\n",
    "\n",
    "print(fav_nums['kayleigh'])\n",
    "#fav_nums['kayleigh'] = 90\n",
    "print(fav_nums)\n",
    "\n",
    "# get the error\n",
    "#fav_nums['sam']\n",
    "\n",
    "sam_num = fav_nums.get('sam', \"Sam is not in list\")\n",
    "print(sam_num)"
   ]
  },
  {
   "cell_type": "code",
   "execution_count": 1,
   "metadata": {},
   "outputs": [
    {
     "output_type": "error",
     "ename": "NameError",
     "evalue": "name 'fav_nums' is not defined",
     "traceback": [
      "\u001b[1;31m---------------------------------------------------------------------------\u001b[0m",
      "\u001b[1;31mNameError\u001b[0m                                 Traceback (most recent call last)",
      "\u001b[1;32m<ipython-input-1-10aabc2dd59b>\u001b[0m in \u001b[0;36m<module>\u001b[1;34m\u001b[0m\n\u001b[0;32m      1\u001b[0m \u001b[1;31m# Adding key pairs\u001b[0m\u001b[1;33m\u001b[0m\u001b[1;33m\u001b[0m\u001b[1;33m\u001b[0m\u001b[0m\n\u001b[1;32m----> 2\u001b[1;33m \u001b[0mfav_nums\u001b[0m\u001b[1;33m[\u001b[0m\u001b[1;34m'sam'\u001b[0m\u001b[1;33m]\u001b[0m \u001b[1;33m=\u001b[0m \u001b[1;36m25\u001b[0m\u001b[1;33m\u001b[0m\u001b[1;33m\u001b[0m\u001b[0m\n\u001b[0m\u001b[0;32m      3\u001b[0m \u001b[1;33m\u001b[0m\u001b[0m\n\u001b[0;32m      4\u001b[0m \u001b[0mprint\u001b[0m\u001b[1;33m(\u001b[0m\u001b[0mfav_nums\u001b[0m\u001b[1;33m)\u001b[0m\u001b[1;33m\u001b[0m\u001b[1;33m\u001b[0m\u001b[0m\n\u001b[0;32m      5\u001b[0m \u001b[1;31m# Changing values\u001b[0m\u001b[1;33m\u001b[0m\u001b[1;33m\u001b[0m\u001b[1;33m\u001b[0m\u001b[0m\n",
      "\u001b[1;31mNameError\u001b[0m: name 'fav_nums' is not defined"
     ]
    }
   ],
   "source": [
    "# Adding key pairs\n",
    "fav_nums['sam'] = 25\n",
    "\n",
    "print(fav_nums)\n",
    "# Changing values\n",
    "fav_nums['sam'] = 32\n",
    "\n",
    "print(fav_nums)"
   ]
  },
  {
   "cell_type": "code",
   "execution_count": 31,
   "metadata": {},
   "outputs": [
    {
     "output_type": "stream",
     "name": "stdout",
     "text": [
      "Name: Kayleigh\nFavorite number is: [42, 3, 5]\nName: Sarah\nFavorite number is: 53\nName: Ben\nFavorite number is: 4\nkayleigh\nsarah\nben\n[42, 3, 5]\n53\n4\nend\n"
     ]
    }
   ],
   "source": [
    "# having python make lists out of dictionary contents\n",
    "for key, value in fav_nums.items():\n",
    "    print(f\"Name: {key.title()}\")\n",
    "    print(f\"Favorite number is: {value}\")\n",
    "\n",
    "for key in fav_nums.keys():\n",
    "    print(key)\n",
    "\n",
    "for value in fav_nums.values():\n",
    "    print(value)\n",
    "\n",
    "print(\"end\")"
   ]
  },
  {
   "cell_type": "code",
   "execution_count": 44,
   "metadata": {},
   "outputs": [
    {
     "output_type": "stream",
     "name": "stdout",
     "text": [
      "dict_keys(['kayleigh', 'sarah', 'ben'])\nGeorge is not in dictionary\n[42, 3, 5]\nSam is not in dictionary\n4\nGeorge does not exist in dictionary\n[42, 3, 5]\nSam does not exist in dictionary\n4\n"
     ]
    }
   ],
   "source": [
    "# check if dictionary contains key in a list\n",
    "people = ['george', 'kayleigh', 'sam', 'ben']\n",
    "fav_nums_keys = fav_nums.keys()\n",
    "print(fav_nums_keys)\n",
    "\n",
    "for person in people:\n",
    "    if person in fav_nums.keys():\n",
    "        # use .get and send person instead?\n",
    "        #print(\"Cool!\")\n",
    "        print(fav_nums[person])\n",
    "    else:\n",
    "        print(f\"{person.title()} is not in dictionary\")\n",
    "\n",
    "for person in people:\n",
    "    nums = fav_nums.get(person, f\"{person.title()} does not exist in dictionary\")\n",
    "    print(nums)"
   ]
  },
  {
   "cell_type": "code",
   "execution_count": 51,
   "metadata": {},
   "outputs": [
    {
     "output_type": "stream",
     "name": "stdout",
     "text": [
      "I am 42 too\nI am 42 too\n"
     ]
    }
   ],
   "source": [
    "# getting input and converting types\n",
    "message = input(\"How are you?\")\n",
    "print(f\"I am {message} too\")\n",
    "print(f\"I am {int(message)} too\")\n"
   ]
  },
  {
   "cell_type": "code",
   "execution_count": 2,
   "metadata": {},
   "outputs": [
    {
     "output_type": "stream",
     "name": "stdout",
     "text": [
      "Hello\n"
     ]
    }
   ],
   "source": [
    "print(\"Hello\")"
   ]
  },
  {
   "cell_type": "code",
   "execution_count": 8,
   "metadata": {},
   "outputs": [
    {
     "output_type": "stream",
     "name": "stdout",
     "text": [
      "hi: 3\nhi: 4\nhi: 7\nstuff happening after loop\n"
     ]
    }
   ],
   "source": [
    "# play with breaks and continues\n",
    "num = 3\n",
    "while num < 8:\n",
    "    print(f\"hi: {num}\")\n",
    "    num = num + 1\n",
    "    #break\n",
    "    if num == 5:\n",
    "        num = 7\n",
    "        continue\n",
    "print (\"stuff happening after loop\")"
   ]
  },
  {
   "cell_type": "code",
   "execution_count": 11,
   "metadata": {},
   "outputs": [],
   "source": [
    "# quit it\n",
    "user_input = \"not quitting\"\n",
    "#user_input = input(\"Give me something or type 'quit' to stop: \")\n",
    "while user_input.lower() != 'quit': # or user_input.lower() != 'q':\n",
    "    user_input = input(\"Give me something or type 'quit' to stop: \")\n",
    "\n"
   ]
  },
  {
   "cell_type": "code",
   "execution_count": 1,
   "metadata": {
    "tags": []
   },
   "outputs": [
    {
     "output_type": "stream",
     "name": "stdout",
     "text": [
      "[]\n['play with python', 'walk dog', 'feed dog', 'write email']\n"
     ]
    }
   ],
   "source": [
    "# add todos to dones and have todos be empty by the end\n",
    "todos = [\"write email\", \"feed dog\", \"walk dog\", \"play with python\"]\n",
    "dones = []\n",
    "\n",
    "while todos:\n",
    "    dones.append(todos.pop())\n",
    "    #task = todos.pop\n",
    "    #print(task)\n",
    "    #dones.append(task)\n",
    "\n",
    "print(todos)\n",
    "print(dones)"
   ]
  },
  {
   "cell_type": "code",
   "execution_count": 4,
   "metadata": {},
   "outputs": [
    {
     "output_type": "stream",
     "name": "stdout",
     "text": [
      "['write email', 'feed dog', 'walk dog', 'play with python', 'write email']\n['feed dog', 'walk dog', 'play with python']\n"
     ]
    }
   ],
   "source": [
    "# while loop to remove all items in a list\n",
    "todos = [\"write email\", \"feed dog\", \"walk dog\", \"play with python\", \"write email\"]\n",
    "clean_todos = []\n",
    "print(todos)\n",
    "done = \"write email\"\n",
    "while done in todos:\n",
    "    todos.remove(done)\n",
    "print(todos)"
   ]
  },
  {
   "cell_type": "code",
   "execution_count": 3,
   "metadata": {},
   "outputs": [
    {
     "output_type": "stream",
     "name": "stdout",
     "text": [
      "{'sam': '78', 'brad': '21'}\n"
     ]
    }
   ],
   "source": [
    "# look for quit but otherwise enter new user\n",
    "user_input = \"not quitting\"\n",
    "user_dictionary = {}\n",
    "#user_input = input(\"Give me something or type 'quit' to stop: \")\n",
    "while user_input.lower() != 'quit': # or user_input.lower() != 'q':\n",
    "    user_input = input(\"Give me a key or type 'quit' to stop: \")\n",
    "    if user_input.lower() == 'quit':\n",
    "        break\n",
    "    value = input(f\"For {user_input}, give me their favorite number: \")\n",
    "    user_dictionary[user_input] = int(value)\n",
    "\n",
    "print(user_dictionary)\n"
   ]
  },
  {
   "cell_type": "code",
   "execution_count": 21,
   "metadata": {},
   "outputs": [
    {
     "output_type": "stream",
     "name": "stdout",
     "text": [
      "hello world!\n"
     ]
    }
   ],
   "source": [
    "#import random\n",
    "# functions\n",
    "def my_func():\n",
    "    \"\"\"This function will print hello world\"\"\"\n",
    "    print(\"hello world!\")\n",
    "\n",
    "my_func()\n",
    "\n",
    "# this works because jupyter notebook are a hybrid of writing code in a .py file and an interactive shell\n",
    "# do NOT assume this will work in a .py file\n",
    "#my_func?\n",
    "message = \"hello!\"\n",
    "#message?\n",
    "\n"
   ]
  },
  {
   "cell_type": "code",
   "execution_count": 34,
   "metadata": {},
   "outputs": [
    {
     "output_type": "stream",
     "name": "stdout",
     "text": [
      "Hello user Jason, your number is: 5\nHello user 5, your number is: Jason\nHello user Jason, your number is: 5\nHello user Ben, your number is: 42\nHello user John, your number is: 89\n('Hello user John, your number is: 89', 67, 89)\n"
     ]
    }
   ],
   "source": [
    "# functions: parameter definitions\n",
    "def greet_user(username, num = 42, sec_num = ''):\n",
    "    \"\"\" This function greets a user \"\"\"\n",
    "    print(f\"Hello user {username}, your number is: {num}\")\n",
    "    #return(\"Finished\")\n",
    "    return(f\"Hello user {username}, your number is: {num}\", 67, 89)\n",
    "\n",
    "greet_user(\"Jason\", 5)\n",
    "greet_user(5, \"Jason\")\n",
    "greet_user(num = 5, username = \"Jason\")\n",
    "greet_user (\"Ben\")\n",
    "message = greet_user(\"John\", 89, 42)\n",
    "print(message)\n"
   ]
  },
  {
   "cell_type": "code",
   "execution_count": 42,
   "metadata": {},
   "outputs": [
    {
     "output_type": "stream",
     "name": "stdout",
     "text": [
      "List inside function: [5, 3, 92, 5, 2, 9]\nOriginal list outside function: [5, 3, 9, 5, 2, 9]\n"
     ]
    }
   ],
   "source": [
    "# functions: playing with lists - copy or point to original contents?\n",
    "def values(list_nums):\n",
    "    list_nums[2] = 92\n",
    "    print(f\"List inside function: {list_nums}\")\n",
    "\n",
    "nums = [5,3, 9,5, 2, 9]\n",
    "values(nums[:])\n",
    "print(f\"Original list outside function: {nums}\")"
   ]
  },
  {
   "cell_type": "code",
   "execution_count": 45,
   "metadata": {},
   "outputs": [
    {
     "output_type": "stream",
     "name": "stdout",
     "text": [
      "('mushrooms', 'onions', 'pepp')\nmushrooms\nonions\npepp\n('cheese',)\ncheese\n"
     ]
    }
   ],
   "source": [
    "# functions: sending multiple arguments as tuple\n",
    "def pizza(*toppings):\n",
    "    print(toppings)\n",
    "    for topping in toppings: \n",
    "        print(f\"{topping}\")\n",
    "\n",
    "pizza ('mushrooms', 'onions', 'pepp')\n",
    "pizza ('cheese')"
   ]
  },
  {
   "cell_type": "code",
   "execution_count": 47,
   "metadata": {},
   "outputs": [
    {
     "output_type": "stream",
     "name": "stdout",
     "text": [
      "First name: Albert\nLast name: Einstein\n{'location': 'Princeton', 'field': 'physics', 'first': 'albert', 'last': 'einstein'}\n"
     ]
    }
   ],
   "source": [
    "# functions: set up a dictionary with optional info, add info to dictionary in function\n",
    "def build_profile(first, last, **user_info):\n",
    "    print(f\"First name: {first.title()}\")\n",
    "    user_info['first'] = first\n",
    "    print(f\"Last name: {last.title()}\")\n",
    "    user_info['last'] = last\n",
    "    return (user_info)\n",
    "\n",
    "data = build_profile(\"albert\", \"einstein\", location = 'Princeton', field = 'physics')\n",
    "print(data)\n"
   ]
  },
  {
   "cell_type": "code",
   "execution_count": 48,
   "metadata": {},
   "outputs": [
    {
     "output_type": "stream",
     "name": "stdout",
     "text": [
      "Hello World!\n42\n"
     ]
    }
   ],
   "source": [
    "# reading from standard files\n",
    "with open(\"input.txt\") as f:\n",
    "    contents = f.read()\n",
    "\n",
    "print(contents)\n",
    "#with open (\"C:/Users/w010ked/Desktop/not-here.txt\")"
   ]
  },
  {
   "cell_type": "code",
   "execution_count": 76,
   "metadata": {},
   "outputs": [],
   "source": [
    "# writing out to a file:\n",
    "#   'w' will open for writing and overwrite previous contents\n",
    "#   'a' will open for writing and append to previous contents\n",
    "with open(\"output.txt\", 'a') as f:\n",
    "    f.write(\"It's raining\\n\")\n"
   ]
  },
  {
   "cell_type": "code",
   "execution_count": 66,
   "metadata": {},
   "outputs": [
    {
     "output_type": "error",
     "ename": "FileNotFoundError",
     "evalue": "[Errno 2] No such file or directory: 'dne.txt'",
     "traceback": [
      "\u001b[1;31m---------------------------------------------------------------------------\u001b[0m",
      "\u001b[1;31mFileNotFoundError\u001b[0m                         Traceback (most recent call last)",
      "\u001b[1;32m<ipython-input-66-0e18054d9829>\u001b[0m in \u001b[0;36m<module>\u001b[1;34m\u001b[0m\n\u001b[1;32m----> 1\u001b[1;33m \u001b[1;32mwith\u001b[0m \u001b[0mopen\u001b[0m \u001b[1;33m(\u001b[0m\u001b[1;34m\"dne.txt\"\u001b[0m\u001b[1;33m)\u001b[0m \u001b[1;32mas\u001b[0m \u001b[0mf\u001b[0m\u001b[1;33m:\u001b[0m\u001b[1;33m\u001b[0m\u001b[1;33m\u001b[0m\u001b[0m\n\u001b[0m\u001b[0;32m      2\u001b[0m     \u001b[0mf\u001b[0m\u001b[1;33m.\u001b[0m\u001b[0mread\u001b[0m\u001b[1;33m(\u001b[0m\u001b[1;33m)\u001b[0m\u001b[1;33m\u001b[0m\u001b[1;33m\u001b[0m\u001b[0m\n",
      "\u001b[1;31mFileNotFoundError\u001b[0m: [Errno 2] No such file or directory: 'dne.txt'"
     ]
    }
   ],
   "source": [
    "# files: play with reading something that doesn't yet exist\n",
    "with open (\"dne.txt\") as f:\n",
    "    f.read()"
   ]
  },
  {
   "cell_type": "code",
   "execution_count": 74,
   "metadata": {},
   "outputs": [
    {
     "output_type": "stream",
     "name": "stdout",
     "text": [
      "Hi!\n67\n"
     ]
    }
   ],
   "source": [
    "# using try-catch statements to catch specific errors, like FileNotFoundError\n",
    "user_file = input(\"Input file name: \")\n",
    "try:\n",
    "    with open (user_file) as f:\n",
    "        contents = f.read()\n",
    "except FileNotFoundError: \n",
    "    print(\"file not found.  Check your path and try again\")\n",
    "else:\n",
    "    print(contents)\n"
   ]
  },
  {
   "cell_type": "code",
   "execution_count": 75,
   "metadata": {},
   "outputs": [
    {
     "output_type": "stream",
     "name": "stdout",
     "text": [
      "hello world!\n"
     ]
    }
   ],
   "source": [
    "# verifying the file import works\n",
    "import func_def\n",
    "my_func()"
   ]
  },
  {
   "source": [
    "Additional files and what they demonstrated:\n",
    "- main.py - used to call function defined in func_def.py\n",
    "- func_def.py - where the function called by main.py is defined\n",
    "- input.txt, output.txt, and dne.txt are basic text files used to play with the file i/o examples in class"
   ],
   "cell_type": "markdown",
   "metadata": {}
  }
 ]
}
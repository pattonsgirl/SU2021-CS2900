{
 "metadata": {
  "language_info": {
   "codemirror_mode": {
    "name": "ipython",
    "version": 3
   },
   "file_extension": ".py",
   "mimetype": "text/x-python",
   "name": "python",
   "nbconvert_exporter": "python",
   "pygments_lexer": "ipython3",
   "version": "3.8.5"
  },
  "orig_nbformat": 2,
  "kernelspec": {
   "name": "python385jvsc74a57bd0b3ba2566441a7c06988d0923437866b63cedc61552a5af99d1f4fb67d367b25f",
   "display_name": "Python 3.8.5 64-bit ('base': conda)"
  }
 },
 "nbformat": 4,
 "nbformat_minor": 2,
 "cells": [
  {
   "source": [
    "## Week 03\n",
    "\n",
    "- 5/24 Topics: \n",
    "- 5/26 Topics: "
   ],
   "cell_type": "markdown",
   "metadata": {}
  },
  {
   "cell_type": "code",
   "execution_count": 1,
   "metadata": {},
   "outputs": [
    {
     "output_type": "error",
     "ename": "NameError",
     "evalue": "name 'fav_nums' is not defined",
     "traceback": [
      "\u001b[1;31m---------------------------------------------------------------------------\u001b[0m",
      "\u001b[1;31mNameError\u001b[0m                                 Traceback (most recent call last)",
      "\u001b[1;32m<ipython-input-1-10aabc2dd59b>\u001b[0m in \u001b[0;36m<module>\u001b[1;34m\u001b[0m\n\u001b[0;32m      1\u001b[0m \u001b[1;31m# Adding key pairs\u001b[0m\u001b[1;33m\u001b[0m\u001b[1;33m\u001b[0m\u001b[1;33m\u001b[0m\u001b[0m\n\u001b[1;32m----> 2\u001b[1;33m \u001b[0mfav_nums\u001b[0m\u001b[1;33m[\u001b[0m\u001b[1;34m'sam'\u001b[0m\u001b[1;33m]\u001b[0m \u001b[1;33m=\u001b[0m \u001b[1;36m25\u001b[0m\u001b[1;33m\u001b[0m\u001b[1;33m\u001b[0m\u001b[0m\n\u001b[0m\u001b[0;32m      3\u001b[0m \u001b[1;33m\u001b[0m\u001b[0m\n\u001b[0;32m      4\u001b[0m \u001b[0mprint\u001b[0m\u001b[1;33m(\u001b[0m\u001b[0mfav_nums\u001b[0m\u001b[1;33m)\u001b[0m\u001b[1;33m\u001b[0m\u001b[1;33m\u001b[0m\u001b[0m\n\u001b[0;32m      5\u001b[0m \u001b[1;31m# Changing values\u001b[0m\u001b[1;33m\u001b[0m\u001b[1;33m\u001b[0m\u001b[1;33m\u001b[0m\u001b[0m\n",
      "\u001b[1;31mNameError\u001b[0m: name 'fav_nums' is not defined"
     ]
    }
   ],
   "source": [
    "# Adding key pairs\n",
    "fav_nums['sam'] = 25\n",
    "\n",
    "print(fav_nums)\n",
    "# Changing values\n",
    "fav_nums['sam'] = 32\n",
    "\n",
    "print(fav_nums)"
   ]
  },
  {
   "cell_type": "code",
   "execution_count": 25,
   "metadata": {},
   "outputs": [
    {
     "output_type": "stream",
     "name": "stdout",
     "text": [
      "[42, 3, 5]\n{'kayleigh': [42, 3, 5], 'sarah': 53, 'ben': 4}\nSam is not in list\n"
     ]
    }
   ],
   "source": [
    "#fav_nums = {'kayleigh':{'books':{'king': []}, 'nums':42}, 'sarah':53, 'ben': 4}\n",
    "fav_nums = {\n",
    "    'kayleigh':[42,3, 5], \n",
    "    'sarah':53, \n",
    "    'ben': 4}\n",
    "\n",
    "print(fav_nums['kayleigh'])\n",
    "#fav_nums['kayleigh'] = 90\n",
    "print(fav_nums)\n",
    "\n",
    "# get the error\n",
    "#fav_nums['sam']\n",
    "\n",
    "sam_num = fav_nums.get('sam', \"Sam is not in list\")\n",
    "print(sam_num)"
   ]
  },
  {
   "cell_type": "code",
   "execution_count": 31,
   "metadata": {},
   "outputs": [
    {
     "output_type": "stream",
     "name": "stdout",
     "text": [
      "Name: Kayleigh\nFavorite number is: [42, 3, 5]\nName: Sarah\nFavorite number is: 53\nName: Ben\nFavorite number is: 4\nkayleigh\nsarah\nben\n[42, 3, 5]\n53\n4\nend\n"
     ]
    }
   ],
   "source": [
    "for key, value in fav_nums.items():\n",
    "    print(f\"Name: {key.title()}\")\n",
    "    print(f\"Favorite number is: {value}\")\n",
    "\n",
    "for key in fav_nums.keys():\n",
    "    print(key)\n",
    "\n",
    "for value in fav_nums.values():\n",
    "    print(value)\n",
    "\n",
    "print(\"end\")"
   ]
  },
  {
   "cell_type": "code",
   "execution_count": 44,
   "metadata": {},
   "outputs": [
    {
     "output_type": "stream",
     "name": "stdout",
     "text": [
      "dict_keys(['kayleigh', 'sarah', 'ben'])\nGeorge is not in dictionary\n[42, 3, 5]\nSam is not in dictionary\n4\nGeorge does not exist in dictionary\n[42, 3, 5]\nSam does not exist in dictionary\n4\n"
     ]
    }
   ],
   "source": [
    "people = ['george', 'kayleigh', 'sam', 'ben']\n",
    "fav_nums_keys = fav_nums.keys()\n",
    "print(fav_nums_keys)\n",
    "\n",
    "for person in people:\n",
    "    if person in fav_nums.keys():\n",
    "        # use .get and send person instead?\n",
    "        #print(\"Cool!\")\n",
    "        print(fav_nums[person])\n",
    "    else:\n",
    "        print(f\"{person.title()} is not in dictionary\")\n",
    "\n",
    "for person in people:\n",
    "    nums = fav_nums.get(person, f\"{person.title()} does not exist in dictionary\")\n",
    "    print(nums)"
   ]
  },
  {
   "cell_type": "code",
   "execution_count": 51,
   "metadata": {},
   "outputs": [
    {
     "output_type": "stream",
     "name": "stdout",
     "text": [
      "I am 42 too\nI am 42 too\n"
     ]
    }
   ],
   "source": [
    "message = input(\"How are you?\")\n",
    "print(f\"I am {message} too\")\n",
    "print(f\"I am {int(message)} too\")\n"
   ]
  },
  {
   "cell_type": "code",
   "execution_count": 2,
   "metadata": {},
   "outputs": [
    {
     "output_type": "stream",
     "name": "stdout",
     "text": [
      "Hello\n"
     ]
    }
   ],
   "source": [
    "print(\"Hello\")"
   ]
  },
  {
   "cell_type": "code",
   "execution_count": 8,
   "metadata": {},
   "outputs": [
    {
     "output_type": "stream",
     "name": "stdout",
     "text": [
      "hi: 3\nhi: 4\nhi: 7\nstuff happening after loop\n"
     ]
    }
   ],
   "source": [
    "num = 3\n",
    "while num < 8:\n",
    "    print(f\"hi: {num}\")\n",
    "    num = num + 1\n",
    "    #break\n",
    "    if num == 5:\n",
    "        num = 7\n",
    "        continue\n",
    "print (\"stuff happening after loop\")"
   ]
  },
  {
   "cell_type": "code",
   "execution_count": 11,
   "metadata": {},
   "outputs": [],
   "source": [
    "# quit it\n",
    "user_input = \"not quitting\"\n",
    "#user_input = input(\"Give me something or type 'quit' to stop: \")\n",
    "while user_input.lower() != 'quit': # or user_input.lower() != 'q':\n",
    "    user_input = input(\"Give me something or type 'quit' to stop: \")\n",
    "\n"
   ]
  },
  {
   "cell_type": "code",
   "execution_count": 1,
   "metadata": {
    "tags": []
   },
   "outputs": [
    {
     "output_type": "stream",
     "name": "stdout",
     "text": [
      "[]\n['play with python', 'walk dog', 'feed dog', 'write email']\n"
     ]
    }
   ],
   "source": [
    "todos = [\"write email\", \"feed dog\", \"walk dog\", \"play with python\"]\n",
    "dones = []\n",
    "\n",
    "while todos:\n",
    "    dones.append(todos.pop())\n",
    "    #task = todos.pop\n",
    "    #print(task)\n",
    "    #dones.append(task)\n",
    "\n",
    "print(todos)\n",
    "print(dones)"
   ]
  },
  {
   "cell_type": "code",
   "execution_count": 4,
   "metadata": {},
   "outputs": [
    {
     "output_type": "stream",
     "name": "stdout",
     "text": [
      "['write email', 'feed dog', 'walk dog', 'play with python', 'write email']\n['feed dog', 'walk dog', 'play with python']\n"
     ]
    }
   ],
   "source": [
    "todos = [\"write email\", \"feed dog\", \"walk dog\", \"play with python\", \"write email\"]\n",
    "clean_todos = []\n",
    "print(todos)\n",
    "done = \"write email\"\n",
    "while done in todos:\n",
    "    todos.remove(done)\n",
    "print(todos)"
   ]
  },
  {
   "cell_type": "code",
   "execution_count": 3,
   "metadata": {},
   "outputs": [
    {
     "output_type": "stream",
     "name": "stdout",
     "text": [
      "{'sam': '78', 'brad': '21'}\n"
     ]
    }
   ],
   "source": [
    "# quit it\n",
    "user_input = \"not quitting\"\n",
    "user_dictionary = {}\n",
    "#user_input = input(\"Give me something or type 'quit' to stop: \")\n",
    "while user_input.lower() != 'quit': # or user_input.lower() != 'q':\n",
    "    user_input = input(\"Give me a key or type 'quit' to stop: \")\n",
    "    if user_input.lower() == 'quit':\n",
    "        break\n",
    "    value = input(f\"For {user_input}, give me their favorite number: \")\n",
    "    user_dictionary[user_input] = int(value)\n",
    "\n",
    "print(user_dictionary)\n"
   ]
  },
  {
   "cell_type": "code",
   "execution_count": null,
   "metadata": {},
   "outputs": [],
   "source": []
  }
 ]
}
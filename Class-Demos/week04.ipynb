{
 "metadata": {
  "language_info": {
   "codemirror_mode": {
    "name": "ipython",
    "version": 3
   },
   "file_extension": ".py",
   "mimetype": "text/x-python",
   "name": "python",
   "nbconvert_exporter": "python",
   "pygments_lexer": "ipython3",
   "version": "3.8.5"
  },
  "orig_nbformat": 2,
  "kernelspec": {
   "name": "python385jvsc74a57bd0b3ba2566441a7c06988d0923437866b63cedc61552a5af99d1f4fb67d367b25f",
   "display_name": "Python 3.8.5 64-bit ('base': conda)"
  }
 },
 "nbformat": 4,
 "nbformat_minor": 2,
 "cells": [
  {
   "source": [
    "## Week 04 \n",
    "\n",
    "6/2 - text files, JSON, and YAML"
   ],
   "cell_type": "markdown",
   "metadata": {}
  },
  {
   "cell_type": "code",
   "execution_count": 11,
   "metadata": {},
   "outputs": [
    {
     "output_type": "stream",
     "name": "stdout",
     "text": [
      "Hello World!\n42\n67\n89\nfluff\n"
     ]
    }
   ],
   "source": [
    "# stripping new lines from file, and stripping whitespace \n",
    "with open(\"input.txt\") as f:\n",
    "    for line in f:\n",
    "        print(line.strip())"
   ]
  },
  {
   "cell_type": "code",
   "execution_count": 17,
   "metadata": {},
   "outputs": [
    {
     "output_type": "stream",
     "name": "stdout",
     "text": [
      "['Hello World!\\n', '42\\n', '67\\n', '89\\n', 'fluff']\nHello World!\n\n42\n\n67\n\n89\n\nfluff\n"
     ]
    }
   ],
   "source": [
    "# read lines and store as list\n",
    "with open(\"input.txt\") as f:\n",
    "    lines = f.readlines()\n",
    "print(lines)\n",
    "for line in lines:\n",
    "    print(line)"
   ]
  },
  {
   "cell_type": "code",
   "execution_count": 20,
   "metadata": {},
   "outputs": [
    {
     "output_type": "stream",
     "name": "stdout",
     "text": [
      "You're a part of pi!\nYou're a part of pi!\n"
     ]
    }
   ],
   "source": [
    "# Example: bday in pi.  Check each line of pi-million.txt and see if user input is in line\n",
    "bday = input(\"Give me a b-day in DDMMYY format: \")\n",
    "with open(\"pi-million.txt\") as f:\n",
    "    lines = f.readlines()\n",
    "wasinpi = False\n",
    "for line in lines:\n",
    "    if bday in line:\n",
    "        print(\"You're a part of pi!\")\n",
    "        wasinpi = True\n",
    "if wasinpi == False:\n",
    "    print(\"Your bday was not in the first million digits of pi\")\n"
   ]
  },
  {
   "cell_type": "code",
   "execution_count": 26,
   "metadata": {},
   "outputs": [],
   "source": [
    "# JSON files, need to import library / module, output list (this example is w/o formatting)\n",
    "import json\n",
    "\n",
    "num_list = [5, \"mixed list\", 98, 90.34]\n",
    "\n",
    "with open(\"list.json\", \"w\") as f:\n",
    "    json.dump(num_list, f)\n",
    "\n"
   ]
  },
  {
   "cell_type": "code",
   "execution_count": 24,
   "metadata": {},
   "outputs": [],
   "source": [
    "# JSON files, need to import library / module, output list (this example is WITH formatting)\n",
    "\n",
    "import json\n",
    "\n",
    "my_dictionary = {\"Billy\": 89, \"Jane\": 78, \"Jill\": 21}\n",
    "\n",
    "with open(\"dict.json\", \"w\") as f:\n",
    "    json.dump(my_dictionary, f, indent = 4)"
   ]
  },
  {
   "cell_type": "code",
   "execution_count": 33,
   "metadata": {},
   "outputs": [
    {
     "output_type": "stream",
     "name": "stdout",
     "text": [
      "21\n89\n78\n21\nBilly's favorite number is 89\nJane's favorite number is 78\nJill's favorite number is 21\n"
     ]
    }
   ],
   "source": [
    "# JSON files, read in .json contents, output dictionary key / value pairs\n",
    "\n",
    "with open (\"dict.json\") as f:\n",
    "    file_dictionary = json.load(f)\n",
    "\n",
    "print(file_dictionary[\"Jill\"])\n",
    "for key in file_dictionary.keys():\n",
    "    print(file_dictionary[key])\n",
    "for key, value in file_dictionary.items():\n",
    "    print(f\"{key}'s favorite number is {value}\")"
   ]
  },
  {
   "cell_type": "code",
   "execution_count": 34,
   "metadata": {},
   "outputs": [],
   "source": [
    "# JSON: if adding new values to dictionary, need to output / overwrite file contents to update\n",
    "file_dictionary[\"Bob\"] = 42\n",
    "\n",
    "file_dictionary[\"Candy\"] = [90, 67, 123]\n",
    "\n",
    "f.close()\n",
    "with open (\"dict.json\", \"w\") as f:\n",
    "    json.dump(file_dictionary, f, indent = 4)\n",
    "f.close()\n"
   ]
  },
  {
   "cell_type": "code",
   "execution_count": 42,
   "metadata": {},
   "outputs": [],
   "source": [
    "# YAML files, include module, output lists to file\n",
    "import yaml\n",
    "\n",
    "info = [{'sports' : ['soccer', 'football', 'basketball', 'cricket', 'hockey', 'table tennis']}, {'countries' : ['Pakistan', 'USA', 'India', 'China', 'Germany', 'France', 'Spain']}]\n",
    "my_nums = [4, 2, 9, 12]\n",
    "\n",
    "with open(\"list.yaml\", \"w\") as f:\n",
    "    yaml.dump(my_nums, f)\n",
    "    yaml.dump(info, f)\n",
    "\n"
   ]
  },
  {
   "cell_type": "code",
   "execution_count": 40,
   "metadata": {},
   "outputs": [],
   "source": [
    "# YAML files, include module, output dictionary to file\n",
    "\n",
    "with open(\"dict.yaml\", \"a\") as f:\n",
    "    yaml.dump(file_dictionary, f)"
   ]
  },
  {
   "cell_type": "code",
   "execution_count": 47,
   "metadata": {},
   "outputs": [
    {
     "output_type": "stream",
     "name": "stdout",
     "text": [
      "Billy's favorite number is 89\nBob's favorite number is 42\nCandy's favorite number is [90, 67, 123]\nJane's favorite number is 78\nJill's favorite number is 21\n4\n2\n9\n12\n{'sports': ['soccer', 'football', 'basketball', 'cricket', 'hockey', 'table tennis']}\n{'countries': ['Pakistan', 'USA', 'India', 'China', 'Germany', 'France', 'Spain']}\n"
     ]
    }
   ],
   "source": [
    "f.close()\n",
    "\n",
    "# YAML files, read in from list / dictionary file, play with outputs\n",
    "with open(\"dict.yaml\") as f:\n",
    "    yaml_dict = yaml.full_load(f)\n",
    "for key, value in yaml_dict.items():\n",
    "    print(f\"{key}'s favorite number is {value}\")\n",
    "\n",
    "f.close()\n",
    "\n",
    "with open(\"list.yaml\") as f:\n",
    "    yaml_list = yaml.full_load(f)\n",
    "for item in yaml_list:\n",
    "    print(item)"
   ]
  }
 ]
}